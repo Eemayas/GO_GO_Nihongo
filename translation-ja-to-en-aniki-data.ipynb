{
 "cells": [
  {
   "cell_type": "code",
   "execution_count": 1,
   "id": "270703be",
   "metadata": {
    "execution": {
     "iopub.execute_input": "2024-12-12T13:15:11.536180Z",
     "iopub.status.busy": "2024-12-12T13:15:11.535806Z",
     "iopub.status.idle": "2024-12-12T13:15:11.543249Z",
     "shell.execute_reply": "2024-12-12T13:15:11.542450Z"
    },
    "id": "gU9ZJU7v-QB-",
    "papermill": {
     "duration": 0.023925,
     "end_time": "2024-12-12T13:15:11.544848",
     "exception": false,
     "start_time": "2024-12-12T13:15:11.520923",
     "status": "completed"
    },
    "tags": []
   },
   "outputs": [],
   "source": [
    "kaggle=1\n",
    "collab=0"
   ]
  },
  {
   "cell_type": "code",
   "execution_count": 2,
   "id": "603d0b71",
   "metadata": {
    "execution": {
     "iopub.execute_input": "2024-12-12T13:15:11.570177Z",
     "iopub.status.busy": "2024-12-12T13:15:11.569917Z",
     "iopub.status.idle": "2024-12-12T13:15:11.581934Z",
     "shell.execute_reply": "2024-12-12T13:15:11.581081Z"
    },
    "id": "PkSNB_ee-Q-A",
    "papermill": {
     "duration": 0.025763,
     "end_time": "2024-12-12T13:15:11.583445",
     "exception": false,
     "start_time": "2024-12-12T13:15:11.557682",
     "status": "completed"
    },
    "tags": []
   },
   "outputs": [
    {
     "name": "stdout",
     "output_type": "stream",
     "text": [
      "/kaggle/input/go-go-nihongo\n",
      "/kaggle/input/go-go-nihongo\n"
     ]
    }
   ],
   "source": [
    "\n",
    "if kaggle:\n",
    "    import os\n",
    "    os.listdir(\"/kaggle/input/go-go-nihongo\")\n",
    "    # !cd /kaggle/input/go-go-nihongo\n",
    "    # print(os.getcwd())\n",
    "    %cd /kaggle/input/go-go-nihongo\n",
    "    print(os.getcwd())"
   ]
  },
  {
   "cell_type": "code",
   "execution_count": 3,
   "id": "21c20bf2",
   "metadata": {
    "execution": {
     "iopub.execute_input": "2024-12-12T13:15:11.607034Z",
     "iopub.status.busy": "2024-12-12T13:15:11.606770Z",
     "iopub.status.idle": "2024-12-12T13:15:11.610720Z",
     "shell.execute_reply": "2024-12-12T13:15:11.609950Z"
    },
    "id": "fln_7HqX8Bi4",
    "outputId": "a153ed15-d233-4506-d79d-9d0714b345ad",
    "papermill": {
     "duration": 0.017412,
     "end_time": "2024-12-12T13:15:11.612252",
     "exception": false,
     "start_time": "2024-12-12T13:15:11.594840",
     "status": "completed"
    },
    "tags": []
   },
   "outputs": [],
   "source": [
    "if collab:\n",
    "  from google.colab import drive\n",
    "  drive.mount('/content/drive')\n",
    "\n",
    "  %cd /content/drive/MyDrive/Projects/GO_GO_Nihongo"
   ]
  },
  {
   "cell_type": "code",
   "execution_count": 4,
   "id": "cce27a96",
   "metadata": {
    "execution": {
     "iopub.execute_input": "2024-12-12T13:15:11.635688Z",
     "iopub.status.busy": "2024-12-12T13:15:11.635453Z",
     "iopub.status.idle": "2024-12-12T13:15:53.389612Z",
     "shell.execute_reply": "2024-12-12T13:15:53.388541Z"
    },
    "id": "jqyjrsVR4PX-",
    "papermill": {
     "duration": 41.767869,
     "end_time": "2024-12-12T13:15:53.391408",
     "exception": false,
     "start_time": "2024-12-12T13:15:11.623539",
     "status": "completed"
    },
    "tags": []
   },
   "outputs": [],
   "source": [
    "from IPython.display import clear_output\n",
    "%pip install janome mojimoji\n",
    "!pip install sentencepiece\n",
    "!pip install nltk\n",
    "!pip install scikit-learn\n",
    "!pip install matplotlib\n",
    "clear_output()"
   ]
  },
  {
   "cell_type": "code",
   "execution_count": 5,
   "id": "083e5e63",
   "metadata": {
    "execution": {
     "iopub.execute_input": "2024-12-12T13:15:53.416486Z",
     "iopub.status.busy": "2024-12-12T13:15:53.415738Z",
     "iopub.status.idle": "2024-12-12T13:16:07.177557Z",
     "shell.execute_reply": "2024-12-12T13:16:07.176456Z"
    },
    "id": "jK88JoQ79a_G",
    "outputId": "9ac4ba27-ff62-4173-ecb6-286d46695619",
    "papermill": {
     "duration": 13.780675,
     "end_time": "2024-12-12T13:16:07.183856",
     "exception": false,
     "start_time": "2024-12-12T13:15:53.403181",
     "status": "completed"
    },
    "tags": []
   },
   "outputs": [
    {
     "name": "stdout",
     "output_type": "stream",
     "text": [
      "2.16.1\n"
     ]
    },
    {
     "data": {
      "text/plain": [
       "True"
      ]
     },
     "execution_count": 5,
     "metadata": {},
     "output_type": "execute_result"
    }
   ],
   "source": [
    "import tensorflow as tf\n",
    "import tensorflow.keras\n",
    "from tensorflow.keras.models import Model, load_model\n",
    "from tensorflow.keras.layers import Dense, LSTM, Embedding, Dropout, Input, dot, Activation, Concatenate\n",
    "from tensorflow.keras.preprocessing.text import Tokenizer\n",
    "from tensorflow.keras.callbacks import ModelCheckpoint\n",
    "from tensorflow.keras.preprocessing.sequence import pad_sequences\n",
    "from tensorflow.keras import optimizers\n",
    "from tensorflow.keras import initializers, regularizers, constraints\n",
    "\n",
    "from sklearn.model_selection import train_test_split\n",
    "\n",
    "\n",
    "import mojimoji\n",
    "import pandas as pd\n",
    "import numpy as np\n",
    "import re\n",
    "import matplotlib.pyplot as plt\n",
    "import io\n",
    "\n",
    "import nltk\n",
    "import unicodedata\n",
    "import sentencepiece as spm\n",
    "\n",
    "# ignore warning\n",
    "import os\n",
    "os.environ['TF_CPP_MIN_LOG_LEVEL'] = '3'\n",
    "print(tf.__version__)\n",
    "# gpu\n",
    "tf.test.is_gpu_available()"
   ]
  },
  {
   "cell_type": "markdown",
   "id": "c64a70a4",
   "metadata": {
    "id": "J_L_ygdR9a_Q",
    "papermill": {
     "duration": 0.012308,
     "end_time": "2024-12-12T13:16:07.213580",
     "exception": false,
     "start_time": "2024-12-12T13:16:07.201272",
     "status": "completed"
    },
    "tags": []
   },
   "source": [
    "# load text file\n",
    "\n",
    "this dataset is aleady implemented a SentenceSpace"
   ]
  },
  {
   "cell_type": "code",
   "execution_count": 6,
   "id": "5bdcdacc",
   "metadata": {
    "execution": {
     "iopub.execute_input": "2024-12-12T13:16:07.240734Z",
     "iopub.status.busy": "2024-12-12T13:16:07.239297Z",
     "iopub.status.idle": "2024-12-12T13:16:07.578761Z",
     "shell.execute_reply": "2024-12-12T13:16:07.577758Z"
    },
    "id": "jYlzMp1U9a_T",
    "outputId": "d2d9ca51-43fa-4257-cad1-247c6a51ca1f",
    "papermill": {
     "duration": 0.354557,
     "end_time": "2024-12-12T13:16:07.580628",
     "exception": false,
     "start_time": "2024-12-12T13:16:07.226071",
     "status": "completed"
    },
    "tags": []
   },
   "outputs": [
    {
     "name": "stdout",
     "output_type": "stream",
     "text": [
      "今日 は 今日 は とても 良い 日 です ｡\n"
     ]
    }
   ],
   "source": [
    "from janome.tokenizer import Tokenizer\n",
    "import mojimoji\n",
    "\n",
    "# Initialize Japanese tokenizer\n",
    "tokenizer = Tokenizer()\n",
    "\n",
    "\n",
    "def preprocess_japanese_text(text):\n",
    "    # Convert full-width characters to half-width\n",
    "    text = mojimoji.zen_to_han(text)\n",
    "\n",
    "    # Tokenize the text\n",
    "    tokens = tokenizer.tokenize(text, wakati=True)\n",
    "\n",
    "    # Join tokens with a space to preserve word boundaries for translation models\n",
    "    preprocessed_text = \" \".join(tokens)\n",
    "\n",
    "    # Remove any unnecessary whitespace\n",
    "    preprocessed_text = preprocessed_text.strip()\n",
    "\n",
    "    return preprocessed_text\n",
    "\n",
    "\n",
    "# Example usage\n",
    "text = \"今日は今日はとても良い日です。\"\n",
    "processed_text = preprocess_japanese_text(text)\n",
    "print(processed_text)"
   ]
  },
  {
   "cell_type": "code",
   "execution_count": 7,
   "id": "575ee688",
   "metadata": {
    "execution": {
     "iopub.execute_input": "2024-12-12T13:16:07.605351Z",
     "iopub.status.busy": "2024-12-12T13:16:07.604604Z",
     "iopub.status.idle": "2024-12-12T13:16:08.051259Z",
     "shell.execute_reply": "2024-12-12T13:16:08.050325Z"
    },
    "id": "OXTHbwXE-dg8",
    "papermill": {
     "duration": 0.460765,
     "end_time": "2024-12-12T13:16:08.052937",
     "exception": false,
     "start_time": "2024-12-12T13:16:07.592172",
     "status": "completed"
    },
    "tags": []
   },
   "outputs": [
    {
     "data": {
      "text/html": [
       "<div>\n",
       "<style scoped>\n",
       "    .dataframe tbody tr th:only-of-type {\n",
       "        vertical-align: middle;\n",
       "    }\n",
       "\n",
       "    .dataframe tbody tr th {\n",
       "        vertical-align: top;\n",
       "    }\n",
       "\n",
       "    .dataframe thead th {\n",
       "        text-align: right;\n",
       "    }\n",
       "</style>\n",
       "<table border=\"1\" class=\"dataframe\">\n",
       "  <thead>\n",
       "    <tr style=\"text-align: right;\">\n",
       "      <th></th>\n",
       "      <th>Unnamed: 0</th>\n",
       "      <th>english</th>\n",
       "      <th>japanese</th>\n",
       "      <th>_eng_len</th>\n",
       "      <th>_jpn_len</th>\n",
       "    </tr>\n",
       "  </thead>\n",
       "  <tbody>\n",
       "    <tr>\n",
       "      <th>0</th>\n",
       "      <td>0</td>\n",
       "      <td>go.</td>\n",
       "      <td>行け 。</td>\n",
       "      <td>1</td>\n",
       "      <td>2</td>\n",
       "    </tr>\n",
       "    <tr>\n",
       "      <th>1</th>\n",
       "      <td>1</td>\n",
       "      <td>go.</td>\n",
       "      <td>行き なさい 。</td>\n",
       "      <td>1</td>\n",
       "      <td>3</td>\n",
       "    </tr>\n",
       "    <tr>\n",
       "      <th>2</th>\n",
       "      <td>2</td>\n",
       "      <td>hi.</td>\n",
       "      <td>こんにちは 。</td>\n",
       "      <td>1</td>\n",
       "      <td>2</td>\n",
       "    </tr>\n",
       "    <tr>\n",
       "      <th>3</th>\n",
       "      <td>3</td>\n",
       "      <td>hi.</td>\n",
       "      <td>もしもし 。</td>\n",
       "      <td>1</td>\n",
       "      <td>2</td>\n",
       "    </tr>\n",
       "    <tr>\n",
       "      <th>4</th>\n",
       "      <td>4</td>\n",
       "      <td>hi.</td>\n",
       "      <td>やっ ほ ー 。</td>\n",
       "      <td>1</td>\n",
       "      <td>4</td>\n",
       "    </tr>\n",
       "    <tr>\n",
       "      <th>...</th>\n",
       "      <td>...</td>\n",
       "      <td>...</td>\n",
       "      <td>...</td>\n",
       "      <td>...</td>\n",
       "      <td>...</td>\n",
       "    </tr>\n",
       "    <tr>\n",
       "      <th>109774</th>\n",
       "      <td>109774</td>\n",
       "      <td>the small crowd at hiroshima peace memorial pa...</td>\n",
       "      <td>アメリカ 軍用 機 エノラ・ゲイ から 「 リトル ボーイ 」 と 名付け られ た 原子 ...</td>\n",
       "      <td>34</td>\n",
       "      <td>44</td>\n",
       "    </tr>\n",
       "    <tr>\n",
       "      <th>109775</th>\n",
       "      <td>109775</td>\n",
       "      <td>\"i heard that tom and john are identical twins...</td>\n",
       "      <td>「 トム と ジョン って 一卵性双生児 と は 聞い て た けど 、 本当に よく 似 ...</td>\n",
       "      <td>41</td>\n",
       "      <td>50</td>\n",
       "    </tr>\n",
       "    <tr>\n",
       "      <th>109776</th>\n",
       "      <td>109776</td>\n",
       "      <td>when i was younger, i hated going to weddings....</td>\n",
       "      <td>若い 頃 って さぁ 、 結婚式 に 行く の が 嫌 で 嫌 で たまらなかっ た わ 。...</td>\n",
       "      <td>44</td>\n",
       "      <td>86</td>\n",
       "    </tr>\n",
       "    <tr>\n",
       "      <th>109777</th>\n",
       "      <td>109777</td>\n",
       "      <td>if someone who does not know your background s...</td>\n",
       "      <td>生い立ち を 知ら ない 人 に ネイティブ みたい に 聞こえる よ って 言わ れ たら...</td>\n",
       "      <td>47</td>\n",
       "      <td>58</td>\n",
       "    </tr>\n",
       "    <tr>\n",
       "      <th>109778</th>\n",
       "      <td>109778</td>\n",
       "      <td>\"i went drinking with one of my boyfriend's fr...</td>\n",
       "      <td>「 彼氏 の 友達 と 飲み に 行っ たら 彼 に 激怒 さ れ ちゃっ た 」 「 その...</td>\n",
       "      <td>58</td>\n",
       "      <td>77</td>\n",
       "    </tr>\n",
       "  </tbody>\n",
       "</table>\n",
       "<p>109779 rows × 5 columns</p>\n",
       "</div>"
      ],
      "text/plain": [
       "        Unnamed: 0                                            english  \\\n",
       "0                0                                                go.   \n",
       "1                1                                                go.   \n",
       "2                2                                                hi.   \n",
       "3                3                                                hi.   \n",
       "4                4                                                hi.   \n",
       "...            ...                                                ...   \n",
       "109774      109774  the small crowd at hiroshima peace memorial pa...   \n",
       "109775      109775  \"i heard that tom and john are identical twins...   \n",
       "109776      109776  when i was younger, i hated going to weddings....   \n",
       "109777      109777  if someone who does not know your background s...   \n",
       "109778      109778  \"i went drinking with one of my boyfriend's fr...   \n",
       "\n",
       "                                                 japanese  _eng_len  _jpn_len  \n",
       "0                                                    行け 。         1         2  \n",
       "1                                                行き なさい 。         1         3  \n",
       "2                                                 こんにちは 。         1         2  \n",
       "3                                                  もしもし 。         1         2  \n",
       "4                                                やっ ほ ー 。         1         4  \n",
       "...                                                   ...       ...       ...  \n",
       "109774  アメリカ 軍用 機 エノラ・ゲイ から 「 リトル ボーイ 」 と 名付け られ た 原子 ...        34        44  \n",
       "109775  「 トム と ジョン って 一卵性双生児 と は 聞い て た けど 、 本当に よく 似 ...        41        50  \n",
       "109776  若い 頃 って さぁ 、 結婚式 に 行く の が 嫌 で 嫌 で たまらなかっ た わ 。...        44        86  \n",
       "109777  生い立ち を 知ら ない 人 に ネイティブ みたい に 聞こえる よ って 言わ れ たら...        47        58  \n",
       "109778  「 彼氏 の 友達 と 飲み に 行っ たら 彼 に 激怒 さ れ ちゃっ た 」 「 その...        58        77  \n",
       "\n",
       "[109779 rows x 5 columns]"
      ]
     },
     "execution_count": 7,
     "metadata": {},
     "output_type": "execute_result"
    }
   ],
   "source": [
    "import pandas as pd\n",
    "\n",
    "df = pd.read_csv(\"./datas/Aniki.csv\",index_col=False)\n",
    "# first_run Uncomment the below line for the 1st run\n",
    "# df=df[:1000] \n",
    "df"
   ]
  },
  {
   "cell_type": "code",
   "execution_count": 8,
   "id": "c712db44",
   "metadata": {
    "execution": {
     "iopub.execute_input": "2024-12-12T13:16:08.077356Z",
     "iopub.status.busy": "2024-12-12T13:16:08.077078Z",
     "iopub.status.idle": "2024-12-12T13:16:08.108858Z",
     "shell.execute_reply": "2024-12-12T13:16:08.108256Z"
    },
    "id": "lGSCDfAq-eT0",
    "papermill": {
     "duration": 0.045725,
     "end_time": "2024-12-12T13:16:08.110428",
     "exception": false,
     "start_time": "2024-12-12T13:16:08.064703",
     "status": "completed"
    },
    "tags": []
   },
   "outputs": [],
   "source": [
    "import re\n",
    "import pandas as pd\n",
    "import tqdm\n",
    "\n",
    "\n",
    "emoji_list_datas_path = \"./datas//Emoji Sheets - Emoji Only.csv\"\n",
    "emoji_df = pd.read_csv(emoji_list_datas_path)\n",
    "\n",
    "# Extract the emojis into a list\n",
    "emoji_list = emoji_df[\"Emoji_List\"].tolist()\n",
    "\n",
    "# Start the pattern string\n",
    "pattern = \"[\"\n",
    "\n",
    "# Append each code point to the pattern string, ensuring each one is 8 digits\n",
    "for cp in emoji_list:\n",
    "    pattern += f\"\\\\U{cp[1:]:0>8}\"\n",
    "\n",
    "# Close the pattern string\n",
    "pattern += \"]\"\n",
    "\n",
    "# Compile the regular expression\n",
    "emoji_pattern = re.compile(pattern, re.UNICODE)\n",
    "\n",
    "\n",
    "# function to completely remove the emojis from the comments using re\n",
    "def remove_emojis(text):\n",
    "    if not isinstance(text, str):\n",
    "        return text  # or return an empty string: return ''\n",
    "\n",
    "    # Compile the regular expression\n",
    "    emoji_pattern = re.compile(pattern, re.UNICODE)\n",
    "\n",
    "    # Use the sub method to remove emojis\n",
    "    text_no_emojis = emoji_pattern.sub(r\"\", text)\n",
    "    return text_no_emojis"
   ]
  },
  {
   "cell_type": "code",
   "execution_count": 9,
   "id": "213a1da9",
   "metadata": {
    "execution": {
     "iopub.execute_input": "2024-12-12T13:16:08.135114Z",
     "iopub.status.busy": "2024-12-12T13:16:08.134575Z",
     "iopub.status.idle": "2024-12-12T13:16:18.599731Z",
     "shell.execute_reply": "2024-12-12T13:16:18.598579Z"
    },
    "id": "EsjBj17t-eRn",
    "outputId": "3476144c-0579-4fb7-f3cb-eb338f16ebae",
    "papermill": {
     "duration": 10.479392,
     "end_time": "2024-12-12T13:16:18.601577",
     "exception": false,
     "start_time": "2024-12-12T13:16:08.122185",
     "status": "completed"
    },
    "tags": []
   },
   "outputs": [
    {
     "name": "stderr",
     "output_type": "stream",
     "text": [
      "Removing emojis from English text: 100%|██████████| 109779/109779 [00:06<00:00, 18264.70it/s]\n",
      "Removing emojis from Japanese text: 100%|██████████| 109779/109779 [00:04<00:00, 24747.09it/s]\n"
     ]
    }
   ],
   "source": [
    "from tqdm import tqdm\n",
    "\n",
    "tqdm.pandas(desc=\"Removing emojis from English text\")\n",
    "df[\"english\"] = df[\"english\"].progress_apply(remove_emojis)\n",
    "\n",
    "tqdm.pandas(desc=\"Removing emojis from Japanese text\")\n",
    "df[\"japanese\"] = df[\"japanese\"].progress_apply(remove_emojis)"
   ]
  },
  {
   "cell_type": "code",
   "execution_count": 10,
   "id": "316b5a21",
   "metadata": {
    "execution": {
     "iopub.execute_input": "2024-12-12T13:16:18.640258Z",
     "iopub.status.busy": "2024-12-12T13:16:18.639938Z",
     "iopub.status.idle": "2024-12-12T13:16:18.644468Z",
     "shell.execute_reply": "2024-12-12T13:16:18.643658Z"
    },
    "id": "7H6LU3sE-eO0",
    "papermill": {
     "duration": 0.026776,
     "end_time": "2024-12-12T13:16:18.646215",
     "exception": false,
     "start_time": "2024-12-12T13:16:18.619439",
     "status": "completed"
    },
    "tags": []
   },
   "outputs": [],
   "source": [
    "import mojimoji\n",
    "\n",
    "\n",
    "def zen_to_han(text):\n",
    "    return mojimoji.zen_to_han(text)"
   ]
  },
  {
   "cell_type": "code",
   "execution_count": 11,
   "id": "936ab318",
   "metadata": {
    "execution": {
     "iopub.execute_input": "2024-12-12T13:16:18.681644Z",
     "iopub.status.busy": "2024-12-12T13:16:18.681400Z",
     "iopub.status.idle": "2024-12-12T13:16:18.687933Z",
     "shell.execute_reply": "2024-12-12T13:16:18.687140Z"
    },
    "id": "eyups2aI-eKM",
    "outputId": "bf6991a9-0766-4425-e4e7-421c92c26542",
    "papermill": {
     "duration": 0.024952,
     "end_time": "2024-12-12T13:16:18.689557",
     "exception": false,
     "start_time": "2024-12-12T13:16:18.664605",
     "status": "completed"
    },
    "tags": []
   },
   "outputs": [
    {
     "data": {
      "text/plain": [
       "('こ ん に ち は 。   今 日 は', 'Hello world e ')"
      ]
     },
     "execution_count": 11,
     "metadata": {},
     "output_type": "execute_result"
    }
   ],
   "source": [
    "import unicodedata\n",
    "\n",
    "\n",
    "# English might have accent like é but Japanese doesn't have any accent I just create different function to ascii for Japanese and English\n",
    "# Removing accented characters\n",
    "def english_unicode_to_ascii(text):\n",
    "    return \"\".join(\n",
    "        ascii_text\n",
    "        for ascii_text in unicodedata.normalize(\"NFKD\", text)\n",
    "        .encode(\"ascii\", \"ignore\")\n",
    "        .decode(\"utf-8\", \"ignore\")\n",
    "    )\n",
    "\n",
    "\n",
    "def japanese_unicode_to_ascii(text):\n",
    "    return \" \".join(ascii_text for ascii_text in unicodedata.normalize(\"NFKD\", text))\n",
    "\n",
    "\n",
    "japanese_unicode_to_ascii(\"こんにちは。 今日は\"), english_unicode_to_ascii(\n",
    "    \"Hello world é \"\n",
    ")"
   ]
  },
  {
   "cell_type": "code",
   "execution_count": 12,
   "id": "cfbc8766",
   "metadata": {
    "execution": {
     "iopub.execute_input": "2024-12-12T13:16:18.724102Z",
     "iopub.status.busy": "2024-12-12T13:16:18.723872Z",
     "iopub.status.idle": "2024-12-12T13:16:18.731429Z",
     "shell.execute_reply": "2024-12-12T13:16:18.730600Z"
    },
    "id": "CEuhx5KH-eHo",
    "outputId": "34a9134f-da53-4eaf-e83d-11de67563adb",
    "papermill": {
     "duration": 0.027165,
     "end_time": "2024-12-12T13:16:18.733031",
     "exception": false,
     "start_time": "2024-12-12T13:16:18.705866",
     "status": "completed"
    },
    "tags": []
   },
   "outputs": [
    {
     "name": "stdout",
     "output_type": "stream",
     "text": [
      "こんにちは 世界 this is an example sentence\n"
     ]
    }
   ],
   "source": [
    "import re\n",
    "\n",
    "\n",
    "def clean_text(text):\n",
    "    # Define regex pattern for allowed characters (Latin letters and Japanese characters)\n",
    "    allowed_pattern = r\"[^a-zA-Z\\u4E00-\\u9FFF\\u3040-\\u30FF\\s]\"\n",
    "    # Replace everything not in allowed pattern with a space\n",
    "    cleaned_text = re.sub(allowed_pattern, \" \", text)\n",
    "\n",
    "    # Remove extra spaces\n",
    "    cleaned_text = re.sub(r\"\\s+\", \" \", cleaned_text).strip()\n",
    "\n",
    "    cleaned_text = cleaned_text.lower()\n",
    "\n",
    "    return cleaned_text\n",
    "\n",
    "\n",
    "# Example usage\n",
    "text = \"こんにちは、世界! This is an example sentence.\"\n",
    "print(clean_text(text))"
   ]
  },
  {
   "cell_type": "code",
   "execution_count": 13,
   "id": "c78fcea5",
   "metadata": {
    "execution": {
     "iopub.execute_input": "2024-12-12T13:16:18.765214Z",
     "iopub.status.busy": "2024-12-12T13:16:18.764986Z",
     "iopub.status.idle": "2024-12-12T13:16:26.810022Z",
     "shell.execute_reply": "2024-12-12T13:16:26.808881Z"
    },
    "id": "V9yWKMCA-kk1",
    "outputId": "7086a9f7-3cf4-4cf8-a611-61e158bd29f2",
    "papermill": {
     "duration": 8.063117,
     "end_time": "2024-12-12T13:16:26.811747",
     "exception": false,
     "start_time": "2024-12-12T13:16:18.748630",
     "status": "completed"
    },
    "tags": []
   },
   "outputs": [
    {
     "name": "stderr",
     "output_type": "stream",
     "text": [
      "/opt/conda/lib/python3.10/pty.py:89: RuntimeWarning: os.fork() was called. os.fork() is incompatible with multithreaded code, and JAX is multithreaded, so this will likely lead to a deadlock.\n",
      "  pid, fd = os.forkpty()\n"
     ]
    },
    {
     "name": "stdout",
     "output_type": "stream",
     "text": [
      "Requirement already satisfied: janome in /opt/conda/lib/python3.10/site-packages (0.5.0)\r\n",
      "Requirement already satisfied: mojimoji in /opt/conda/lib/python3.10/site-packages (0.0.13)\r\n",
      "Note: you may need to restart the kernel to use updated packages.\n",
      "start_ 猫 と 犬 が けんか し て いる _end\n"
     ]
    }
   ],
   "source": [
    "%pip install janome mojimoji\n",
    "from janome.tokenizer import Tokenizer\n",
    "import mojimoji\n",
    "\n",
    "# Initialize Japanese tokenizer\n",
    "tokenizer = Tokenizer()\n",
    "\n",
    "\n",
    "def preprocess_japanese_text(text):\n",
    "\n",
    "    # TODO: Uncomment the line below to convert Japanese text to ASCII characters PROBLEM: cause the problem in tokenization\n",
    "    # text=japanese_unicode_to_ascii(text)\n",
    "\n",
    "    # Convert full-width characters to half-width\n",
    "    text = mojimoji.zen_to_han(text)\n",
    "\n",
    "    text = clean_text(text)\n",
    "\n",
    "    # Tokenize the text\n",
    "    tokens = tokenizer.tokenize(text, wakati=True)\n",
    "\n",
    "    # Join tokens with a space to preserve word boundaries for translation models\n",
    "    preprocessed_text = \" \".join(tokens)\n",
    "\n",
    "    # Remove any unnecessary whitespace\n",
    "    preprocessed_text = preprocessed_text.strip()\n",
    "\n",
    "    return \"start_ \" + preprocessed_text + \" _end\"\n",
    "\n",
    "\n",
    "text = \"猫と犬がけんかしている。\"\n",
    "processed_text = preprocess_japanese_text(text)\n",
    "print(processed_text)"
   ]
  },
  {
   "cell_type": "code",
   "execution_count": 14,
   "id": "b0545cf7",
   "metadata": {
    "execution": {
     "iopub.execute_input": "2024-12-12T13:16:26.845463Z",
     "iopub.status.busy": "2024-12-12T13:16:26.845156Z",
     "iopub.status.idle": "2024-12-12T13:16:26.852975Z",
     "shell.execute_reply": "2024-12-12T13:16:26.852155Z"
    },
    "id": "g3n8MNtg-kez",
    "outputId": "55611e9f-9c2e-4052-c096-3136860b8525",
    "papermill": {
     "duration": 0.026374,
     "end_time": "2024-12-12T13:16:26.854509",
     "exception": false,
     "start_time": "2024-12-12T13:16:26.828135",
     "status": "completed"
    },
    "tags": []
   },
   "outputs": [
    {
     "data": {
      "text/plain": [
       "'start_ hello how are you _end'"
      ]
     },
     "execution_count": 14,
     "metadata": {},
     "output_type": "execute_result"
    }
   ],
   "source": [
    "# from transformers import BertTokenizer\n",
    "\n",
    "# def preprocess_english_text(text):\n",
    "#     # Initialize the tokenizer\n",
    "#     tokenizer = BertTokenizer.from_pretrained('bert-base-uncased')\n",
    "\n",
    "#     # Normalize text\n",
    "#     text = text.lower()\n",
    "\n",
    "#     text=english_unicode_to_ascii(text)\n",
    "\n",
    "#     text=clean_text(text)\n",
    "\n",
    "#     # Tokenize text\n",
    "#     tokens = tokenizer.tokenize(text)\n",
    "\n",
    "#     # Join tokens with a space to preserve word boundaries for translation models\n",
    "#     preprocessed_text = \" \".join(tokens)\n",
    "\n",
    "#     # Remove any unnecessary whitespace\n",
    "#     preprocessed_text = preprocessed_text.strip()\n",
    "\n",
    "#     return \"start_ \" + preprocessed_text + \" _end\"\n",
    "\n",
    "#     # # Convert tokens to token IDs\n",
    "#     # token_ids = tokenizer.convert_tokens_to_ids(tokens)\n",
    "\n",
    "#     # # Add special tokens\n",
    "#     # token_ids = tokenizer.build_inputs_with_special_tokens(token_ids)\n",
    "\n",
    "#     # # Create attention mask\n",
    "#     # attention_mask = [1] * len(token_ids)\n",
    "\n",
    "#     # return token_ids, attention_mask\n",
    "\n",
    "from tensorflow.keras.preprocessing.text import Tokenizer\n",
    "def preprocess_english_text(text):\n",
    "\n",
    "    # Normalize text (you need to define these functions)\n",
    "    text = text.lower()  # Convert text to lowercase\n",
    "    text = english_unicode_to_ascii(text)  # Placeholder for your normalization\n",
    "    text = clean_text(text)  # Placeholder for your cleaning function\n",
    "\n",
    "    # Add special tokens\n",
    "    preprocessed_text = f\"start_ {text} _end\"\n",
    "\n",
    "    return preprocessed_text\n",
    "\n",
    "# Example usage\n",
    "text = \"Hello, how are you?\"\n",
    "token = preprocess_english_text(text)\n",
    "token"
   ]
  },
  {
   "cell_type": "code",
   "execution_count": 15,
   "id": "a0066966",
   "metadata": {
    "execution": {
     "iopub.execute_input": "2024-12-12T13:16:26.887537Z",
     "iopub.status.busy": "2024-12-12T13:16:26.887297Z",
     "iopub.status.idle": "2024-12-12T13:17:35.770109Z",
     "shell.execute_reply": "2024-12-12T13:17:35.769205Z"
    },
    "id": "zNsTpC2B-kcP",
    "outputId": "0954db3a-7bd3-4d84-ef6d-24cf2efd5556",
    "papermill": {
     "duration": 68.902013,
     "end_time": "2024-12-12T13:17:35.772516",
     "exception": false,
     "start_time": "2024-12-12T13:16:26.870503",
     "status": "completed"
    },
    "tags": []
   },
   "outputs": [
    {
     "name": "stderr",
     "output_type": "stream",
     "text": [
      "Preprocessing English text: 100%|██████████| 109779/109779 [00:00<00:00, 129621.23it/s]\n",
      "Preprocessing Japanese text: 100%|██████████| 109779/109779 [01:08<00:00, 1614.00it/s]\n"
     ]
    }
   ],
   "source": [
    "from tqdm  import tqdm\n",
    "\n",
    "\n",
    "tqdm.pandas(desc=\"Preprocessing English text\")\n",
    "df[\"english_preprocessed\"] = df[\"english\"].progress_apply(preprocess_english_text)\n",
    "\n",
    "\n",
    "tqdm.pandas(desc=\"Preprocessing Japanese text\")\n",
    "df[\"japanese_preprocessed\"] = df[\"japanese\"].progress_apply(preprocess_japanese_text)\n",
    "\n",
    "# df.to_csv(\"./datas/eng_jap_dataset_preprocessed.csv\")"
   ]
  },
  {
   "cell_type": "markdown",
   "id": "00ca73f2",
   "metadata": {
    "id": "ZMlaIsar9bAf",
    "papermill": {
     "duration": 0.044453,
     "end_time": "2024-12-12T13:17:35.861426",
     "exception": false,
     "start_time": "2024-12-12T13:17:35.816973",
     "status": "completed"
    },
    "tags": []
   },
   "source": [
    "# tokenize\n",
    "tokenize each language word based on space"
   ]
  },
  {
   "cell_type": "code",
   "execution_count": 16,
   "id": "d9279a52",
   "metadata": {
    "execution": {
     "iopub.execute_input": "2024-12-12T13:17:35.994209Z",
     "iopub.status.busy": "2024-12-12T13:17:35.993410Z",
     "iopub.status.idle": "2024-12-12T13:17:35.998748Z",
     "shell.execute_reply": "2024-12-12T13:17:35.998064Z"
    },
    "id": "ACN_sW7u9bAh",
    "papermill": {
     "duration": 0.051675,
     "end_time": "2024-12-12T13:17:36.000278",
     "exception": false,
     "start_time": "2024-12-12T13:17:35.948603",
     "status": "completed"
    },
    "tags": []
   },
   "outputs": [],
   "source": [
    "def tokenize(lang):\n",
    "    # vectorize a text corpus\n",
    "    lang_tokenizer = tf.keras.preprocessing.text.Tokenizer(\n",
    "        filters=' ')\n",
    "\n",
    "    # updates internal vocabulary based on a list of texts\n",
    "    # e.g. \"[this place is good ]\"→{this:2, place:3, is:1, good:4} \"\n",
    "    lang_tokenizer.fit_on_texts(lang)\n",
    "\n",
    "    # Transforms each text in texts to a sequence of integers.\n",
    "    # e.g. this place is good → [[2, 3, 1, 4]]\n",
    "    tensor = lang_tokenizer.texts_to_sequences(lang)\n",
    "\n",
    "    # transform a list of num sample into a 2D Numpy array of shape\n",
    "    # Fixed length because length of sequence of integers are different\n",
    "    # return (len(sequences), maxlen)\n",
    "    tensor = tf.keras.preprocessing.sequence.pad_sequences(tensor,\n",
    "                                                          padding='post')\n",
    "    return tensor, lang_tokenizer"
   ]
  },
  {
   "cell_type": "code",
   "execution_count": 17,
   "id": "091a1f25",
   "metadata": {
    "execution": {
     "iopub.execute_input": "2024-12-12T13:17:36.088836Z",
     "iopub.status.busy": "2024-12-12T13:17:36.088333Z",
     "iopub.status.idle": "2024-12-12T13:17:36.094367Z",
     "shell.execute_reply": "2024-12-12T13:17:36.093594Z"
    },
    "id": "JCZ7huXZ9bAs",
    "outputId": "2f2d5e2d-6b48-44ac-b3c4-bd226552dcd0",
    "papermill": {
     "duration": 0.052006,
     "end_time": "2024-12-12T13:17:36.095912",
     "exception": false,
     "start_time": "2024-12-12T13:17:36.043906",
     "status": "completed"
    },
    "tags": []
   },
   "outputs": [
    {
     "data": {
      "text/plain": [
       "(array([[ 2,  3,  1,  4],\n",
       "        [ 5,  6,  7,  8],\n",
       "        [ 9,  1, 10, 11]], dtype=int32),\n",
       " <keras.src.legacy.preprocessing.text.Tokenizer at 0x7b5b8ba7cd60>)"
      ]
     },
     "execution_count": 17,
     "metadata": {},
     "output_type": "execute_result"
    }
   ],
   "source": [
    "# e.g.\n",
    "tokenize(['this place is good', \"こんにちは 今日は いい天気 。\", \"today is so cold\"])"
   ]
  },
  {
   "cell_type": "markdown",
   "id": "333be149",
   "metadata": {
    "id": "KDfQw_5t9bA5",
    "papermill": {
     "duration": 0.043814,
     "end_time": "2024-12-12T13:17:36.183673",
     "exception": false,
     "start_time": "2024-12-12T13:17:36.139859",
     "status": "completed"
    },
    "tags": []
   },
   "source": [
    "# create clean dataset"
   ]
  },
  {
   "cell_type": "code",
   "execution_count": 18,
   "id": "bfe23e6c",
   "metadata": {
    "execution": {
     "iopub.execute_input": "2024-12-12T13:17:36.272382Z",
     "iopub.status.busy": "2024-12-12T13:17:36.272094Z",
     "iopub.status.idle": "2024-12-12T13:17:36.276332Z",
     "shell.execute_reply": "2024-12-12T13:17:36.275559Z"
    },
    "id": "sIM8-10h9bA6",
    "papermill": {
     "duration": 0.05064,
     "end_time": "2024-12-12T13:17:36.277903",
     "exception": false,
     "start_time": "2024-12-12T13:17:36.227263",
     "status": "completed"
    },
    "tags": []
   },
   "outputs": [],
   "source": [
    "# cleate a clean dataset\n",
    "def create_dataset( ja,en):\n",
    "\n",
    "    # input_tensor, target_tensor: 2d numpy array\n",
    "    # input_lang_tokenize, target_lang_tokenize: word dictionary\n",
    "    input_tensor, input_lang_tokenize = tokenize(ja)\n",
    "    target_tensor, target_lang_tokenize = tokenize(en)\n",
    "\n",
    "    return input_tensor, target_tensor, input_lang_tokenize, target_lang_tokenize"
   ]
  },
  {
   "cell_type": "code",
   "execution_count": 19,
   "id": "afe29035",
   "metadata": {
    "execution": {
     "iopub.execute_input": "2024-12-12T13:17:36.367491Z",
     "iopub.status.busy": "2024-12-12T13:17:36.366756Z",
     "iopub.status.idle": "2024-12-12T13:17:40.741300Z",
     "shell.execute_reply": "2024-12-12T13:17:40.740401Z"
    },
    "id": "jEJJ9BMgATdD",
    "outputId": "a9339169-184b-48de-fe54-0f2bb2d2b9fc",
    "papermill": {
     "duration": 4.42096,
     "end_time": "2024-12-12T13:17:40.743001",
     "exception": false,
     "start_time": "2024-12-12T13:17:36.322041",
     "status": "completed"
    },
    "tags": []
   },
   "outputs": [
    {
     "data": {
      "text/plain": [
       "(109779, 109779)"
      ]
     },
     "execution_count": 19,
     "metadata": {},
     "output_type": "execute_result"
    }
   ],
   "source": [
    "input_tensor, target_tensor, input_lang_tokenize, target_lang_tokenize = create_dataset(df[\"japanese_preprocessed\"],df[\"english_preprocessed\"])\n",
    "(len(input_tensor), len(target_tensor))"
   ]
  },
  {
   "cell_type": "code",
   "execution_count": 20,
   "id": "196b1da8",
   "metadata": {
    "execution": {
     "iopub.execute_input": "2024-12-12T13:17:40.832672Z",
     "iopub.status.busy": "2024-12-12T13:17:40.832354Z",
     "iopub.status.idle": "2024-12-12T13:17:40.873005Z",
     "shell.execute_reply": "2024-12-12T13:17:40.872156Z"
    },
    "papermill": {
     "duration": 0.087233,
     "end_time": "2024-12-12T13:17:40.874554",
     "exception": false,
     "start_time": "2024-12-12T13:17:40.787321",
     "status": "completed"
    },
    "tags": []
   },
   "outputs": [
    {
     "name": "stdout",
     "output_type": "stream",
     "text": [
      "Tokenizer saved as tokenizer.pkl\n",
      "Tokenizer loaded successfully\n"
     ]
    }
   ],
   "source": [
    "import pickle\n",
    "from tensorflow.keras.preprocessing.text import Tokenizer\n",
    "\n",
    "input_tokenizer_saving_path=\"/kaggle/working/input_tokenizer.json\" if kaggle else \"./input_tokenizer.json\"\n",
    "target_tokenizer_saving_path=\"/kaggle/working/target_tokenizer.json\" if kaggle else \"./target_tokenizer.json\"\n",
    "\n",
    "# Save the tokenizer to a .pkl file\n",
    "with open(input_tokenizer_saving_path, 'wb') as file:\n",
    "    pickle.dump(input_lang_tokenize, file)\n",
    "\n",
    "with open(target_tokenizer_saving_path, 'wb') as file:\n",
    "    pickle.dump(target_lang_tokenize, file)\n",
    "    \n",
    "print(\"Tokenizer saved as tokenizer.pkl\")\n",
    "\n",
    "# Later, load the tokenizer back\n",
    "with open(input_tokenizer_saving_path, 'rb') as file:\n",
    "    input_lang_tokenize_test = pickle.load(file)\n",
    "\n",
    "with open(target_tokenizer_saving_path, 'rb') as file:\n",
    "    target_lang_tokenize_test = pickle.load(file)\n",
    "print(\"Tokenizer loaded successfully\")\n",
    "# print(input_lang_tokenize_test.word_index) \n",
    "# print(input_lang_tokenize_test.word_index) "
   ]
  },
  {
   "cell_type": "code",
   "execution_count": 21,
   "id": "53fe1695",
   "metadata": {
    "execution": {
     "iopub.execute_input": "2024-12-12T13:17:40.965453Z",
     "iopub.status.busy": "2024-12-12T13:17:40.965156Z",
     "iopub.status.idle": "2024-12-12T13:17:40.972401Z",
     "shell.execute_reply": "2024-12-12T13:17:40.971615Z"
    },
    "papermill": {
     "duration": 0.05553,
     "end_time": "2024-12-12T13:17:40.973956",
     "exception": false,
     "start_time": "2024-12-12T13:17:40.918426",
     "status": "completed"
    },
    "tags": []
   },
   "outputs": [
    {
     "data": {
      "text/plain": [
       "([[1, 2360, 75, 3, 39, 295, 2]], [[1, 90, 7, 74, 163, 2]])"
      ]
     },
     "execution_count": 21,
     "metadata": {},
     "output_type": "execute_result"
    }
   ],
   "source": [
    "preprocessed_input_jap = preprocess_japanese_text(\"こんにちは 今日は いい天気 。\")  # Adjust for your input language\n",
    "preprocessed_input_eng = preprocess_english_text(\"today is so cold\")  \n",
    "input_sequence_jap = input_lang_tokenize.texts_to_sequences([preprocessed_input_jap])\n",
    "input_sequence_eng = target_lang_tokenize.texts_to_sequences([preprocessed_input_eng])\n",
    "(input_sequence_jap, input_sequence_eng)"
   ]
  },
  {
   "cell_type": "code",
   "execution_count": 22,
   "id": "e17b9e6d",
   "metadata": {
    "execution": {
     "iopub.execute_input": "2024-12-12T13:17:41.062333Z",
     "iopub.status.busy": "2024-12-12T13:17:41.062048Z",
     "iopub.status.idle": "2024-12-12T13:17:41.068998Z",
     "shell.execute_reply": "2024-12-12T13:17:41.068171Z"
    },
    "papermill": {
     "duration": 0.053025,
     "end_time": "2024-12-12T13:17:41.070505",
     "exception": false,
     "start_time": "2024-12-12T13:17:41.017480",
     "status": "completed"
    },
    "tags": []
   },
   "outputs": [
    {
     "data": {
      "text/plain": [
       "([[1, 2360, 75, 3, 39, 295, 2]], [[1, 90, 7, 74, 163, 2]])"
      ]
     },
     "execution_count": 22,
     "metadata": {},
     "output_type": "execute_result"
    }
   ],
   "source": [
    "preprocessed_input_jap = preprocess_japanese_text(\"こんにちは 今日は いい天気 。\")  # Adjust for your input language\n",
    "preprocessed_input_eng = preprocess_english_text(\"today is so cold\")  \n",
    "input_sequence_jap = input_lang_tokenize_test.texts_to_sequences([preprocessed_input_jap])\n",
    "input_sequence_eng = target_lang_tokenize_test.texts_to_sequences([preprocessed_input_eng])\n",
    "(input_sequence_jap, input_sequence_eng)"
   ]
  },
  {
   "cell_type": "code",
   "execution_count": 23,
   "id": "dc154c50",
   "metadata": {
    "execution": {
     "iopub.execute_input": "2024-12-12T13:17:41.161088Z",
     "iopub.status.busy": "2024-12-12T13:17:41.160439Z",
     "iopub.status.idle": "2024-12-12T13:17:41.165312Z",
     "shell.execute_reply": "2024-12-12T13:17:41.164561Z"
    },
    "id": "lzlBqTlO9bA-",
    "papermill": {
     "duration": 0.051346,
     "end_time": "2024-12-12T13:17:41.166866",
     "exception": false,
     "start_time": "2024-12-12T13:17:41.115520",
     "status": "completed"
    },
    "tags": []
   },
   "outputs": [],
   "source": [
    "def max_length(input_tensor, target_tensor):\n",
    "\n",
    "    # max length of input sentense and target sentense\n",
    "    english_len = [len(i) for i in target_tensor ]\n",
    "\n",
    "    japanese_len = [len(i) for i in input_tensor]\n",
    "\n",
    "     # print max length\n",
    "    print(\"english length:\", max(english_len))\n",
    "    print(\"japanese length:\", max(japanese_len))\n",
    "\n",
    "    max_len_input=  max(japanese_len)\n",
    "    max_len_target =  max(english_len)\n",
    "\n",
    "    return max_len_input, max_len_target"
   ]
  },
  {
   "cell_type": "code",
   "execution_count": 24,
   "id": "6ba87b4d",
   "metadata": {
    "execution": {
     "iopub.execute_input": "2024-12-12T13:17:41.256521Z",
     "iopub.status.busy": "2024-12-12T13:17:41.256274Z",
     "iopub.status.idle": "2024-12-12T13:17:41.296544Z",
     "shell.execute_reply": "2024-12-12T13:17:41.295727Z"
    },
    "id": "Ew-q24gJ9bBB",
    "outputId": "59eee1bb-8b58-48e8-daab-76b0d1026ab0",
    "papermill": {
     "duration": 0.087795,
     "end_time": "2024-12-12T13:17:41.298112",
     "exception": false,
     "start_time": "2024-12-12T13:17:41.210317",
     "status": "completed"
    },
    "tags": []
   },
   "outputs": [
    {
     "name": "stdout",
     "output_type": "stream",
     "text": [
      "english length: 61\n",
      "japanese length: 73\n"
     ]
    },
    {
     "data": {
      "text/plain": [
       "(73, 61)"
      ]
     },
     "execution_count": 24,
     "metadata": {},
     "output_type": "execute_result"
    }
   ],
   "source": [
    "# Calculate max_length of the target tensors\n",
    "max_length_input, max_length_target = max_length(input_tensor, target_tensor)\n",
    "(max_length_input, max_length_target)"
   ]
  },
  {
   "cell_type": "code",
   "execution_count": 25,
   "id": "b9143687",
   "metadata": {
    "execution": {
     "iopub.execute_input": "2024-12-12T13:17:41.388348Z",
     "iopub.status.busy": "2024-12-12T13:17:41.388092Z",
     "iopub.status.idle": "2024-12-12T13:17:41.441773Z",
     "shell.execute_reply": "2024-12-12T13:17:41.440685Z"
    },
    "id": "Y_HvHj059bBG",
    "outputId": "e4d54bc7-664d-499f-ca3e-7d82264430c7",
    "papermill": {
     "duration": 0.101119,
     "end_time": "2024-12-12T13:17:41.443595",
     "exception": false,
     "start_time": "2024-12-12T13:17:41.342476",
     "status": "completed"
    },
    "tags": []
   },
   "outputs": [
    {
     "name": "stdout",
     "output_type": "stream",
     "text": [
      "87823 87823 10978 10978 10978 10978\n"
     ]
    }
   ],
   "source": [
    "# create trainnig set and validation set\n",
    "X_train, X_test, \\\n",
    "    Y_train, Y_test = train_test_split(input_tensor, target_tensor, test_size=0.2, shuffle=True)\n",
    "\n",
    "X_test, X_val, \\\n",
    "    Y_test, Y_val = train_test_split(X_test, Y_test, test_size=0.5, shuffle=True)\n",
    "\n",
    "\n",
    "# show length\n",
    "print(len(X_train), len(Y_train), len(X_test), len(Y_test), len(X_val), len(Y_val))"
   ]
  },
  {
   "cell_type": "code",
   "execution_count": 26,
   "id": "41f0de61",
   "metadata": {
    "execution": {
     "iopub.execute_input": "2024-12-12T13:17:41.535427Z",
     "iopub.status.busy": "2024-12-12T13:17:41.534686Z",
     "iopub.status.idle": "2024-12-12T13:17:41.539319Z",
     "shell.execute_reply": "2024-12-12T13:17:41.538487Z"
    },
    "id": "w12Za_JK9bBJ",
    "papermill": {
     "duration": 0.051972,
     "end_time": "2024-12-12T13:17:41.540881",
     "exception": false,
     "start_time": "2024-12-12T13:17:41.488909",
     "status": "completed"
    },
    "tags": []
   },
   "outputs": [],
   "source": [
    "def convert(lang, tensor):\n",
    "    for t in tensor:\n",
    "        if t != 0:\n",
    "            # Index number assigned to each word\n",
    "            print(\"%d----->%s\" % (t, lang.index_word[t]))"
   ]
  },
  {
   "cell_type": "code",
   "execution_count": 27,
   "id": "9947b43b",
   "metadata": {
    "execution": {
     "iopub.execute_input": "2024-12-12T13:17:41.631146Z",
     "iopub.status.busy": "2024-12-12T13:17:41.630771Z",
     "iopub.status.idle": "2024-12-12T13:17:41.636071Z",
     "shell.execute_reply": "2024-12-12T13:17:41.635228Z"
    },
    "id": "v6yT2odT9bBP",
    "outputId": "09a7fc25-c9d0-4358-f751-bcc6c97e03a8",
    "papermill": {
     "duration": 0.052795,
     "end_time": "2024-12-12T13:17:41.637923",
     "exception": false,
     "start_time": "2024-12-12T13:17:41.585128",
     "status": "completed"
    },
    "tags": []
   },
   "outputs": [
    {
     "name": "stdout",
     "output_type": "stream",
     "text": [
      "input lang: index to word mapping\n",
      "1----->start_\n",
      "55----->これ\n",
      "3----->は\n",
      "478----->かなり\n",
      "4967----->衝撃\n",
      "48----->だっ\n",
      "4----->た\n",
      "13----->よ\n",
      "2----->_end\n",
      "output lang: index to word mapping\n",
      "1----->start_\n",
      "3----->i\n",
      "18----->was\n",
      "446----->quite\n",
      "2468----->shocked\n",
      "62----->by\n",
      "21----->this\n",
      "2----->_end\n"
     ]
    }
   ],
   "source": [
    "print(\"input lang: index to word mapping\")\n",
    "convert(input_lang_tokenize, X_train[10])\n",
    "print(\"output lang: index to word mapping\")\n",
    "convert(target_lang_tokenize, Y_train[10])"
   ]
  },
  {
   "cell_type": "markdown",
   "id": "e5be5cd2",
   "metadata": {
    "id": "dSHdoFwQ9bBT",
    "papermill": {
     "duration": 0.044338,
     "end_time": "2024-12-12T13:17:41.726678",
     "exception": false,
     "start_time": "2024-12-12T13:17:41.682340",
     "status": "completed"
    },
    "tags": []
   },
   "source": [
    "# define parameter"
   ]
  },
  {
   "cell_type": "code",
   "execution_count": 28,
   "id": "a1ce6717",
   "metadata": {
    "execution": {
     "iopub.execute_input": "2024-12-12T13:17:41.817521Z",
     "iopub.status.busy": "2024-12-12T13:17:41.816889Z",
     "iopub.status.idle": "2024-12-12T13:17:42.294735Z",
     "shell.execute_reply": "2024-12-12T13:17:42.293705Z"
    },
    "papermill": {
     "duration": 0.525348,
     "end_time": "2024-12-12T13:17:42.296476",
     "exception": false,
     "start_time": "2024-12-12T13:17:41.771128",
     "status": "completed"
    },
    "tags": []
   },
   "outputs": [
    {
     "name": "stdout",
     "output_type": "stream",
     "text": [
      "Train steps per epoch: 1372\n",
      "Validation steps per epoch: 171\n",
      "Total unique words in the input: 15619\n",
      "Total unique words in the target: 11382\n",
      "Vocabulary input size: 15620\n",
      "Vocabulary target size: 11383\n",
      "File_name: config_B64_D0.3_E300_U512\n"
     ]
    }
   ],
   "source": [
    "# config_B64_D0.3_E300_U512\n",
    "# first_run ensure that the value printed below is never 0\n",
    "import tensorflow as tf\n",
    "\n",
    "# Configuration details\n",
    "BUFFER_SIZE = len(X_train)\n",
    "BATCH_SIZE = 64\n",
    "dropout_rate = 0.3\n",
    "embedding_dim = 300\n",
    "units = 512\n",
    "\n",
    "# Calculating steps per epoch\n",
    "train_steps_per_epoch = len(X_train) // BATCH_SIZE\n",
    "val_steps_per_epoch = len(X_val) // BATCH_SIZE\n",
    "\n",
    "print(f\"Train steps per epoch: {train_steps_per_epoch}\")\n",
    "print(f\"Validation steps per epoch: {val_steps_per_epoch}\")\n",
    "\n",
    "# Vocabulary sizes\n",
    "vocab_inp_size = len(input_lang_tokenize.word_index) + 1\n",
    "vocab_tar_size = len(target_lang_tokenize.word_index) + 1\n",
    "\n",
    "print(f\"Total unique words in the input: {len(input_lang_tokenize.word_index)}\")\n",
    "print(f\"Total unique words in the target: {len(target_lang_tokenize.word_index)}\")\n",
    "print(f\"Vocabulary input size: {vocab_inp_size}\")\n",
    "print(f\"Vocabulary target size: {vocab_tar_size}\")\n",
    "\n",
    "# Create train and validation datasets\n",
    "train_dataset = tf.data.Dataset.from_tensor_slices((X_train, Y_train)).shuffle(BUFFER_SIZE).batch(BATCH_SIZE, drop_remainder=True)\n",
    "val_dataset = tf.data.Dataset.from_tensor_slices((X_val, Y_val)).batch(BATCH_SIZE, drop_remainder=True)\n",
    "\n",
    "print(f\"File_name: config_B{BATCH_SIZE}_D{dropout_rate}_E{embedding_dim}_U{units}\")"
   ]
  },
  {
   "cell_type": "markdown",
   "id": "e8c2e566",
   "metadata": {
    "id": "PjAVocfI9bCI",
    "papermill": {
     "duration": 0.044121,
     "end_time": "2024-12-12T13:17:42.386035",
     "exception": false,
     "start_time": "2024-12-12T13:17:42.341914",
     "status": "completed"
    },
    "tags": []
   },
   "source": [
    "# Encoder Model"
   ]
  },
  {
   "cell_type": "code",
   "execution_count": 29,
   "id": "3007b3ba",
   "metadata": {
    "execution": {
     "iopub.execute_input": "2024-12-12T13:17:42.475329Z",
     "iopub.status.busy": "2024-12-12T13:17:42.474697Z",
     "iopub.status.idle": "2024-12-12T13:17:42.479052Z",
     "shell.execute_reply": "2024-12-12T13:17:42.478344Z"
    },
    "id": "CJWSAHhl9bCJ",
    "papermill": {
     "duration": 0.050629,
     "end_time": "2024-12-12T13:17:42.480562",
     "exception": false,
     "start_time": "2024-12-12T13:17:42.429933",
     "status": "completed"
    },
    "tags": []
   },
   "outputs": [],
   "source": [
    "# from tensorflow.keras.saving import register_keras_serializable\n",
    "\n",
    "# @register_keras_serializable()\n",
    "# class Encoder(tf.keras.Model):\n",
    "#     def __init__(self, vocab_size, embedding_dim, enc_units, batch_size, dropout_rate):\n",
    "#         super(Encoder, self).__init__()\n",
    "#         self.batch_size = batch_size\n",
    "#         self.enc_units = enc_units\n",
    "#         self.dropout = Dropout(dropout_rate)\n",
    "#         self.embedding = tf.keras.layers.Embedding(vocab_size, embedding_dim)\n",
    "#         self.first_lstm = tf.keras.layers.LSTM(self.enc_units,\n",
    "#                                                             return_sequences=True,\n",
    "#                                                             recurrent_initializer='glorot_uniform')\n",
    "\n",
    "#         self.final_lstm = tf.keras.layers.LSTM(self.enc_units,\n",
    "#                                                     return_sequences=True,\n",
    "#                                                     return_state=True,\n",
    "#                                                     recurrent_initializer='glorot_uniform')\n",
    "\n",
    "#     def call(self, x, hidden):\n",
    "#         x = self.embedding(x)\n",
    "#         x = self.dropout(x)\n",
    "#         x = self.first_lstm(x, initial_state =hidden)\n",
    "#         output, state_h, state_c = self.final_lstm(x)\n",
    "#         state = [state_h, state_c ]\n",
    "\n",
    "#         return output, state\n",
    "\n",
    "#     def initialize_hidden_state(self):\n",
    "#             return tf.zeros((self.batch_size , self.enc_units)), tf.zeros((self.batch_size , self.enc_units))"
   ]
  },
  {
   "cell_type": "code",
   "execution_count": 30,
   "id": "af2c40c8",
   "metadata": {
    "execution": {
     "iopub.execute_input": "2024-12-12T13:17:42.571229Z",
     "iopub.status.busy": "2024-12-12T13:17:42.570478Z",
     "iopub.status.idle": "2024-12-12T13:17:42.574370Z",
     "shell.execute_reply": "2024-12-12T13:17:42.573682Z"
    },
    "id": "V53dyDZO_F35",
    "papermill": {
     "duration": 0.051236,
     "end_time": "2024-12-12T13:17:42.576004",
     "exception": false,
     "start_time": "2024-12-12T13:17:42.524768",
     "status": "completed"
    },
    "tags": []
   },
   "outputs": [],
   "source": [
    "# encoder = Encoder(vocab_inp_size, embedding_dim, units, BATCH_SIZE, dropout_rate)"
   ]
  },
  {
   "cell_type": "code",
   "execution_count": 31,
   "id": "aa0dcbab",
   "metadata": {
    "execution": {
     "iopub.execute_input": "2024-12-12T13:17:42.666119Z",
     "iopub.status.busy": "2024-12-12T13:17:42.665447Z",
     "iopub.status.idle": "2024-12-12T13:17:42.695530Z",
     "shell.execute_reply": "2024-12-12T13:17:42.694665Z"
    },
    "papermill": {
     "duration": 0.076946,
     "end_time": "2024-12-12T13:17:42.697233",
     "exception": false,
     "start_time": "2024-12-12T13:17:42.620287",
     "status": "completed"
    },
    "tags": []
   },
   "outputs": [],
   "source": [
    "from tensorflow.keras.layers import Embedding, LSTM, Dropout\n",
    "from tensorflow.keras.models import Model\n",
    "from tensorflow.keras.saving import register_keras_serializable\n",
    "import tensorflow as tf\n",
    "\n",
    "@register_keras_serializable()\n",
    "class Encoder(Model):\n",
    "    def __init__(self, vocab_size, embedding_dim, enc_units, batch_size, dropout_rate, **kwargs):\n",
    "        super(Encoder, self).__init__(**kwargs)\n",
    "        self.vocab_size = vocab_size\n",
    "        self.embedding_dim = embedding_dim\n",
    "        self.enc_units = enc_units\n",
    "        self.batch_size = batch_size\n",
    "        self.dropout_rate = dropout_rate\n",
    "\n",
    "        self.dropout = Dropout(dropout_rate)\n",
    "        self.embedding = Embedding(vocab_size, embedding_dim)\n",
    "        self.first_lstm = LSTM(\n",
    "            self.enc_units,\n",
    "            return_sequences=True,\n",
    "            recurrent_initializer=\"glorot_uniform\",\n",
    "        )\n",
    "        self.final_lstm = LSTM(\n",
    "            self.enc_units,\n",
    "            return_sequences=True,\n",
    "            return_state=True,\n",
    "            recurrent_initializer=\"glorot_uniform\",\n",
    "        )\n",
    "\n",
    "    def call(self, x, hidden):\n",
    "        x = self.embedding(x)\n",
    "        x = self.dropout(x)\n",
    "        x = self.first_lstm(x, initial_state=hidden)\n",
    "        output, state_h, state_c = self.final_lstm(x)\n",
    "        state = [state_h, state_c]\n",
    "        return output, state\n",
    "\n",
    "    def initialize_hidden_state(self):\n",
    "        return (\n",
    "            tf.zeros((self.batch_size, self.enc_units)),\n",
    "            tf.zeros((self.batch_size, self.enc_units)),\n",
    "        )\n",
    "\n",
    "    def get_config(self):\n",
    "        config = super(Encoder, self).get_config()\n",
    "        config.update({\n",
    "            \"vocab_size\": self.vocab_size,\n",
    "            \"embedding_dim\": self.embedding_dim,\n",
    "            \"enc_units\": self.enc_units,\n",
    "            \"batch_size\": self.batch_size,\n",
    "            \"dropout_rate\": self.dropout_rate,\n",
    "        })\n",
    "        return config\n",
    "\n",
    "    @classmethod\n",
    "    def from_config(cls, config):\n",
    "        return cls(**config)\n",
    "\n",
    "\n",
    "# Instantiate the encoder\n",
    "encoder = Encoder(vocab_inp_size, embedding_dim, units, BATCH_SIZE, dropout_rate)\n"
   ]
  },
  {
   "cell_type": "markdown",
   "id": "b3d7406a",
   "metadata": {
    "id": "ZSn1VowJ9bCS",
    "papermill": {
     "duration": 0.044075,
     "end_time": "2024-12-12T13:17:42.785969",
     "exception": false,
     "start_time": "2024-12-12T13:17:42.741894",
     "status": "completed"
    },
    "tags": []
   },
   "source": [
    "# attention"
   ]
  },
  {
   "cell_type": "code",
   "execution_count": 32,
   "id": "cc3cc93f",
   "metadata": {
    "execution": {
     "iopub.execute_input": "2024-12-12T13:17:42.876726Z",
     "iopub.status.busy": "2024-12-12T13:17:42.876423Z",
     "iopub.status.idle": "2024-12-12T13:17:42.880451Z",
     "shell.execute_reply": "2024-12-12T13:17:42.879708Z"
    },
    "id": "cctmI1mA9bCS",
    "papermill": {
     "duration": 0.051971,
     "end_time": "2024-12-12T13:17:42.882022",
     "exception": false,
     "start_time": "2024-12-12T13:17:42.830051",
     "status": "completed"
    },
    "tags": []
   },
   "outputs": [],
   "source": [
    "# from tensorflow.keras.saving import register_keras_serializable\n",
    "\n",
    "# @register_keras_serializable()\n",
    "# class Attention(tf.keras.models.Model):\n",
    "\n",
    "#     def __init__(self, units: int, *args, **kwargs):\n",
    "\n",
    "#         super().__init__(*args, **kwargs)\n",
    "#         self.units = units\n",
    "\n",
    "#         self.q_dense_layer = Dense(units, use_bias=False, name='q_dense_layer')\n",
    "#         self.k_dense_layer = Dense(units, use_bias=False, name='k_dense_layer')\n",
    "#         self.v_dense_layer = Dense(units, use_bias=False, name='v_dense_layer')\n",
    "#         self.output_dense_layer = Dense(units, use_bias=False, name='output_dense_layer')\n",
    "\n",
    "#     def call(self, input, memory):\n",
    "\n",
    "#         q = self.q_dense_layer(input)\n",
    "#         k = self.k_dense_layer(memory)\n",
    "#         v = self.v_dense_layer(memory)\n",
    "\n",
    "#         depth = self.units // 2\n",
    "#         q *= depth ** -0.5  # for scaled dot production\n",
    "\n",
    "#         # caluclate relation between query and key\n",
    "#         logit = tf.matmul(q, k, transpose_b=True)\n",
    "\n",
    "#         attention_weight = tf.nn.softmax(logit)\n",
    "\n",
    "#         attention_output = tf.matmul(attention_weight, v)\n",
    "#         return self.output_dense_layer(attention_output)"
   ]
  },
  {
   "cell_type": "markdown",
   "id": "9a07c853",
   "metadata": {
    "id": "QBBPzDxK9bCg",
    "papermill": {
     "duration": 0.044432,
     "end_time": "2024-12-12T13:17:42.971567",
     "exception": false,
     "start_time": "2024-12-12T13:17:42.927135",
     "status": "completed"
    },
    "tags": []
   },
   "source": [
    "# Decoder Model"
   ]
  },
  {
   "cell_type": "code",
   "execution_count": 33,
   "id": "f3c4f3b9",
   "metadata": {
    "execution": {
     "iopub.execute_input": "2024-12-12T13:17:43.060931Z",
     "iopub.status.busy": "2024-12-12T13:17:43.060578Z",
     "iopub.status.idle": "2024-12-12T13:17:43.065100Z",
     "shell.execute_reply": "2024-12-12T13:17:43.064374Z"
    },
    "id": "1nED5gCZ9bCh",
    "papermill": {
     "duration": 0.051252,
     "end_time": "2024-12-12T13:17:43.066635",
     "exception": false,
     "start_time": "2024-12-12T13:17:43.015383",
     "status": "completed"
    },
    "tags": []
   },
   "outputs": [],
   "source": [
    "# from tensorflow.keras.saving import register_keras_serializable\n",
    "\n",
    "# @register_keras_serializable()\n",
    "# class Decoder(tf.keras.Model):\n",
    "#     def __init__(self, vocab_size, embedding_dim, dec_units, batch_size, dropout_rate):\n",
    "#         super(Decoder, self).__init__()\n",
    "#         self.batch_size = batch_size\n",
    "#         self.dec_units = dec_units\n",
    "#         self.embedding = tf.keras.layers.Embedding(vocab_size, embedding_dim)\n",
    "#         self.dropout = Dropout(dropout_rate)\n",
    "#         self.first_lstm = tf.keras.layers.LSTM(self.dec_units,\n",
    "#                                                             return_sequences=True)\n",
    "#         self.final_lstm = tf.keras.layers.LSTM(self.dec_units,\n",
    "#                                                             return_sequences=True,\n",
    "#                                                             return_state=True)\n",
    "\n",
    "#         self.fc = tf.keras.layers.Dense(vocab_size)\n",
    "\n",
    "#         self.attention = Attention(self.dec_units)\n",
    "\n",
    "#     def call(self, x, hidden, enc_output):\n",
    "#         x = self.embedding(x)\n",
    "#         x = self.dropout(x)\n",
    "\n",
    "#         x =  self.first_lstm(x)\n",
    "#         output, state_h, state_c = self.final_lstm(x)\n",
    "#         state = [state_h, state_c]\n",
    "#         attention_weights = self.attention(output, enc_output)\n",
    "#         output = tf.concat([output, attention_weights], axis=-1)\n",
    "\n",
    "\n",
    "#         output = tf.reshape(output, (-1, output.shape[2]))\n",
    "\n",
    "#         output = self.fc(output)\n",
    "\n",
    "#         return  output, state"
   ]
  },
  {
   "cell_type": "code",
   "execution_count": 34,
   "id": "cfcd96bb",
   "metadata": {
    "execution": {
     "iopub.execute_input": "2024-12-12T13:17:43.193392Z",
     "iopub.status.busy": "2024-12-12T13:17:43.192613Z",
     "iopub.status.idle": "2024-12-12T13:17:43.196326Z",
     "shell.execute_reply": "2024-12-12T13:17:43.195616Z"
    },
    "id": "37-lrVTN_F4X",
    "papermill": {
     "duration": 0.08618,
     "end_time": "2024-12-12T13:17:43.197937",
     "exception": false,
     "start_time": "2024-12-12T13:17:43.111757",
     "status": "completed"
    },
    "tags": []
   },
   "outputs": [],
   "source": [
    "# decoder = Decoder(vocab_tar_size, embedding_dim, units, BATCH_SIZE, dropout_rate)"
   ]
  },
  {
   "cell_type": "code",
   "execution_count": 35,
   "id": "e4bef059",
   "metadata": {
    "execution": {
     "iopub.execute_input": "2024-12-12T13:17:43.288075Z",
     "iopub.status.busy": "2024-12-12T13:17:43.287788Z",
     "iopub.status.idle": "2024-12-12T13:17:43.317159Z",
     "shell.execute_reply": "2024-12-12T13:17:43.316519Z"
    },
    "papermill": {
     "duration": 0.076403,
     "end_time": "2024-12-12T13:17:43.318765",
     "exception": false,
     "start_time": "2024-12-12T13:17:43.242362",
     "status": "completed"
    },
    "tags": []
   },
   "outputs": [],
   "source": [
    "import tensorflow as tf\n",
    "from tensorflow.keras.layers import Dense, Dropout\n",
    "from tensorflow.keras.models import Model\n",
    "from tensorflow.keras.saving import register_keras_serializable\n",
    "\n",
    "@register_keras_serializable()\n",
    "class Attention(tf.keras.Model):\n",
    "    def __init__(self, units: int, **kwargs):\n",
    "        super(Attention, self).__init__(**kwargs)\n",
    "        self.units = units\n",
    "\n",
    "        # Dense layers for Q, K, and V\n",
    "        self.q_dense_layer = Dense(units, use_bias=False, name='q_dense_layer')\n",
    "        self.k_dense_layer = Dense(units, use_bias=False, name='k_dense_layer')\n",
    "        self.v_dense_layer = Dense(units, use_bias=False, name='v_dense_layer')\n",
    "        self.output_dense_layer = Dense(units, use_bias=False, name='output_dense_layer')\n",
    "\n",
    "    def call(self, query, memory, mask=None):\n",
    "        # Apply dense layers for Q, K, V\n",
    "        q = self.q_dense_layer(query)\n",
    "        k = self.k_dense_layer(memory)\n",
    "        v = self.v_dense_layer(memory)\n",
    "\n",
    "        # Scale the query vector for stable dot-product\n",
    "        depth = self.units ** 0.5\n",
    "        q *= depth ** -0.5  # scaling for stability\n",
    "\n",
    "        # Compute the attention logits (query-key interaction)\n",
    "        logits = tf.matmul(q, k, transpose_b=True)\n",
    "\n",
    "        # Apply mask (optional) for padding or other unwanted areas\n",
    "        if mask is not None:\n",
    "            logits += (mask * -1e9)\n",
    "\n",
    "        # Normalize with softmax to get attention weights\n",
    "        attention_weights = tf.nn.softmax(logits, axis=-1)\n",
    "\n",
    "        # Compute the output by weighting the values\n",
    "        attention_output = tf.matmul(attention_weights, v)\n",
    "        return self.output_dense_layer(attention_output)\n",
    "\n",
    "@register_keras_serializable()\n",
    "class Decoder(tf.keras.Model):\n",
    "    def __init__(self, vocab_size, embedding_dim, dec_units, batch_size, dropout_rate, **kwargs):\n",
    "        super(Decoder, self).__init__(**kwargs)\n",
    "        self.batch_size = batch_size\n",
    "        self.dec_units = dec_units\n",
    "        self.vocab_size=vocab_size\n",
    "        self.embedding_dim=embedding_dim\n",
    "        self.dropout_rate=dropout_rate\n",
    "        self.embedding = tf.keras.layers.Embedding(vocab_size, embedding_dim)\n",
    "        self.dropout = Dropout(dropout_rate)\n",
    "        self.first_lstm = tf.keras.layers.LSTM(self.dec_units, return_sequences=True)\n",
    "        self.final_lstm = tf.keras.layers.LSTM(self.dec_units, return_sequences=True, return_state=True)\n",
    "        self.fc = tf.keras.layers.Dense(vocab_size)\n",
    "        self.attention = Attention(self.dec_units)\n",
    "\n",
    "    def get_config(self):\n",
    "        # Return the arguments that were passed to __init__\n",
    "        config = super(Decoder, self).get_config()\n",
    "        config.update({\n",
    "            'vocab_size': self.vocab_size,\n",
    "            'embedding_dim': self.embedding_dim,\n",
    "            'dec_units': self.dec_units,\n",
    "            'batch_size': self.batch_size,\n",
    "            'dropout_rate': self.dropout_rate\n",
    "        })\n",
    "        return config\n",
    "\n",
    "    @classmethod\n",
    "    def from_config(cls, config):\n",
    "        # Create the instance from config\n",
    "        return cls(**config)\n",
    "\n",
    "    def call(self, x, hidden, enc_output, mask=None):  # Ensure mask is a keyword argument\n",
    "        x = self.embedding(x)\n",
    "        x = self.dropout(x)\n",
    "\n",
    "        # First LSTM layer\n",
    "        x = self.first_lstm(x)\n",
    "\n",
    "        # Final LSTM layer\n",
    "        output, state_h, state_c = self.final_lstm(x)\n",
    "        state = [state_h, state_c]\n",
    "\n",
    "        # Apply attention mechanism, passing mask as a keyword argument\n",
    "        attention_weights = self.attention(output, enc_output, mask=mask)\n",
    "\n",
    "        # Concatenate attention output with LSTM output\n",
    "        output = tf.concat([output, attention_weights], axis=-1)\n",
    "\n",
    "        # Reshape to match the dimensions for the final dense layer\n",
    "        output = tf.reshape(output, (-1, output.shape[2]))\n",
    "\n",
    "        # Final dense layer to predict vocabulary\n",
    "        output = self.fc(output)\n",
    "\n",
    "        return output, state\n",
    "\n",
    "# Instantiate the decoder\n",
    "decoder = Decoder(vocab_tar_size, embedding_dim, units, BATCH_SIZE, dropout_rate)\n"
   ]
  },
  {
   "cell_type": "markdown",
   "id": "7b5f3368",
   "metadata": {
    "id": "fvyXf1bn9bC1",
    "papermill": {
     "duration": 0.04379,
     "end_time": "2024-12-12T13:17:43.406912",
     "exception": false,
     "start_time": "2024-12-12T13:17:43.363122",
     "status": "completed"
    },
    "tags": []
   },
   "source": [
    "# optimizer and the loss function"
   ]
  },
  {
   "cell_type": "code",
   "execution_count": 36,
   "id": "4d907f27",
   "metadata": {
    "execution": {
     "iopub.execute_input": "2024-12-12T13:17:43.496554Z",
     "iopub.status.busy": "2024-12-12T13:17:43.495914Z",
     "iopub.status.idle": "2024-12-12T13:17:43.508746Z",
     "shell.execute_reply": "2024-12-12T13:17:43.507867Z"
    },
    "id": "wROZueWU9bC3",
    "outputId": "a4428ca8-c26b-46b6-e0e4-f73aae812581",
    "papermill": {
     "duration": 0.059687,
     "end_time": "2024-12-12T13:17:43.510647",
     "exception": false,
     "start_time": "2024-12-12T13:17:43.450960",
     "status": "completed"
    },
    "tags": []
   },
   "outputs": [
    {
     "name": "stderr",
     "output_type": "stream",
     "text": [
      "/opt/conda/lib/python3.10/site-packages/keras/src/optimizers/base_optimizer.py:33: UserWarning: Argument `decay` is no longer supported and will be ignored.\n",
      "  warnings.warn(\n"
     ]
    }
   ],
   "source": [
    "optimizer = tf.keras.optimizers.Adam(learning_rate=0.001, beta_1=0.9, beta_2=0.9, epsilon=1e-04, decay=1e-06)\n",
    "loss_object = tf.keras.losses.SparseCategoricalCrossentropy(\n",
    "    from_logits=True, reduction='none')\n",
    "\n",
    "def loss_function(real, pred):\n",
    "  mask = tf.math.logical_not(tf.math.equal(real, 0))\n",
    "  loss_ = loss_object(real, pred)\n",
    "\n",
    "  mask = tf.cast(mask, dtype=loss_.dtype)\n",
    "  loss_ *= mask\n",
    "\n",
    "  return tf.reduce_mean(loss_)\n",
    "\n",
    "def calculate_accuracy(real, pred):\n",
    "    # Ensure both tensors have the same dtype\n",
    "    real = tf.cast(real, dtype=tf.int32)\n",
    "    pred_tokens = tf.argmax(pred, axis=-1, output_type=tf.int32)  # Ensure int32 output\n",
    "\n",
    "    correct = tf.equal(real, pred_tokens)  # Compare predicted and actual tokens\n",
    "    mask = tf.math.logical_not(tf.math.equal(real, 0))  # Mask padding tokens\n",
    "    correct = tf.math.logical_and(correct, mask)  # Only consider non-padding tokens\n",
    "\n",
    "    accuracy = tf.reduce_mean(tf.cast(correct, dtype=tf.float32))  # Average accuracy\n",
    "    return accuracy\n"
   ]
  },
  {
   "cell_type": "markdown",
   "id": "7c99a4ee",
   "metadata": {
    "id": "DtDLuqB49bC7",
    "papermill": {
     "duration": 0.043937,
     "end_time": "2024-12-12T13:17:43.598895",
     "exception": false,
     "start_time": "2024-12-12T13:17:43.554958",
     "status": "completed"
    },
    "tags": []
   },
   "source": [
    "# Checkpoints"
   ]
  },
  {
   "cell_type": "code",
   "execution_count": 37,
   "id": "80cd0cd9",
   "metadata": {
    "execution": {
     "iopub.execute_input": "2024-12-12T13:17:43.688702Z",
     "iopub.status.busy": "2024-12-12T13:17:43.688435Z",
     "iopub.status.idle": "2024-12-12T13:17:43.693521Z",
     "shell.execute_reply": "2024-12-12T13:17:43.692870Z"
    },
    "id": "0CWEvq3W9bC8",
    "papermill": {
     "duration": 0.052004,
     "end_time": "2024-12-12T13:17:43.695085",
     "exception": false,
     "start_time": "2024-12-12T13:17:43.643081",
     "status": "completed"
    },
    "tags": []
   },
   "outputs": [],
   "source": [
    "checkpoint_dir = './train_checkpoints_aniki_data---tryyyy' if not kaggle else '/kaggle/working//train_checkpoints_aniki_data---tryyyy'\n",
    "checkpoint_prefix = os.path.join(checkpoint_dir, \"ckpt\")\n",
    "checkpoint = tf.train.Checkpoint(optimizer=optimizer,\n",
    "                                 encoder=encoder,\n",
    "                                 decoder=decoder)\n",
    "\n",
    "checkpoint_second = tf.keras.callbacks.ModelCheckpoint(\n",
    "    filepath=\"model_checkpoint.keras\",\n",
    "    save_best_only=True,\n",
    "    monitor=\"val_loss\"\n",
    ")\n"
   ]
  },
  {
   "cell_type": "markdown",
   "id": "c500ccda",
   "metadata": {
    "id": "Ja0mhQ4j9bDB",
    "papermill": {
     "duration": 0.043806,
     "end_time": "2024-12-12T13:17:43.782780",
     "exception": false,
     "start_time": "2024-12-12T13:17:43.738974",
     "status": "completed"
    },
    "tags": []
   },
   "source": [
    "# train model"
   ]
  },
  {
   "cell_type": "code",
   "execution_count": 38,
   "id": "5b0bf277",
   "metadata": {
    "execution": {
     "iopub.execute_input": "2024-12-12T13:17:43.872743Z",
     "iopub.status.busy": "2024-12-12T13:17:43.872432Z",
     "iopub.status.idle": "2024-12-12T13:17:43.879683Z",
     "shell.execute_reply": "2024-12-12T13:17:43.878902Z"
    },
    "id": "YQCFFTZOSJoG",
    "papermill": {
     "duration": 0.054775,
     "end_time": "2024-12-12T13:17:43.881330",
     "exception": false,
     "start_time": "2024-12-12T13:17:43.826555",
     "status": "completed"
    },
    "tags": []
   },
   "outputs": [],
   "source": [
    "import matplotlib.pyplot as plt\n",
    "\n",
    "def plot_training_metrics(EPOCHS, train_loss_history, val_loss_history, train_accuracy_history, val_accuracy_history):\n",
    "    \"\"\"\n",
    "    Plots training and validation loss and accuracy per epoch.\n",
    "\n",
    "    Args:\n",
    "        EPOCHS (int): Number of training epochs.\n",
    "        train_loss_history (list): Training loss history.\n",
    "        val_loss_history (list): Validation loss history.\n",
    "        train_accuracy_history (list): Training accuracy history.\n",
    "        val_accuracy_history (list): Validation accuracy history.\n",
    "    \"\"\"\n",
    "    plt.figure(figsize=(12, 6))\n",
    "\n",
    "    # Loss plot\n",
    "    plt.subplot(1, 2, 1)\n",
    "    plt.plot(range(1, EPOCHS + 1), train_loss_history, label='Train Loss', marker='o')\n",
    "    plt.plot(range(1, EPOCHS + 1), val_loss_history, label='Validation Loss', marker='o')\n",
    "    plt.title('Loss per Epoch')\n",
    "    plt.xlabel('Epochs')\n",
    "    plt.ylabel('Loss')\n",
    "    plt.legend()\n",
    "    plt.grid()\n",
    "\n",
    "    # Accuracy plot\n",
    "    plt.subplot(1, 2, 2)\n",
    "    plt.plot(range(1, EPOCHS + 1), train_accuracy_history, label='Train Accuracy', marker='o')\n",
    "    plt.plot(range(1, EPOCHS + 1), val_accuracy_history, label='Validation Accuracy', marker='o')\n",
    "    plt.title('Accuracy per Epoch')\n",
    "    plt.xlabel('Epochs')\n",
    "    plt.ylabel('Accuracy')\n",
    "    plt.legend()\n",
    "    plt.grid()\n",
    "\n",
    "    # Show the plots\n",
    "    plt.tight_layout()\n",
    "    plt.show()\n"
   ]
  },
  {
   "cell_type": "code",
   "execution_count": 39,
   "id": "bb37b8a5",
   "metadata": {
    "execution": {
     "iopub.execute_input": "2024-12-12T13:17:43.972960Z",
     "iopub.status.busy": "2024-12-12T13:17:43.972253Z",
     "iopub.status.idle": "2024-12-12T13:17:43.979483Z",
     "shell.execute_reply": "2024-12-12T13:17:43.978623Z"
    },
    "id": "TQSV9kkd9bDB",
    "papermill": {
     "duration": 0.055331,
     "end_time": "2024-12-12T13:17:43.981046",
     "exception": false,
     "start_time": "2024-12-12T13:17:43.925715",
     "status": "completed"
    },
    "tags": []
   },
   "outputs": [],
   "source": [
    "# Add accuracy calculation to the training step\n",
    "@tf.function\n",
    "def train_step_with_accuracy(inp, targ, enc_hidden):\n",
    "    loss = 0\n",
    "    total_accuracy = 0\n",
    "\n",
    "    with tf.GradientTape() as tape:\n",
    "        enc_output, enc_hidden = encoder(inp, enc_hidden)\n",
    "        dec_hidden = enc_hidden\n",
    "        dec_input = tf.expand_dims([target_lang_tokenize.word_index['start_']] * BATCH_SIZE, 1)\n",
    "\n",
    "        for t in range(1, targ.shape[1]):\n",
    "            predictions, dec_hidden = decoder(dec_input, dec_hidden, enc_output)\n",
    "            loss += loss_function(targ[:, t], predictions)\n",
    "\n",
    "            # Calculate accuracy for this step\n",
    "            batch_accuracy = calculate_accuracy(targ[:, t], predictions)\n",
    "            total_accuracy += batch_accuracy\n",
    "\n",
    "            # Use teacher forcing\n",
    "            dec_input = tf.expand_dims(targ[:, t], 1)\n",
    "\n",
    "    batch_loss = loss / int(targ.shape[1])\n",
    "    batch_accuracy = total_accuracy / int(targ.shape[1])\n",
    "\n",
    "    variables = encoder.trainable_variables + decoder.trainable_variables\n",
    "    gradients = tape.gradient(loss, variables)\n",
    "    optimizer.apply_gradients(zip(gradients, variables))\n",
    "\n",
    "    return batch_loss, batch_accuracy"
   ]
  },
  {
   "cell_type": "code",
   "execution_count": 40,
   "id": "d260231d",
   "metadata": {
    "execution": {
     "iopub.execute_input": "2024-12-12T13:17:44.070423Z",
     "iopub.status.busy": "2024-12-12T13:17:44.070178Z",
     "iopub.status.idle": "2024-12-12T13:17:44.073750Z",
     "shell.execute_reply": "2024-12-12T13:17:44.072949Z"
    },
    "papermill": {
     "duration": 0.05024,
     "end_time": "2024-12-12T13:17:44.075264",
     "exception": false,
     "start_time": "2024-12-12T13:17:44.025024",
     "status": "completed"
    },
    "tags": []
   },
   "outputs": [],
   "source": [
    "# first_run change this to epoch 2 for the first run\n",
    "EPOCHS = 20"
   ]
  },
  {
   "cell_type": "code",
   "execution_count": 41,
   "id": "6a117b95",
   "metadata": {
    "execution": {
     "iopub.execute_input": "2024-12-12T13:17:44.165833Z",
     "iopub.status.busy": "2024-12-12T13:17:44.165534Z",
     "iopub.status.idle": "2024-12-12T20:07:42.705403Z",
     "shell.execute_reply": "2024-12-12T20:07:42.704531Z"
    },
    "id": "rCI9q4-C9bDI",
    "outputId": "ad4fc8b4-5b0d-4638-fc6b-e2f153919d6c",
    "papermill": {
     "duration": 24598.588013,
     "end_time": "2024-12-12T20:07:42.707470",
     "exception": false,
     "start_time": "2024-12-12T13:17:44.119457",
     "status": "completed"
    },
    "tags": []
   },
   "outputs": [
    {
     "name": "stdout",
     "output_type": "stream",
     "text": [
      "Starting training from scratch.\n",
      "\n",
      "Epoch 1/20\n"
     ]
    },
    {
     "name": "stderr",
     "output_type": "stream",
     "text": [
      "                                                             \r"
     ]
    },
    {
     "name": "stdout",
     "output_type": "stream",
     "text": [
      "Epoch 1 Train Loss: 0.5949, Train Accuracy: 0.0299\n",
      "Epoch 1 Validation Loss: 0.4914, Validation Accuracy: 0.0416\n",
      "\n",
      "Epoch 2/20\n"
     ]
    },
    {
     "name": "stderr",
     "output_type": "stream",
     "text": [
      "                                                             \r"
     ]
    },
    {
     "name": "stdout",
     "output_type": "stream",
     "text": [
      "Epoch 2 Train Loss: 0.4340, Train Accuracy: 0.0495\n",
      "Epoch 2 Validation Loss: 0.3902, Validation Accuracy: 0.0554\n",
      "\n",
      "Epoch 3/20\n"
     ]
    },
    {
     "name": "stderr",
     "output_type": "stream",
     "text": [
      "                                                             \r"
     ]
    },
    {
     "name": "stdout",
     "output_type": "stream",
     "text": [
      "Epoch 3 Train Loss: 0.3607, Train Accuracy: 0.0600\n",
      "Epoch 3 Validation Loss: 0.3361, Validation Accuracy: 0.0633\n",
      "\n",
      "Epoch 4/20\n"
     ]
    },
    {
     "name": "stderr",
     "output_type": "stream",
     "text": [
      "                                                             \r"
     ]
    },
    {
     "name": "stdout",
     "output_type": "stream",
     "text": [
      "Epoch 4 Train Loss: 0.3176, Train Accuracy: 0.0663\n",
      "Epoch 4 Validation Loss: 0.2995, Validation Accuracy: 0.0687\n",
      "\n",
      "Epoch 5/20\n"
     ]
    },
    {
     "name": "stderr",
     "output_type": "stream",
     "text": [
      "                                                             \r"
     ]
    },
    {
     "name": "stdout",
     "output_type": "stream",
     "text": [
      "Epoch 5 Train Loss: 0.2863, Train Accuracy: 0.0709\n",
      "Epoch 5 Validation Loss: 0.2713, Validation Accuracy: 0.0729\n",
      "\n",
      "Epoch 6/20\n"
     ]
    },
    {
     "name": "stderr",
     "output_type": "stream",
     "text": [
      "                                                             \r"
     ]
    },
    {
     "name": "stdout",
     "output_type": "stream",
     "text": [
      "Epoch 6 Train Loss: 0.2620, Train Accuracy: 0.0746\n",
      "Epoch 6 Validation Loss: 0.2483, Validation Accuracy: 0.0767\n",
      "\n",
      "Epoch 7/20\n"
     ]
    },
    {
     "name": "stderr",
     "output_type": "stream",
     "text": [
      "                                                             \r"
     ]
    },
    {
     "name": "stdout",
     "output_type": "stream",
     "text": [
      "Epoch 7 Train Loss: 0.2417, Train Accuracy: 0.0778\n",
      "Epoch 7 Validation Loss: 0.2291, Validation Accuracy: 0.0798\n",
      "\n",
      "Epoch 8/20\n"
     ]
    },
    {
     "name": "stderr",
     "output_type": "stream",
     "text": [
      "                                                             \r"
     ]
    },
    {
     "name": "stdout",
     "output_type": "stream",
     "text": [
      "Epoch 8 Train Loss: 0.2244, Train Accuracy: 0.0806\n",
      "Epoch 8 Validation Loss: 0.2121, Validation Accuracy: 0.0825\n",
      "\n",
      "Epoch 9/20\n"
     ]
    },
    {
     "name": "stderr",
     "output_type": "stream",
     "text": [
      "                                                             \r"
     ]
    },
    {
     "name": "stdout",
     "output_type": "stream",
     "text": [
      "Epoch 9 Train Loss: 0.2088, Train Accuracy: 0.0832\n",
      "Epoch 9 Validation Loss: 0.1978, Validation Accuracy: 0.0849\n",
      "\n",
      "Epoch 10/20\n"
     ]
    },
    {
     "name": "stderr",
     "output_type": "stream",
     "text": [
      "                                                             \r"
     ]
    },
    {
     "name": "stdout",
     "output_type": "stream",
     "text": [
      "Epoch 10 Train Loss: 0.1959, Train Accuracy: 0.0852\n",
      "Epoch 10 Validation Loss: 0.1860, Validation Accuracy: 0.0869\n",
      "\n",
      "Epoch 11/20\n"
     ]
    },
    {
     "name": "stderr",
     "output_type": "stream",
     "text": [
      "                                                             \r"
     ]
    },
    {
     "name": "stdout",
     "output_type": "stream",
     "text": [
      "Epoch 11 Train Loss: 0.1844, Train Accuracy: 0.0871\n",
      "Epoch 11 Validation Loss: 0.1773, Validation Accuracy: 0.0884\n",
      "\n",
      "Epoch 12/20\n"
     ]
    },
    {
     "name": "stderr",
     "output_type": "stream",
     "text": [
      "                                                             \r"
     ]
    },
    {
     "name": "stdout",
     "output_type": "stream",
     "text": [
      "Epoch 12 Train Loss: 0.1769, Train Accuracy: 0.0886\n",
      "Epoch 12 Validation Loss: 0.1698, Validation Accuracy: 0.0901\n",
      "\n",
      "Epoch 13/20\n"
     ]
    },
    {
     "name": "stderr",
     "output_type": "stream",
     "text": [
      "                                                             \r"
     ]
    },
    {
     "name": "stdout",
     "output_type": "stream",
     "text": [
      "Epoch 13 Train Loss: 0.1692, Train Accuracy: 0.0901\n",
      "Epoch 13 Validation Loss: 0.1619, Validation Accuracy: 0.0912\n",
      "\n",
      "Epoch 14/20\n"
     ]
    },
    {
     "name": "stderr",
     "output_type": "stream",
     "text": [
      "                                                             \r"
     ]
    },
    {
     "name": "stdout",
     "output_type": "stream",
     "text": [
      "Epoch 14 Train Loss: 0.1621, Train Accuracy: 0.0914\n",
      "Epoch 14 Validation Loss: 0.1548, Validation Accuracy: 0.0927\n",
      "\n",
      "Epoch 15/20\n"
     ]
    },
    {
     "name": "stderr",
     "output_type": "stream",
     "text": [
      "                                                             \r"
     ]
    },
    {
     "name": "stdout",
     "output_type": "stream",
     "text": [
      "Epoch 15 Train Loss: 0.1559, Train Accuracy: 0.0926\n",
      "Epoch 15 Validation Loss: 0.1492, Validation Accuracy: 0.0936\n",
      "\n",
      "Epoch 16/20\n"
     ]
    },
    {
     "name": "stderr",
     "output_type": "stream",
     "text": [
      "                                                             \r"
     ]
    },
    {
     "name": "stdout",
     "output_type": "stream",
     "text": [
      "Epoch 16 Train Loss: 0.1502, Train Accuracy: 0.0937\n",
      "Epoch 16 Validation Loss: 0.1440, Validation Accuracy: 0.0946\n",
      "\n",
      "Epoch 17/20\n"
     ]
    },
    {
     "name": "stderr",
     "output_type": "stream",
     "text": [
      "                                                             \r"
     ]
    },
    {
     "name": "stdout",
     "output_type": "stream",
     "text": [
      "Epoch 17 Train Loss: 0.1450, Train Accuracy: 0.0947\n",
      "Epoch 17 Validation Loss: 0.1392, Validation Accuracy: 0.0957\n",
      "\n",
      "Epoch 18/20\n"
     ]
    },
    {
     "name": "stderr",
     "output_type": "stream",
     "text": [
      "                                                             \r"
     ]
    },
    {
     "name": "stdout",
     "output_type": "stream",
     "text": [
      "Epoch 18 Train Loss: 0.1405, Train Accuracy: 0.0957\n",
      "Epoch 18 Validation Loss: 0.1343, Validation Accuracy: 0.0967\n",
      "\n",
      "Epoch 19/20\n"
     ]
    },
    {
     "name": "stderr",
     "output_type": "stream",
     "text": [
      "                                                             \r"
     ]
    },
    {
     "name": "stdout",
     "output_type": "stream",
     "text": [
      "Epoch 19 Train Loss: 0.1365, Train Accuracy: 0.0964\n",
      "Epoch 19 Validation Loss: 0.1302, Validation Accuracy: 0.0974\n",
      "\n",
      "Epoch 20/20\n"
     ]
    },
    {
     "name": "stderr",
     "output_type": "stream",
     "text": [
      "                                                             \r"
     ]
    },
    {
     "name": "stdout",
     "output_type": "stream",
     "text": [
      "Epoch 20 Train Loss: 0.1323, Train Accuracy: 0.0972\n",
      "Epoch 20 Validation Loss: 0.1263, Validation Accuracy: 0.0984\n"
     ]
    },
    {
     "data": {
      "image/png": "[encoded data removed]",
      "text/plain": [
       "<Figure size 1200x600 with 2 Axes>"
      ]
     },
     "metadata": {},
     "output_type": "display_data"
    }
   ],
   "source": [
    "import matplotlib.pyplot as plt\n",
    "from tqdm import tqdm\n",
    "\n",
    "# Restore the latest checkpoint if it exists\n",
    "latest_checkpoint = tf.train.latest_checkpoint(checkpoint_dir)\n",
    "if latest_checkpoint:\n",
    "    checkpoint.restore(latest_checkpoint)\n",
    "    print(f\"Restored from {latest_checkpoint}\")\n",
    "else:\n",
    "    print(\"Starting training from scratch.\")\n",
    "\n",
    "\n",
    "# Lists to store metrics\n",
    "train_loss_history = []\n",
    "train_accuracy_history = []\n",
    "val_loss_history = []\n",
    "val_accuracy_history = []\n",
    "\n",
    "for epoch in range(EPOCHS):\n",
    "    enc_hidden = encoder.initialize_hidden_state()\n",
    "    train_loss = 0\n",
    "    train_accuracy = 0\n",
    "    val_loss = 0\n",
    "    val_accuracy = 0\n",
    "\n",
    "    print(f\"\\nEpoch {epoch + 1}/{EPOCHS}\")\n",
    "\n",
    "    # Training loop\n",
    "    for (batch, (inp, targ)) in enumerate(tqdm(train_dataset.take(train_steps_per_epoch), desc=\"Training\", leave=False)):\n",
    "        train_batch_loss, train_batch_accuracy = train_step_with_accuracy(inp, targ, enc_hidden)\n",
    "        train_loss += train_batch_loss\n",
    "        train_accuracy += train_batch_accuracy\n",
    "\n",
    "    # Validation loop\n",
    "    for (batch, (val_inp, val_tar)) in enumerate(tqdm(val_dataset.take(val_steps_per_epoch), desc=\"Validation\", leave=False)):\n",
    "        val_batch_loss, val_batch_accuracy = train_step_with_accuracy(val_inp, val_tar, enc_hidden)\n",
    "        val_loss += val_batch_loss\n",
    "        val_accuracy += val_batch_accuracy\n",
    "\n",
    "    # Save metrics for this epoch\n",
    "    train_loss /= train_steps_per_epoch\n",
    "    train_accuracy /= train_steps_per_epoch\n",
    "    val_loss /= val_steps_per_epoch\n",
    "    val_accuracy /= val_steps_per_epoch\n",
    "\n",
    "    train_loss_history.append(train_loss.numpy())\n",
    "    train_accuracy_history.append(train_accuracy.numpy())\n",
    "    val_loss_history.append(val_loss.numpy())\n",
    "    val_accuracy_history.append(val_accuracy.numpy())\n",
    "\n",
    "    # Save checkpoint\n",
    "    if (epoch + 1) % 1 == 0:\n",
    "        checkpoint.save(file_prefix=checkpoint_prefix)\n",
    "\n",
    "    # Print metrics\n",
    "    print(f\"Epoch {epoch + 1} Train Loss: {train_loss:.4f}, Train Accuracy: {train_accuracy:.4f}\")\n",
    "    print(f\"Epoch {epoch + 1} Validation Loss: {val_loss:.4f}, Validation Accuracy: {val_accuracy:.4f}\")\n",
    "\n",
    "plot_training_metrics(\n",
    "    EPOCHS=EPOCHS,\n",
    "    train_loss_history=train_loss_history,\n",
    "    val_loss_history=val_loss_history,\n",
    "    train_accuracy_history=train_accuracy_history,\n",
    "    val_accuracy_history=val_accuracy_history\n",
    ")\n",
    "\n"
   ]
  },
  {
   "cell_type": "code",
   "execution_count": 42,
   "id": "ff595e1a",
   "metadata": {
    "execution": {
     "iopub.execute_input": "2024-12-12T20:07:45.666966Z",
     "iopub.status.busy": "2024-12-12T20:07:45.666605Z",
     "iopub.status.idle": "2024-12-12T20:07:46.225346Z",
     "shell.execute_reply": "2024-12-12T20:07:46.224365Z"
    },
    "id": "fheWYJEnSVVn",
    "outputId": "5faba64f-a818-4901-ddcf-8a285555c447",
    "papermill": {
     "duration": 2.043216,
     "end_time": "2024-12-12T20:07:46.227590",
     "exception": false,
     "start_time": "2024-12-12T20:07:44.184374",
     "status": "completed"
    },
    "tags": []
   },
   "outputs": [
    {
     "data": {
      "image/png": "[encoded data removed]",
      "text/plain": [
       "<Figure size 1200x600 with 2 Axes>"
      ]
     },
     "metadata": {},
     "output_type": "display_data"
    }
   ],
   "source": [
    "plot_training_metrics(\n",
    "    EPOCHS=EPOCHS,\n",
    "    train_loss_history=train_loss_history,\n",
    "    val_loss_history=val_loss_history,\n",
    "    train_accuracy_history=train_accuracy_history,\n",
    "    val_accuracy_history=val_accuracy_history\n",
    ")\n"
   ]
  },
  {
   "cell_type": "markdown",
   "id": "0e4d08f6",
   "metadata": {
    "id": "hOhXwpZlDwJp",
    "papermill": {
     "duration": 1.542564,
     "end_time": "2024-12-12T20:07:49.357363",
     "exception": false,
     "start_time": "2024-12-12T20:07:47.814799",
     "status": "completed"
    },
    "tags": []
   },
   "source": [
    "# Load trained model"
   ]
  },
  {
   "cell_type": "code",
   "execution_count": 43,
   "id": "c180a4f3",
   "metadata": {
    "execution": {
     "iopub.execute_input": "2024-12-12T20:07:52.312155Z",
     "iopub.status.busy": "2024-12-12T20:07:52.311244Z",
     "iopub.status.idle": "2024-12-12T20:07:52.729798Z",
     "shell.execute_reply": "2024-12-12T20:07:52.728723Z"
    },
    "id": "RVDzzIKJBsBU",
    "papermill": {
     "duration": 1.904061,
     "end_time": "2024-12-12T20:07:52.733143",
     "exception": false,
     "start_time": "2024-12-12T20:07:50.829082",
     "status": "completed"
    },
    "tags": []
   },
   "outputs": [
    {
     "data": {
      "text/plain": [
       "<tensorflow.python.checkpoint.checkpoint.CheckpointLoadStatus at 0x7b577b1dbfd0>"
      ]
     },
     "execution_count": 43,
     "metadata": {},
     "output_type": "execute_result"
    }
   ],
   "source": [
    "checkpoint.restore(f\"{checkpoint_dir}/ckpt-{EPOCHS}\")"
   ]
  },
  {
   "cell_type": "code",
   "execution_count": 44,
   "id": "a7d9a827",
   "metadata": {
    "execution": {
     "iopub.execute_input": "2024-12-12T20:07:55.762123Z",
     "iopub.status.busy": "2024-12-12T20:07:55.761738Z",
     "iopub.status.idle": "2024-12-12T20:07:55.765586Z",
     "shell.execute_reply": "2024-12-12T20:07:55.764868Z"
    },
    "id": "nQnK48R0BuZT",
    "papermill": {
     "duration": 1.535688,
     "end_time": "2024-12-12T20:07:55.767122",
     "exception": false,
     "start_time": "2024-12-12T20:07:54.231434",
     "status": "completed"
    },
    "tags": []
   },
   "outputs": [],
   "source": [
    "# into base model\n",
    "encoder = checkpoint.encoder\n",
    "decoder = checkpoint.decoder"
   ]
  },
  {
   "cell_type": "markdown",
   "id": "a2f5173d",
   "metadata": {
    "id": "0gu5bPpdEHVz",
    "papermill": {
     "duration": 1.475796,
     "end_time": "2024-12-12T20:07:58.751214",
     "exception": false,
     "start_time": "2024-12-12T20:07:57.275418",
     "status": "completed"
    },
    "tags": []
   },
   "source": [
    "# Evaluation\n",
    "\n",
    "Check bleu score"
   ]
  },
  {
   "cell_type": "code",
   "execution_count": 45,
   "id": "f194f327",
   "metadata": {
    "execution": {
     "iopub.execute_input": "2024-12-12T20:08:01.840004Z",
     "iopub.status.busy": "2024-12-12T20:08:01.839635Z",
     "iopub.status.idle": "2024-12-12T20:08:01.845940Z",
     "shell.execute_reply": "2024-12-12T20:08:01.845147Z"
    },
    "id": "wJ8r9JNREs01",
    "papermill": {
     "duration": 1.617114,
     "end_time": "2024-12-12T20:08:01.847473",
     "exception": false,
     "start_time": "2024-12-12T20:08:00.230359",
     "status": "completed"
    },
    "tags": []
   },
   "outputs": [],
   "source": [
    "def predict(sentence):\n",
    "    inputs = tf.convert_to_tensor(sentence)\n",
    "    result = ''\n",
    "    inputs = tf.expand_dims(inputs, axis=0)\n",
    "    hidden = [tf.zeros((1, units)), tf.zeros((1, units))]\n",
    "    enc_out, state = encoder(inputs, hidden)\n",
    "    hidden_state = state\n",
    "    dec_input = tf.expand_dims([target_lang_tokenize.word_index['start_']], 0)\n",
    "    for t in range(max_length_target):\n",
    "        predictions, hidden_state = decoder(dec_input,\n",
    "                                                             hidden_state,\n",
    "                                                             enc_out)\n",
    "\n",
    "        predicted_id = tf.argmax(predictions[0]).numpy()\n",
    "\n",
    "        result += target_lang_tokenize.index_word[predicted_id] + ' '\n",
    "        if target_lang_tokenize.index_word[predicted_id] == '_end' or len(result) > max_length_target:\n",
    "            return result\n",
    "\n",
    "        # the predicted ID is fed back into the model\n",
    "        dec_input = tf.expand_dims([predicted_id], 0)\n",
    "    return result"
   ]
  },
  {
   "cell_type": "code",
   "execution_count": 46,
   "id": "2b30322c",
   "metadata": {
    "execution": {
     "iopub.execute_input": "2024-12-12T20:08:04.794231Z",
     "iopub.status.busy": "2024-12-12T20:08:04.793888Z",
     "iopub.status.idle": "2024-12-12T20:08:04.798437Z",
     "shell.execute_reply": "2024-12-12T20:08:04.797641Z"
    },
    "id": "87pBzvXjRkJL",
    "papermill": {
     "duration": 1.478375,
     "end_time": "2024-12-12T20:08:04.800037",
     "exception": false,
     "start_time": "2024-12-12T20:08:03.321662",
     "status": "completed"
    },
    "tags": []
   },
   "outputs": [],
   "source": [
    "def create_reference(lang, tensor):\n",
    "    all_sentence_list = []\n",
    "\n",
    "    for word_list in tensor:\n",
    "      sentence_list = []\n",
    "\n",
    "      for t in word_list:\n",
    "          if not t == 0:\n",
    "              # Index number assigned to each word\n",
    "              sentence_list.append(lang.index_word[t])\n",
    "      all_sentence_list.append(sentence_list)\n",
    "    return all_sentence_list"
   ]
  },
  {
   "cell_type": "code",
   "execution_count": 47,
   "id": "2aced6a1",
   "metadata": {
    "execution": {
     "iopub.execute_input": "2024-12-12T20:08:07.786900Z",
     "iopub.status.busy": "2024-12-12T20:08:07.786516Z",
     "iopub.status.idle": "2024-12-12T20:08:08.382551Z",
     "shell.execute_reply": "2024-12-12T20:08:08.381890Z"
    },
    "id": "JGwwlmHtRrfb",
    "papermill": {
     "duration": 2.114824,
     "end_time": "2024-12-12T20:08:08.384580",
     "exception": false,
     "start_time": "2024-12-12T20:08:06.269756",
     "status": "completed"
    },
    "tags": []
   },
   "outputs": [],
   "source": [
    "\n",
    "limit=60\n",
    "# create reference\n",
    "reference = create_reference(target_lang_tokenize, Y_test.tolist()[:limit])"
   ]
  },
  {
   "cell_type": "code",
   "execution_count": 48,
   "id": "9b9998b2",
   "metadata": {
    "execution": {
     "iopub.execute_input": "2024-12-12T20:08:11.375339Z",
     "iopub.status.busy": "2024-12-12T20:08:11.375004Z",
     "iopub.status.idle": "2024-12-12T20:08:22.557573Z",
     "shell.execute_reply": "2024-12-12T20:08:22.556708Z"
    },
    "id": "UAAMX-vQEKB_",
    "papermill": {
     "duration": 12.708062,
     "end_time": "2024-12-12T20:08:22.559410",
     "exception": false,
     "start_time": "2024-12-12T20:08:09.851348",
     "status": "completed"
    },
    "tags": []
   },
   "outputs": [
    {
     "name": "stderr",
     "output_type": "stream",
     "text": [
      "100%|██████████| 60/60 [00:11<00:00,  5.37it/s]\n"
     ]
    }
   ],
   "source": [
    "from tqdm import tqdm\n",
    "# create hypothesis\n",
    "hypothesis = []\n",
    "for i in tqdm(X_test[:limit]):\n",
    "  hypothesis.append(predict(i))"
   ]
  },
  {
   "cell_type": "code",
   "execution_count": 49,
   "id": "aebc279c",
   "metadata": {
    "execution": {
     "iopub.execute_input": "2024-12-12T20:08:25.508806Z",
     "iopub.status.busy": "2024-12-12T20:08:25.508037Z",
     "iopub.status.idle": "2024-12-12T20:08:25.519047Z",
     "shell.execute_reply": "2024-12-12T20:08:25.518196Z"
    },
    "id": "-i0Jl_21Ee7k",
    "papermill": {
     "duration": 1.495091,
     "end_time": "2024-12-12T20:08:25.520629",
     "exception": false,
     "start_time": "2024-12-12T20:08:24.025538",
     "status": "completed"
    },
    "tags": []
   },
   "outputs": [
    {
     "name": "stdout",
     "output_type": "stream",
     "text": [
      "The bleu score is: 0.3143833820365457\n"
     ]
    }
   ],
   "source": [
    "from nltk.translate.bleu_score import sentence_bleu, SmoothingFunction\n",
    "\n",
    "score = 0\n",
    "smoothie = SmoothingFunction().method2\n",
    "for i in range(len(reference)):\n",
    "    score += sentence_bleu([reference[i][1:-1]], hypothesis[i][:-5].strip().split(), smoothing_function=smoothie)\n",
    "\n",
    "score /= len(reference)\n",
    "print(\"The bleu score is: \"+str(score))"
   ]
  },
  {
   "cell_type": "code",
   "execution_count": 50,
   "id": "ed72fe93",
   "metadata": {
    "execution": {
     "iopub.execute_input": "2024-12-12T20:08:28.558510Z",
     "iopub.status.busy": "2024-12-12T20:08:28.558160Z",
     "iopub.status.idle": "2024-12-12T20:08:28.571485Z",
     "shell.execute_reply": "2024-12-12T20:08:28.570529Z"
    },
    "id": "C9Q9_v3uxblE",
    "papermill": {
     "duration": 1.493652,
     "end_time": "2024-12-12T20:08:28.573199",
     "exception": false,
     "start_time": "2024-12-12T20:08:27.079547",
     "status": "completed"
    },
    "tags": []
   },
   "outputs": [
    {
     "data": {
      "text/html": [
       "<div>\n",
       "<style scoped>\n",
       "    .dataframe tbody tr th:only-of-type {\n",
       "        vertical-align: middle;\n",
       "    }\n",
       "\n",
       "    .dataframe tbody tr th {\n",
       "        vertical-align: top;\n",
       "    }\n",
       "\n",
       "    .dataframe thead th {\n",
       "        text-align: right;\n",
       "    }\n",
       "</style>\n",
       "<table border=\"1\" class=\"dataframe\">\n",
       "  <thead>\n",
       "    <tr style=\"text-align: right;\">\n",
       "      <th></th>\n",
       "      <th>Hypothesis</th>\n",
       "      <th>Reference</th>\n",
       "    </tr>\n",
       "  </thead>\n",
       "  <tbody>\n",
       "    <tr>\n",
       "      <th>0</th>\n",
       "      <td>i want to see what to see what to see what to ...</td>\n",
       "      <td>i want to watch what is on tv right now</td>\n",
       "    </tr>\n",
       "    <tr>\n",
       "      <th>1</th>\n",
       "      <td>have you finished your trip</td>\n",
       "      <td>have you finished your preparations for the trip</td>\n",
       "    </tr>\n",
       "    <tr>\n",
       "      <th>2</th>\n",
       "      <td>i found it difficult to walk to walk to walk t...</td>\n",
       "      <td>i found it difficult to walk in the deep snow</td>\n",
       "    </tr>\n",
       "    <tr>\n",
       "      <th>3</th>\n",
       "      <td>are you going to college</td>\n",
       "      <td>do you go to college</td>\n",
       "    </tr>\n",
       "    <tr>\n",
       "      <th>4</th>\n",
       "      <td>i did not need a new smartphone</td>\n",
       "      <td>tom did not need a new coat</td>\n",
       "    </tr>\n",
       "    <tr>\n",
       "      <th>5</th>\n",
       "      <td>you have to give up smoking</td>\n",
       "      <td>i applaud your decision to quit smoking</td>\n",
       "    </tr>\n",
       "    <tr>\n",
       "      <th>6</th>\n",
       "      <td>why is my french</td>\n",
       "      <td>why is your french so good</td>\n",
       "    </tr>\n",
       "    <tr>\n",
       "      <th>7</th>\n",
       "      <td>i will is stolen the stolen the stolen the sto...</td>\n",
       "      <td>i will not give up on the stolen money</td>\n",
       "    </tr>\n",
       "    <tr>\n",
       "      <th>8</th>\n",
       "      <td>i do not like to play with work with work with...</td>\n",
       "      <td>i do not like to mix business with pleasure</td>\n",
       "    </tr>\n",
       "    <tr>\n",
       "      <th>9</th>\n",
       "      <td>cool</td>\n",
       "      <td>take it easy</td>\n",
       "    </tr>\n",
       "    <tr>\n",
       "      <th>10</th>\n",
       "      <td>is there a gift to the airport</td>\n",
       "      <td>is there a shuttle bus between the hotel and a...</td>\n",
       "    </tr>\n",
       "    <tr>\n",
       "      <th>11</th>\n",
       "      <td>i have got an through is have got an through i...</td>\n",
       "      <td>the bag has been left behind</td>\n",
       "    </tr>\n",
       "    <tr>\n",
       "      <th>12</th>\n",
       "      <td>hello is tom what is tom what is tom what is t...</td>\n",
       "      <td>hi my name is tom what is yours</td>\n",
       "    </tr>\n",
       "    <tr>\n",
       "      <th>13</th>\n",
       "      <td>father took his place at the table</td>\n",
       "      <td>my father took his place at the head of the table</td>\n",
       "    </tr>\n",
       "    <tr>\n",
       "      <th>14</th>\n",
       "      <td>this is the same time i lost a week ago i lost...</td>\n",
       "      <td>this is the watch that i lost a week ago</td>\n",
       "    </tr>\n",
       "    <tr>\n",
       "      <th>15</th>\n",
       "      <td>we must look after the children tonight</td>\n",
       "      <td>we must look after her children this evening</td>\n",
       "    </tr>\n",
       "    <tr>\n",
       "      <th>16</th>\n",
       "      <td>when the most japanese are talking when the mo...</td>\n",
       "      <td>women usually have the gift of gab</td>\n",
       "    </tr>\n",
       "    <tr>\n",
       "      <th>17</th>\n",
       "      <td>he has little</td>\n",
       "      <td>that child has few friends</td>\n",
       "    </tr>\n",
       "    <tr>\n",
       "      <th>18</th>\n",
       "      <td>does there an able to a canadian hat every thi...</td>\n",
       "      <td>do you have a rice cooker at home</td>\n",
       "    </tr>\n",
       "    <tr>\n",
       "      <th>19</th>\n",
       "      <td>i do not know who to vote for who to vote for ...</td>\n",
       "      <td>i am not sure who to vote for</td>\n",
       "    </tr>\n",
       "    <tr>\n",
       "      <th>20</th>\n",
       "      <td>tom should wait</td>\n",
       "      <td>tom should wait</td>\n",
       "    </tr>\n",
       "    <tr>\n",
       "      <th>21</th>\n",
       "      <td>the most of the most of the most of the most o...</td>\n",
       "      <td>two thirds of the employees of this company ar...</td>\n",
       "    </tr>\n",
       "    <tr>\n",
       "      <th>22</th>\n",
       "      <td>i turned the light</td>\n",
       "      <td>i turned the lights on</td>\n",
       "    </tr>\n",
       "    <tr>\n",
       "      <th>23</th>\n",
       "      <td>i had an eye</td>\n",
       "      <td>i did it without thinking</td>\n",
       "    </tr>\n",
       "    <tr>\n",
       "      <th>24</th>\n",
       "      <td>if i could buy it</td>\n",
       "      <td>if i had money i could buy it</td>\n",
       "    </tr>\n",
       "    <tr>\n",
       "      <th>25</th>\n",
       "      <td>i started to ask tom</td>\n",
       "      <td>i feel itchy everywhere</td>\n",
       "    </tr>\n",
       "    <tr>\n",
       "      <th>26</th>\n",
       "      <td>it takes an hour to the station</td>\n",
       "      <td>it takes you an hour to go to the station on foot</td>\n",
       "    </tr>\n",
       "    <tr>\n",
       "      <th>27</th>\n",
       "      <td>do</td>\n",
       "      <td>try to read as many books as possible</td>\n",
       "    </tr>\n",
       "    <tr>\n",
       "      <th>28</th>\n",
       "      <td>she did speak japanese very well</td>\n",
       "      <td>she spoke japanese well</td>\n",
       "    </tr>\n",
       "    <tr>\n",
       "      <th>29</th>\n",
       "      <td>would you please lend me your bicycle</td>\n",
       "      <td>will you lend me your bicycle</td>\n",
       "    </tr>\n",
       "    <tr>\n",
       "      <th>30</th>\n",
       "      <td>i ran so that she was not to be late for the a...</td>\n",
       "      <td>i took a bus so i would not be late for my app...</td>\n",
       "    </tr>\n",
       "    <tr>\n",
       "      <th>31</th>\n",
       "      <td>tom s name is tom s name is tom s name is tom ...</td>\n",
       "      <td>mary s boyfriend s name is tom</td>\n",
       "    </tr>\n",
       "    <tr>\n",
       "      <th>32</th>\n",
       "      <td>we need money</td>\n",
       "      <td>we need money</td>\n",
       "    </tr>\n",
       "    <tr>\n",
       "      <th>33</th>\n",
       "      <td>on your boss</td>\n",
       "      <td>addressing one s boss as omae is unheard of</td>\n",
       "    </tr>\n",
       "    <tr>\n",
       "      <th>34</th>\n",
       "      <td>i do not think that but she does not think tha...</td>\n",
       "      <td>mary has nobody to talk with but she does not ...</td>\n",
       "    </tr>\n",
       "    <tr>\n",
       "      <th>35</th>\n",
       "      <td>where is the elevator</td>\n",
       "      <td>where are the toilets</td>\n",
       "    </tr>\n",
       "    <tr>\n",
       "      <th>36</th>\n",
       "      <td>were you asleep</td>\n",
       "      <td>were you asleep</td>\n",
       "    </tr>\n",
       "    <tr>\n",
       "      <th>37</th>\n",
       "      <td>i lived there lived there lived there lived th...</td>\n",
       "      <td>i lived there for three years</td>\n",
       "    </tr>\n",
       "    <tr>\n",
       "      <th>38</th>\n",
       "      <td>tom may get fired</td>\n",
       "      <td>tom might get fired</td>\n",
       "    </tr>\n",
       "    <tr>\n",
       "      <th>39</th>\n",
       "      <td>i have some stamps in my stamps in my stamps i...</td>\n",
       "      <td>i have some stamps in my bag</td>\n",
       "    </tr>\n",
       "    <tr>\n",
       "      <th>40</th>\n",
       "      <td>he killed the man</td>\n",
       "      <td>he killed that man</td>\n",
       "    </tr>\n",
       "    <tr>\n",
       "      <th>41</th>\n",
       "      <td>we do not have no wind</td>\n",
       "      <td>it does not rain much on this side of the moun...</td>\n",
       "    </tr>\n",
       "    <tr>\n",
       "      <th>42</th>\n",
       "      <td>you should be cut to be cut to be cut to be cu...</td>\n",
       "      <td>we must be as kind to old people as possible</td>\n",
       "    </tr>\n",
       "    <tr>\n",
       "      <th>43</th>\n",
       "      <td>it in a day</td>\n",
       "      <td>it is next to impossible to finish it in a day</td>\n",
       "    </tr>\n",
       "    <tr>\n",
       "      <th>44</th>\n",
       "      <td>tom has a passport</td>\n",
       "      <td>tom has a ford</td>\n",
       "    </tr>\n",
       "    <tr>\n",
       "      <th>45</th>\n",
       "      <td>no sooner</td>\n",
       "      <td>if you mess with drugs you are asking for trouble</td>\n",
       "    </tr>\n",
       "    <tr>\n",
       "      <th>46</th>\n",
       "      <td>what did you buy this expensive dictionary for</td>\n",
       "      <td>what did you buy this expensive dictionary for</td>\n",
       "    </tr>\n",
       "    <tr>\n",
       "      <th>47</th>\n",
       "      <td>the young people have to respect for young peo...</td>\n",
       "      <td>the young should respect the old</td>\n",
       "    </tr>\n",
       "    <tr>\n",
       "      <th>48</th>\n",
       "      <td>please do not want to make me go and i do not ...</td>\n",
       "      <td>please do not make me go with tom</td>\n",
       "    </tr>\n",
       "    <tr>\n",
       "      <th>49</th>\n",
       "      <td>a fire near my house last night</td>\n",
       "      <td>a fire broke out in my neighborhood last night</td>\n",
       "    </tr>\n",
       "    <tr>\n",
       "      <th>50</th>\n",
       "      <td>it rained last summer</td>\n",
       "      <td>we had a lot of rain last summer</td>\n",
       "    </tr>\n",
       "    <tr>\n",
       "      <th>51</th>\n",
       "      <td>tom abandoned the need an orange in the need a...</td>\n",
       "      <td>tom threw the apple core into the garbage can</td>\n",
       "    </tr>\n",
       "    <tr>\n",
       "      <th>52</th>\n",
       "      <td>is tom still works here</td>\n",
       "      <td>is tom still working here</td>\n",
       "    </tr>\n",
       "    <tr>\n",
       "      <th>53</th>\n",
       "      <td>it is really bright</td>\n",
       "      <td>it is very bright</td>\n",
       "    </tr>\n",
       "    <tr>\n",
       "      <th>54</th>\n",
       "      <td>i will not in the sofa</td>\n",
       "      <td>i set up motion sensors</td>\n",
       "    </tr>\n",
       "    <tr>\n",
       "      <th>55</th>\n",
       "      <td>she is him</td>\n",
       "      <td>he has her under his thumb</td>\n",
       "    </tr>\n",
       "    <tr>\n",
       "      <th>56</th>\n",
       "      <td>where are you leaving</td>\n",
       "      <td>where does it leave from</td>\n",
       "    </tr>\n",
       "    <tr>\n",
       "      <th>57</th>\n",
       "      <td>you did not you did not you did not you did no...</td>\n",
       "      <td>you forgot to invite tom did not you</td>\n",
       "    </tr>\n",
       "    <tr>\n",
       "      <th>58</th>\n",
       "      <td>i got a light lunch</td>\n",
       "      <td>i had a light lunch</td>\n",
       "    </tr>\n",
       "    <tr>\n",
       "      <th>59</th>\n",
       "      <td>he is a great if he is a great if he is a grea...</td>\n",
       "      <td>he drinks a lot</td>\n",
       "    </tr>\n",
       "  </tbody>\n",
       "</table>\n",
       "</div>"
      ],
      "text/plain": [
       "                                           Hypothesis  \\\n",
       "0   i want to see what to see what to see what to ...   \n",
       "1                         have you finished your trip   \n",
       "2   i found it difficult to walk to walk to walk t...   \n",
       "3                            are you going to college   \n",
       "4                     i did not need a new smartphone   \n",
       "5                         you have to give up smoking   \n",
       "6                                    why is my french   \n",
       "7   i will is stolen the stolen the stolen the sto...   \n",
       "8   i do not like to play with work with work with...   \n",
       "9                                                cool   \n",
       "10                     is there a gift to the airport   \n",
       "11  i have got an through is have got an through i...   \n",
       "12  hello is tom what is tom what is tom what is t...   \n",
       "13                 father took his place at the table   \n",
       "14  this is the same time i lost a week ago i lost...   \n",
       "15            we must look after the children tonight   \n",
       "16  when the most japanese are talking when the mo...   \n",
       "17                                      he has little   \n",
       "18  does there an able to a canadian hat every thi...   \n",
       "19  i do not know who to vote for who to vote for ...   \n",
       "20                                    tom should wait   \n",
       "21  the most of the most of the most of the most o...   \n",
       "22                                 i turned the light   \n",
       "23                                       i had an eye   \n",
       "24                                  if i could buy it   \n",
       "25                               i started to ask tom   \n",
       "26                    it takes an hour to the station   \n",
       "27                                                 do   \n",
       "28                   she did speak japanese very well   \n",
       "29              would you please lend me your bicycle   \n",
       "30  i ran so that she was not to be late for the a...   \n",
       "31  tom s name is tom s name is tom s name is tom ...   \n",
       "32                                      we need money   \n",
       "33                                       on your boss   \n",
       "34  i do not think that but she does not think tha...   \n",
       "35                              where is the elevator   \n",
       "36                                    were you asleep   \n",
       "37  i lived there lived there lived there lived th...   \n",
       "38                                  tom may get fired   \n",
       "39  i have some stamps in my stamps in my stamps i...   \n",
       "40                                  he killed the man   \n",
       "41                             we do not have no wind   \n",
       "42  you should be cut to be cut to be cut to be cu...   \n",
       "43                                        it in a day   \n",
       "44                                 tom has a passport   \n",
       "45                                          no sooner   \n",
       "46     what did you buy this expensive dictionary for   \n",
       "47  the young people have to respect for young peo...   \n",
       "48  please do not want to make me go and i do not ...   \n",
       "49                    a fire near my house last night   \n",
       "50                              it rained last summer   \n",
       "51  tom abandoned the need an orange in the need a...   \n",
       "52                            is tom still works here   \n",
       "53                                it is really bright   \n",
       "54                             i will not in the sofa   \n",
       "55                                         she is him   \n",
       "56                              where are you leaving   \n",
       "57  you did not you did not you did not you did no...   \n",
       "58                                i got a light lunch   \n",
       "59  he is a great if he is a great if he is a grea...   \n",
       "\n",
       "                                            Reference  \n",
       "0             i want to watch what is on tv right now  \n",
       "1    have you finished your preparations for the trip  \n",
       "2       i found it difficult to walk in the deep snow  \n",
       "3                                do you go to college  \n",
       "4                         tom did not need a new coat  \n",
       "5             i applaud your decision to quit smoking  \n",
       "6                          why is your french so good  \n",
       "7              i will not give up on the stolen money  \n",
       "8         i do not like to mix business with pleasure  \n",
       "9                                        take it easy  \n",
       "10  is there a shuttle bus between the hotel and a...  \n",
       "11                       the bag has been left behind  \n",
       "12                    hi my name is tom what is yours  \n",
       "13  my father took his place at the head of the table  \n",
       "14           this is the watch that i lost a week ago  \n",
       "15       we must look after her children this evening  \n",
       "16                 women usually have the gift of gab  \n",
       "17                         that child has few friends  \n",
       "18                  do you have a rice cooker at home  \n",
       "19                      i am not sure who to vote for  \n",
       "20                                    tom should wait  \n",
       "21  two thirds of the employees of this company ar...  \n",
       "22                             i turned the lights on  \n",
       "23                          i did it without thinking  \n",
       "24                      if i had money i could buy it  \n",
       "25                            i feel itchy everywhere  \n",
       "26  it takes you an hour to go to the station on foot  \n",
       "27              try to read as many books as possible  \n",
       "28                            she spoke japanese well  \n",
       "29                      will you lend me your bicycle  \n",
       "30  i took a bus so i would not be late for my app...  \n",
       "31                     mary s boyfriend s name is tom  \n",
       "32                                      we need money  \n",
       "33        addressing one s boss as omae is unheard of  \n",
       "34  mary has nobody to talk with but she does not ...  \n",
       "35                              where are the toilets  \n",
       "36                                    were you asleep  \n",
       "37                      i lived there for three years  \n",
       "38                                tom might get fired  \n",
       "39                       i have some stamps in my bag  \n",
       "40                                 he killed that man  \n",
       "41  it does not rain much on this side of the moun...  \n",
       "42       we must be as kind to old people as possible  \n",
       "43     it is next to impossible to finish it in a day  \n",
       "44                                     tom has a ford  \n",
       "45  if you mess with drugs you are asking for trouble  \n",
       "46     what did you buy this expensive dictionary for  \n",
       "47                   the young should respect the old  \n",
       "48                  please do not make me go with tom  \n",
       "49     a fire broke out in my neighborhood last night  \n",
       "50                   we had a lot of rain last summer  \n",
       "51      tom threw the apple core into the garbage can  \n",
       "52                          is tom still working here  \n",
       "53                                  it is very bright  \n",
       "54                            i set up motion sensors  \n",
       "55                         he has her under his thumb  \n",
       "56                           where does it leave from  \n",
       "57               you forgot to invite tom did not you  \n",
       "58                                i had a light lunch  \n",
       "59                                    he drinks a lot  "
      ]
     },
     "execution_count": 50,
     "metadata": {},
     "output_type": "execute_result"
    }
   ],
   "source": [
    "# for hyp,ref in zip(hypothesis,reference):\n",
    "#   print(\"hypothesis: \",hyp)\n",
    "#   print(\"reference: \",\" \".join(ref[1:-1]))\n",
    "\n",
    "# Process references to join them excluding <sos> and <eos>\n",
    "processed_references = [\" \".join(ref[1:-1]) for ref in reference]\n",
    "processed_hypothesis = [re.sub(r\"_end\", \"\", hyp).strip() for hyp in hypothesis]\n",
    "\n",
    "# Create DataFrame\n",
    "df = pd.DataFrame({\n",
    "    \"Hypothesis\": processed_hypothesis,\n",
    "    \"Reference\": processed_references\n",
    "})\n",
    "\n",
    "# Display the DataFrame\n",
    "df"
   ]
  },
  {
   "cell_type": "code",
   "execution_count": 51,
   "id": "3586043d",
   "metadata": {
    "execution": {
     "iopub.execute_input": "2024-12-12T20:08:31.537243Z",
     "iopub.status.busy": "2024-12-12T20:08:31.536440Z",
     "iopub.status.idle": "2024-12-12T20:08:31.545092Z",
     "shell.execute_reply": "2024-12-12T20:08:31.544198Z"
    },
    "papermill": {
     "duration": 1.488603,
     "end_time": "2024-12-12T20:08:31.546738",
     "exception": false,
     "start_time": "2024-12-12T20:08:30.058135",
     "status": "completed"
    },
    "tags": []
   },
   "outputs": [
    {
     "name": "stdout",
     "output_type": "stream",
     "text": [
      "Training history saved to 'training_history.csv'.\n"
     ]
    }
   ],
   "source": [
    "import pandas as pd\n",
    "\n",
    "\n",
    "# Create a DataFrame\n",
    "history_df = pd.DataFrame({\n",
    "    \"Train Loss\": train_loss_history,\n",
    "    \"Train Accuracy\": train_accuracy_history,\n",
    "    \"Validation Loss\": val_loss_history,\n",
    "    \"Validation Accuracy\": val_accuracy_history\n",
    "})\n",
    "\n",
    "# Save to CSV\n",
    "history_df.to_csv(f\"{checkpoint_dir}/training_history.csv\", index=False)\n",
    "\n",
    "print(\"Training history saved to 'training_history.csv'.\")\n"
   ]
  },
  {
   "cell_type": "code",
   "execution_count": 52,
   "id": "0526f136",
   "metadata": {
    "execution": {
     "iopub.execute_input": "2024-12-12T20:08:34.610808Z",
     "iopub.status.busy": "2024-12-12T20:08:34.610167Z",
     "iopub.status.idle": "2024-12-12T20:08:35.060992Z",
     "shell.execute_reply": "2024-12-12T20:08:35.060037Z"
    },
    "papermill": {
     "duration": 1.926938,
     "end_time": "2024-12-12T20:08:35.063079",
     "exception": false,
     "start_time": "2024-12-12T20:08:33.136141",
     "status": "completed"
    },
    "tags": []
   },
   "outputs": [],
   "source": [
    "# Save encoder and decoder in Keras format\n",
    "encoder.save('/kaggle/working/encoder_model.keras')\n",
    "decoder.save('/kaggle/working/decoder_model.keras')\n",
    "import json\n",
    "\n",
    "# Save the input tokenizer\n",
    "with open('/kaggle/working/input_tokenizer.json', 'w') as f:\n",
    "    f.write(json.dumps(input_lang_tokenize.to_json()))\n",
    "\n",
    "# Save the target tokenizer\n",
    "with open('/kaggle/working/target_tokenizer.json', 'w') as f:\n",
    "    f.write(json.dumps(target_lang_tokenize.to_json()))\n"
   ]
  },
  {
   "cell_type": "code",
   "execution_count": 53,
   "id": "f6de8d2b",
   "metadata": {
    "execution": {
     "iopub.execute_input": "2024-12-12T20:08:38.043473Z",
     "iopub.status.busy": "2024-12-12T20:08:38.042661Z",
     "iopub.status.idle": "2024-12-12T20:08:38.606339Z",
     "shell.execute_reply": "2024-12-12T20:08:38.605601Z"
    },
    "papermill": {
     "duration": 2.066502,
     "end_time": "2024-12-12T20:08:38.608348",
     "exception": false,
     "start_time": "2024-12-12T20:08:36.541846",
     "status": "completed"
    },
    "tags": []
   },
   "outputs": [
    {
     "name": "stderr",
     "output_type": "stream",
     "text": [
      "/opt/conda/lib/python3.10/site-packages/keras/src/saving/serialization_lib.py:730: UserWarning: Model 'encoder' had a build config, but the model cannot be built automatically in `build_from_config(config)`. You should implement `def build_from_config(self, config)`, and you might also want to implement the method  that generates the config at saving time, `def get_build_config(self)`. The method `build_from_config()` is meant to create the state of the model (i.e. its variables) upon deserialization.\n",
      "  instance.build_from_config(build_config)\n",
      "/opt/conda/lib/python3.10/site-packages/keras/src/saving/serialization_lib.py:730: UserWarning: Model 'decoder' had a build config, but the model cannot be built automatically in `build_from_config(config)`. You should implement `def build_from_config(self, config)`, and you might also want to implement the method  that generates the config at saving time, `def get_build_config(self)`. The method `build_from_config()` is meant to create the state of the model (i.e. its variables) upon deserialization.\n",
      "  instance.build_from_config(build_config)\n"
     ]
    }
   ],
   "source": [
    "from tensorflow.keras.models import load_model\n",
    "\n",
    "# Load the encoder model\n",
    "encoder = load_model('/kaggle/working/encoder_model.keras')\n",
    "\n",
    "# Load the decoder model\n",
    "decoder = tf.keras.models.load_model('/kaggle/working/decoder_model.keras', custom_objects={'Decoder': Decoder})\n"
   ]
  },
  {
   "cell_type": "code",
   "execution_count": 54,
   "id": "a67083ba",
   "metadata": {
    "execution": {
     "iopub.execute_input": "2024-12-12T20:08:41.627934Z",
     "iopub.status.busy": "2024-12-12T20:08:41.627554Z",
     "iopub.status.idle": "2024-12-12T20:08:41.727845Z",
     "shell.execute_reply": "2024-12-12T20:08:41.727138Z"
    },
    "papermill": {
     "duration": 1.579715,
     "end_time": "2024-12-12T20:08:41.729690",
     "exception": false,
     "start_time": "2024-12-12T20:08:40.149975",
     "status": "completed"
    },
    "tags": []
   },
   "outputs": [],
   "source": [
    "from tensorflow.keras.preprocessing.text import tokenizer_from_json\n",
    "\n",
    "# Load the input tokenizer\n",
    "with open('/kaggle/working/input_tokenizer.json', 'r') as f:\n",
    "    input_lang_tokenize = tokenizer_from_json(json.load(f))\n",
    "\n",
    "# Load the target tokenizer\n",
    "with open('/kaggle/working/target_tokenizer.json', 'r') as f:\n",
    "    target_lang_tokenize = tokenizer_from_json(json.load(f))\n"
   ]
  },
  {
   "cell_type": "code",
   "execution_count": 55,
   "id": "24a82e0f",
   "metadata": {
    "execution": {
     "iopub.execute_input": "2024-12-12T20:08:44.740810Z",
     "iopub.status.busy": "2024-12-12T20:08:44.739928Z",
     "iopub.status.idle": "2024-12-12T20:08:46.170029Z",
     "shell.execute_reply": "2024-12-12T20:08:46.169076Z"
    },
    "papermill": {
     "duration": 2.974974,
     "end_time": "2024-12-12T20:08:46.171750",
     "exception": false,
     "start_time": "2024-12-12T20:08:43.196776",
     "status": "completed"
    },
    "tags": []
   },
   "outputs": [
    {
     "name": "stdout",
     "output_type": "stream",
     "text": [
      "Input: 彼は犬を飼っています\n",
      "Translation: meddling privacy meddling privacy meddling privacy meddling privacy meddling privacy meddling privacy meddling privacy meddling privacy meddling privacy meddling privacy meddling privacy meddling privacy meddling privacy meddling privacy meddling privacy meddling privacy meddling privacy meddling privacy meddling privacy meddling privacy meddling privacy meddling privacy meddling privacy meddling privacy meddling privacy meddling privacy meddling privacy meddling privacy meddling privacy meddling privacy meddling\n"
     ]
    }
   ],
   "source": [
    "def predict_sequence(input_text, encoder, decoder, input_tokenizer, target_tokenizer, max_target_length):\n",
    "    # Preprocess the input\n",
    "    preprocessed_input = preprocess_japanese_text(input_text)  # Adjust for your input language\n",
    "    input_sequence = input_tokenizer.texts_to_sequences([preprocessed_input])\n",
    "    input_sequence = tf.keras.preprocessing.sequence.pad_sequences(input_sequence, maxlen=max_length_input, padding='post')\n",
    "\n",
    "    # Encode the input\n",
    "    # Change here to set batch size to 1\n",
    "    initial_hidden = encoder.initialize_hidden_state()\n",
    "    initial_hidden = [tf.zeros((1, encoder.enc_units)), tf.zeros((1, encoder.enc_units))]  # Adjust shape to (1, units)\n",
    "    \n",
    "    enc_output, enc_hidden = encoder(input_sequence, initial_hidden)\n",
    "\n",
    "    # Prepare the decoder's initial input and states\n",
    "    decoder_input = tf.expand_dims([target_tokenizer.word_index['start_']], 0)  # Start token\n",
    "\n",
    "    # Correct here to use the state returned by the encoder with proper batch dimension\n",
    "    dec_hidden = enc_hidden\n",
    "    \n",
    "    result = []\n",
    "\n",
    "    for _ in range(max_target_length):\n",
    "        # Predict the next word\n",
    "        predictions, dec_hidden = decoder(decoder_input, dec_hidden, enc_output)\n",
    "\n",
    "        # Get the token with the highest probability\n",
    "        predicted_token = tf.argmax(predictions[0]).numpy()\n",
    "        result.append(predicted_token)\n",
    "\n",
    "        # Stop if end token is predicted\n",
    "        if target_tokenizer.index_word[predicted_token] == '_end':\n",
    "            break\n",
    "\n",
    "        # Use the predicted token as the next input\n",
    "        decoder_input = tf.expand_dims([predicted_token], 0)\n",
    "\n",
    "    # Convert the tokens back to text\n",
    "    result_text = ' '.join([target_tokenizer.index_word[token] for token in result if token in target_tokenizer.index_word])\n",
    "    return result_text\n",
    "\n",
    "\n",
    "custom_input = \"彼は犬を飼っています\"\n",
    "predicted_output = predict_sequence(\n",
    "    custom_input,\n",
    "    encoder,\n",
    "    decoder,\n",
    "    input_lang_tokenize,\n",
    "    target_lang_tokenize,\n",
    "    max_length_target\n",
    ")\n",
    "print(f\"Input: {custom_input}\")\n",
    "print(f\"Translation: {predicted_output}\")\n"
   ]
  },
  {
   "cell_type": "code",
   "execution_count": 56,
   "id": "4c9edae4",
   "metadata": {
    "execution": {
     "iopub.execute_input": "2024-12-12T20:08:49.150506Z",
     "iopub.status.busy": "2024-12-12T20:08:49.149683Z",
     "iopub.status.idle": "2024-12-12T20:08:49.154702Z",
     "shell.execute_reply": "2024-12-12T20:08:49.153871Z"
    },
    "id": "L6TI6KPBz9rH",
    "papermill": {
     "duration": 1.481117,
     "end_time": "2024-12-12T20:08:49.156349",
     "exception": false,
     "start_time": "2024-12-12T20:08:47.675232",
     "status": "completed"
    },
    "tags": []
   },
   "outputs": [],
   "source": [
    "# def predict(input_text, encoder, decoder, input_lang_tokenizer, target_lang_tokenizer, max_length_input, max_length_target):\n",
    "#     input_seq = input_lang_tokenizer.texts_to_sequences([input_text])\n",
    "#     input_seq = tf.keras.preprocessing.sequence.pad_sequences(input_seq, maxlen=max_length_input, padding='post')\n",
    "\n",
    "#     # Ensure the input sequence has batch size 1\n",
    "#     input_seq = tf.expand_dims(input_seq[0], axis=0)  # Shape becomes (1, max_length_input)\n",
    "\n",
    "#     # Create initial hidden state (replace with appropriate dimensions and type)\n",
    "#     # Assuming your encoder uses LSTM, you might need to create two hidden states (h and c)\n",
    "#     hidden_state = tf.zeros((1, encoder.units))  # Replace encoder.units with the actual number of units in your encoder\n",
    "#     cell_state = tf.zeros((1, encoder.units))  # Replace encoder.units with the actual number of units in your encoder\n",
    "\n",
    "#     # Pass through the encoder, providing the hidden state\n",
    "#     enc_output, enc_hidden = encoder(input_seq, hidden_state=hidden_state, cell_state=cell_state)\n",
    "\n",
    "#     # Set up decoder input and initial hidden state\n",
    "#     dec_input = tf.expand_dims([target_lang_tokenizer.word_index['<start>']], 0)  # Shape: (1, 1)\n",
    "#     dec_hidden = enc_hidden\n",
    "\n",
    "#     translation = []\n",
    "#     for t in range(max_length_target):\n",
    "#         # Pass through the decoder\n",
    "#         dec_output, dec_hidden, _ = decoder(dec_input, dec_hidden, enc_output)\n",
    "\n",
    "#         # Get the token with the highest probability\n",
    "#         predicted_id = tf.argmax(dec_output[0]).numpy()\n",
    "\n",
    "#         # Stop if the end token is predicted\n",
    "#         if target_lang_tokenizer.index_word[predicted_id] == '<end>':\n",
    "#             break\n",
    "\n",
    "#         # Append the predicted word to the translation\n",
    "#         translation.append(target_lang_tokenizer.index_word[predicted_id])\n",
    "\n",
    "#         # Update the decoder input to the predicted token\n",
    "#         dec_input = tf.expand_dims([predicted_id], 0)\n",
    "\n",
    "#     return ' '.join(translation)\n"
   ]
  },
  {
   "cell_type": "code",
   "execution_count": 57,
   "id": "4a466562",
   "metadata": {
    "execution": {
     "iopub.execute_input": "2024-12-12T20:08:52.152014Z",
     "iopub.status.busy": "2024-12-12T20:08:52.151141Z",
     "iopub.status.idle": "2024-12-12T20:08:52.155363Z",
     "shell.execute_reply": "2024-12-12T20:08:52.154595Z"
    },
    "id": "BKZ9TUP22Jq1",
    "papermill": {
     "duration": 1.540595,
     "end_time": "2024-12-12T20:08:52.156870",
     "exception": false,
     "start_time": "2024-12-12T20:08:50.616275",
     "status": "completed"
    },
    "tags": []
   },
   "outputs": [],
   "source": [
    "# # Example input text\n",
    "# user_input = \"こんにちは\"\n",
    "\n",
    "# # Call the predict function\n",
    "# translation = predict(\n",
    "#     input_text=user_input,\n",
    "#     encoder=encoder,\n",
    "#     decoder=decoder,\n",
    "#     input_lang_tokenizer=input_lang_tokenize,\n",
    "#     target_lang_tokenizer=target_lang_tokenize,\n",
    "#     max_length_input=max_length_input,\n",
    "#     max_length_target=max_length_target\n",
    "# )\n",
    "\n",
    "# print(f\"Input: {user_input}\")\n",
    "# print(f\"Translation: {translation}\")\n"
   ]
  },
  {
   "cell_type": "code",
   "execution_count": 58,
   "id": "9d5de23b",
   "metadata": {
    "execution": {
     "iopub.execute_input": "2024-12-12T20:08:55.124185Z",
     "iopub.status.busy": "2024-12-12T20:08:55.123842Z",
     "iopub.status.idle": "2024-12-12T20:08:55.127706Z",
     "shell.execute_reply": "2024-12-12T20:08:55.126896Z"
    },
    "id": "4PSzrPUXwX81",
    "papermill": {
     "duration": 1.49169,
     "end_time": "2024-12-12T20:08:55.129314",
     "exception": false,
     "start_time": "2024-12-12T20:08:53.637624",
     "status": "completed"
    },
    "tags": []
   },
   "outputs": [],
   "source": [
    "# text=\"私は犬を飼っています\"\n",
    "# text=remove_emojis(text)\n",
    "# text=zen_to_han(text)\n",
    "# text=preprocess_japanese_text(text)\n",
    "# input_tensor_try, input_lang_tokenize_try = tokenize(text)\n",
    "# input_tensor_try"
   ]
  },
  {
   "cell_type": "code",
   "execution_count": 59,
   "id": "6b2474c7",
   "metadata": {
    "execution": {
     "iopub.execute_input": "2024-12-12T20:08:58.151695Z",
     "iopub.status.busy": "2024-12-12T20:08:58.150888Z",
     "iopub.status.idle": "2024-12-12T20:08:58.154866Z",
     "shell.execute_reply": "2024-12-12T20:08:58.154040Z"
    },
    "id": "zyUzOgwF8kw9",
    "papermill": {
     "duration": 1.557114,
     "end_time": "2024-12-12T20:08:58.156515",
     "exception": false,
     "start_time": "2024-12-12T20:08:56.599401",
     "status": "completed"
    },
    "tags": []
   },
   "outputs": [],
   "source": [
    "# predict(input_tensor_try)"
   ]
  },
  {
   "cell_type": "markdown",
   "id": "117499be",
   "metadata": {
    "id": "TNkXiemq9bDO",
    "papermill": {
     "duration": 1.484842,
     "end_time": "2024-12-12T20:09:01.109073",
     "exception": false,
     "start_time": "2024-12-12T20:08:59.624231",
     "status": "completed"
    },
    "tags": []
   },
   "source": [
    "# Translation example"
   ]
  },
  {
   "cell_type": "code",
   "execution_count": 60,
   "id": "d6aad403",
   "metadata": {
    "execution": {
     "iopub.execute_input": "2024-12-12T20:09:04.166438Z",
     "iopub.status.busy": "2024-12-12T20:09:04.165499Z",
     "iopub.status.idle": "2024-12-12T20:09:04.171780Z",
     "shell.execute_reply": "2024-12-12T20:09:04.170984Z"
    },
    "id": "J-DcisWA9bDP",
    "papermill": {
     "duration": 1.534332,
     "end_time": "2024-12-12T20:09:04.173374",
     "exception": false,
     "start_time": "2024-12-12T20:09:02.639042",
     "status": "completed"
    },
    "tags": []
   },
   "outputs": [],
   "source": [
    "# def preprocess_sentence(en_text):\n",
    "#     # normalize Japanese\n",
    "#     ja_text = japanese_unicode_to_ascii(en_text)\n",
    "#     ja_text = preprocess_japanese_text(ja_text)\n",
    "#     ja_text = zen_to_han(ja_text)\n",
    "\n",
    "#     # add StTART and END sentence\n",
    "#     # ja_text = \"start_ \" + ja_text + \" _end\"\n",
    "#     return ja_text\n",
    "\n",
    "# def evaluate(sentence):\n",
    "\n",
    "#     attention_plot = np.zeros((max_length_target, max_length_input))\n",
    "#     sentence = preprocess_sentence(sentence).strip()  # Remove extra spaces at start/end\n",
    "#     inputs = [input_lang_tokenize.word_index[i] for i in sentence.split(' ') if i in input_lang_tokenize.word_index]\n",
    "\n",
    "#     inputs = tf.keras.preprocessing.sequence.pad_sequences([inputs],\n",
    "#                                                            maxlen=max_length_input,\n",
    "#                                                            padding='post')\n",
    "\n",
    "#     inputs = tf.convert_to_tensor(inputs)\n",
    "#     result = ''\n",
    "#     hidden = [tf.zeros((1, units)), tf.zeros((1, units))]\n",
    "#     enc_out, state = encoder(inputs, hidden)\n",
    "#     hidden_state = state\n",
    "#     dec_input = tf.expand_dims([target_lang_tokenize.word_index['start_']], 0)\n",
    "#     for t in range(max_length_target):\n",
    "#         predictions, hidden_state = decoder(dec_input, hidden_state, enc_out)\n",
    "#         predicted_id = tf.argmax(predictions[0]).numpy()\n",
    "\n",
    "#         result += target_lang_tokenize.index_word[predicted_id] + ' '\n",
    "#         if target_lang_tokenize.index_word[predicted_id] == '_end' or len(result) > max_length_target:\n",
    "#             return result, sentence\n",
    "\n",
    "#         # the predicted ID is fed back into the model\n",
    "#         dec_input = tf.expand_dims([predicted_id], 0)\n",
    "#     return result, sentence,"
   ]
  },
  {
   "cell_type": "code",
   "execution_count": 61,
   "id": "e2e1603d",
   "metadata": {
    "execution": {
     "iopub.execute_input": "2024-12-12T20:09:07.192069Z",
     "iopub.status.busy": "2024-12-12T20:09:07.191180Z",
     "iopub.status.idle": "2024-12-12T20:09:07.195975Z",
     "shell.execute_reply": "2024-12-12T20:09:07.195270Z"
    },
    "id": "Ui6bFxRt9bDd",
    "papermill": {
     "duration": 1.513194,
     "end_time": "2024-12-12T20:09:07.197515",
     "exception": false,
     "start_time": "2024-12-12T20:09:05.684321",
     "status": "completed"
    },
    "tags": []
   },
   "outputs": [],
   "source": [
    "# from nltk.translate.bleu_score import sentence_bleu\n",
    "\n",
    "# def result(sentence):\n",
    "#     result, sentence = evaluate(sentence)\n",
    "\n",
    "#     return result, sentence"
   ]
  },
  {
   "cell_type": "code",
   "execution_count": 62,
   "id": "a26f55ea",
   "metadata": {
    "execution": {
     "iopub.execute_input": "2024-12-12T20:09:10.205129Z",
     "iopub.status.busy": "2024-12-12T20:09:10.204427Z",
     "iopub.status.idle": "2024-12-12T20:09:10.208260Z",
     "shell.execute_reply": "2024-12-12T20:09:10.207535Z"
    },
    "id": "X2duMXKX9bDh",
    "papermill": {
     "duration": 1.482821,
     "end_time": "2024-12-12T20:09:10.209881",
     "exception": false,
     "start_time": "2024-12-12T20:09:08.727060",
     "status": "completed"
    },
    "tags": []
   },
   "outputs": [],
   "source": [
    "# # result, sentence = result(\"he has a dog\")\n",
    "# result, sentence = result(\"彼は犬を飼っています\")\n",
    "# print('Input: %s' % (sentence))\n",
    "# print('Predicted translation: {}'.format(result))"
   ]
  },
  {
   "cell_type": "code",
   "execution_count": 63,
   "id": "f9e551ff",
   "metadata": {
    "execution": {
     "iopub.execute_input": "2024-12-12T20:09:13.147685Z",
     "iopub.status.busy": "2024-12-12T20:09:13.147158Z",
     "iopub.status.idle": "2024-12-12T20:09:13.150899Z",
     "shell.execute_reply": "2024-12-12T20:09:13.150155Z"
    },
    "id": "XlCu-uvtwOft",
    "papermill": {
     "duration": 1.468577,
     "end_time": "2024-12-12T20:09:13.152453",
     "exception": false,
     "start_time": "2024-12-12T20:09:11.683876",
     "status": "completed"
    },
    "tags": []
   },
   "outputs": [],
   "source": [
    "# # result, sentence = result(\"What is this!?\")\n",
    "# result, sentence = result(\"これは何ですか!?\")\n",
    "# print('Input: %s' % (sentence))\n",
    "# print('Predicted translation: {}'.format(result))"
   ]
  },
  {
   "cell_type": "code",
   "execution_count": 64,
   "id": "d3c807e8",
   "metadata": {
    "execution": {
     "iopub.execute_input": "2024-12-12T20:09:16.167098Z",
     "iopub.status.busy": "2024-12-12T20:09:16.166734Z",
     "iopub.status.idle": "2024-12-12T20:09:16.170712Z",
     "shell.execute_reply": "2024-12-12T20:09:16.169867Z"
    },
    "id": "s2FZwaiky-yj",
    "papermill": {
     "duration": 1.489297,
     "end_time": "2024-12-12T20:09:16.172267",
     "exception": false,
     "start_time": "2024-12-12T20:09:14.682970",
     "status": "completed"
    },
    "tags": []
   },
   "outputs": [],
   "source": [
    "# # result, sentence = result(\"Actually I did it\")\n",
    "# result, sentence = result(\"実は、私がやりました。\")\n",
    "# print('Input: %s' % (sentence))\n",
    "# print('Predicted translation: {}'.format(result))"
   ]
  },
  {
   "cell_type": "code",
   "execution_count": 65,
   "id": "9155f048",
   "metadata": {
    "execution": {
     "iopub.execute_input": "2024-12-12T20:09:19.192637Z",
     "iopub.status.busy": "2024-12-12T20:09:19.191834Z",
     "iopub.status.idle": "2024-12-12T20:09:19.195515Z",
     "shell.execute_reply": "2024-12-12T20:09:19.194868Z"
    },
    "id": "67d09FoPz2Al",
    "papermill": {
     "duration": 1.537739,
     "end_time": "2024-12-12T20:09:19.197164",
     "exception": false,
     "start_time": "2024-12-12T20:09:17.659425",
     "status": "completed"
    },
    "tags": []
   },
   "outputs": [],
   "source": [
    "# result, sentence = result(\"I love her\")\n",
    "# print('Input: %s' % (sentence))\n",
    "# print('Predicted translation: {}'.format(result))"
   ]
  },
  {
   "cell_type": "code",
   "execution_count": null,
   "id": "2ccb1dbb",
   "metadata": {
    "id": "J2saSpKK0Cwl",
    "papermill": {
     "duration": 1.477026,
     "end_time": "2024-12-12T20:09:22.152233",
     "exception": false,
     "start_time": "2024-12-12T20:09:20.675207",
     "status": "completed"
    },
    "tags": []
   },
   "outputs": [],
   "source": []
  }
 ],
 "metadata": {
  "accelerator": "GPU",
  "colab": {
   "machine_shape": "hm",
   "provenance": []
  },
  "kaggle": {
   "accelerator": "gpu",
   "dataSources": [
    {
     "datasetId": 6032580,
     "sourceId": 10098172,
     "sourceType": "datasetVersion"
    }
   ],
   "dockerImageVersionId": 30805,
   "isGpuEnabled": true,
   "isInternetEnabled": true,
   "language": "python",
   "sourceType": "notebook"
  },
  "kernelspec": {
   "display_name": "Python 3",
   "language": "python",
   "name": "python3"
  },
  "language_info": {
   "codemirror_mode": {
    "name": "ipython",
    "version": 3
   },
   "file_extension": ".py",
   "mimetype": "text/x-python",
   "name": "python",
   "nbconvert_exporter": "python",
   "pygments_lexer": "ipython3",
   "version": "3.10.14"
  },
  "papermill": {
   "default_parameters": {},
   "duration": 24857.438243,
   "end_time": "2024-12-12T20:09:26.597163",
   "environment_variables": {},
   "exception": null,
   "input_path": "__notebook__.ipynb",
   "output_path": "__notebook__.ipynb",
   "parameters": {},
   "start_time": "2024-12-12T13:15:09.158920",
   "version": "2.6.0"
  }
 },
 "nbformat": 4,
 "nbformat_minor": 5
}
