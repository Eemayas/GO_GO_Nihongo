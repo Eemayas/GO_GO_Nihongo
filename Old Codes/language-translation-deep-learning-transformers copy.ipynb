{
 "cells": [
  {
   "cell_type": "markdown",
   "metadata": {
    "_cell_guid": "b1076dfc-b9ad-4769-8c92-a6c4dae69d19",
    "_uuid": "8f2839f25d086af736a60e9eeb907d3b93b6e0e5"
   },
   "source": [
    "# Eng to French Translation using Deep Learning and Transformers"
   ]
  },
  {
   "cell_type": "code",
   "execution_count": 1,
   "metadata": {
    "execution": {
     "iopub.execute_input": "2024-09-25T15:16:32.071382Z",
     "iopub.status.busy": "2024-09-25T15:16:32.071094Z",
     "iopub.status.idle": "2024-09-25T15:16:42.402490Z",
     "shell.execute_reply": "2024-09-25T15:16:42.401426Z",
     "shell.execute_reply.started": "2024-09-25T15:16:32.071355Z"
    },
    "trusted": true
   },
   "outputs": [
    {
     "ename": "ModuleNotFoundError",
     "evalue": "No module named 'keras.preprocessing.text'",
     "output_type": "error",
     "traceback": [
      "\u001b[1;31m---------------------------------------------------------------------------\u001b[0m",
      "\u001b[1;31mModuleNotFoundError\u001b[0m                       Traceback (most recent call last)",
      "Cell \u001b[1;32mIn[1], line 7\u001b[0m\n\u001b[0;32m      5\u001b[0m \u001b[38;5;28;01mfrom\u001b[39;00m \u001b[38;5;21;01mkeras\u001b[39;00m\u001b[38;5;21;01m.\u001b[39;00m\u001b[38;5;21;01mlayers\u001b[39;00m \u001b[38;5;28;01mimport\u001b[39;00m Input,LSTM, Dense, Embedding, Attention\n\u001b[0;32m      6\u001b[0m \u001b[38;5;28;01mfrom\u001b[39;00m \u001b[38;5;21;01mkeras\u001b[39;00m\u001b[38;5;21;01m.\u001b[39;00m\u001b[38;5;21;01mlayers\u001b[39;00m \u001b[38;5;28;01mimport\u001b[39;00m TimeDistributed, RepeatVector,Bidirectional\n\u001b[1;32m----> 7\u001b[0m \u001b[38;5;28;01mfrom\u001b[39;00m \u001b[38;5;21;01mkeras\u001b[39;00m\u001b[38;5;21;01m.\u001b[39;00m\u001b[38;5;21;01mpreprocessing\u001b[39;00m\u001b[38;5;21;01m.\u001b[39;00m\u001b[38;5;21;01mtext\u001b[39;00m \u001b[38;5;28;01mimport\u001b[39;00m Tokenizer\n\u001b[0;32m      8\u001b[0m \u001b[38;5;28;01mfrom\u001b[39;00m \u001b[38;5;21;01mtensorflow\u001b[39;00m\u001b[38;5;21;01m.\u001b[39;00m\u001b[38;5;21;01mkeras\u001b[39;00m\u001b[38;5;21;01m.\u001b[39;00m\u001b[38;5;21;01mpreprocessing\u001b[39;00m\u001b[38;5;21;01m.\u001b[39;00m\u001b[38;5;21;01msequence\u001b[39;00m \u001b[38;5;28;01mimport\u001b[39;00m pad_sequences\n\u001b[0;32m      9\u001b[0m \u001b[38;5;28;01mfrom\u001b[39;00m \u001b[38;5;21;01mkeras\u001b[39;00m\u001b[38;5;21;01m.\u001b[39;00m\u001b[38;5;21;01mutils\u001b[39;00m \u001b[38;5;28;01mimport\u001b[39;00m to_categorical, plot_model\n",
      "\u001b[1;31mModuleNotFoundError\u001b[0m: No module named 'keras.preprocessing.text'"
     ]
    }
   ],
   "source": [
    "import numpy as np\n",
    "import pandas as pd\n",
    "import matplotlib.pyplot as plt\n",
    "from keras.models import Model, Sequential\n",
    "from keras.layers import Input,LSTM, Dense, Embedding, Attention\n",
    "from keras.layers import TimeDistributed, RepeatVector,Bidirectional\n",
    "from keras.preprocessing.text import Tokenizer\n",
    "from tensorflow.keras.preprocessing.sequence import pad_sequences\n",
    "from keras.utils import to_categorical, plot_model\n",
    "from sklearn.model_selection import train_test_split\n",
    "import re\n",
    "import string\n",
    "from unicodedata import normalize"
   ]
  },
  {
   "cell_type": "markdown",
   "metadata": {},
   "source": [
    "**Load Dataset**"
   ]
  },
  {
   "cell_type": "code",
   "execution_count": 2,
   "metadata": {
    "execution": {
     "iopub.execute_input": "2024-09-25T15:16:42.405322Z",
     "iopub.status.busy": "2024-09-25T15:16:42.404577Z",
     "iopub.status.idle": "2024-09-25T15:16:42.410805Z",
     "shell.execute_reply": "2024-09-25T15:16:42.409795Z",
     "shell.execute_reply.started": "2024-09-25T15:16:42.405283Z"
    },
    "trusted": true
   },
   "outputs": [],
   "source": [
    "def load_dataset(filepath):\n",
    "    df = pd.read_csv(filepath,encoding='utf-8')\n",
    "    print(\"Number of records:\",len(df))\n",
    "    return df"
   ]
  },
  {
   "cell_type": "code",
   "execution_count": 3,
   "metadata": {
    "execution": {
     "iopub.execute_input": "2024-09-25T15:16:42.412267Z",
     "iopub.status.busy": "2024-09-25T15:16:42.411984Z",
     "iopub.status.idle": "2024-09-25T15:16:42.819486Z",
     "shell.execute_reply": "2024-09-25T15:16:42.818611Z",
     "shell.execute_reply.started": "2024-09-25T15:16:42.412234Z"
    },
    "trusted": true
   },
   "outputs": [
    {
     "name": "stdout",
     "output_type": "stream",
     "text": [
      "Number of records: 175621\n"
     ]
    },
    {
     "data": {
      "text/html": [
       "<div>\n",
       "<style scoped>\n",
       "    .dataframe tbody tr th:only-of-type {\n",
       "        vertical-align: middle;\n",
       "    }\n",
       "\n",
       "    .dataframe tbody tr th {\n",
       "        vertical-align: top;\n",
       "    }\n",
       "\n",
       "    .dataframe thead th {\n",
       "        text-align: right;\n",
       "    }\n",
       "</style>\n",
       "<table border=\"1\" class=\"dataframe\">\n",
       "  <thead>\n",
       "    <tr style=\"text-align: right;\">\n",
       "      <th></th>\n",
       "      <th>English words/sentences</th>\n",
       "      <th>French words/sentences</th>\n",
       "    </tr>\n",
       "  </thead>\n",
       "  <tbody>\n",
       "    <tr>\n",
       "      <th>0</th>\n",
       "      <td>Hi.</td>\n",
       "      <td>Salut!</td>\n",
       "    </tr>\n",
       "    <tr>\n",
       "      <th>1</th>\n",
       "      <td>Run!</td>\n",
       "      <td>Cours !</td>\n",
       "    </tr>\n",
       "    <tr>\n",
       "      <th>2</th>\n",
       "      <td>Run!</td>\n",
       "      <td>Courez !</td>\n",
       "    </tr>\n",
       "    <tr>\n",
       "      <th>3</th>\n",
       "      <td>Who?</td>\n",
       "      <td>Qui ?</td>\n",
       "    </tr>\n",
       "    <tr>\n",
       "      <th>4</th>\n",
       "      <td>Wow!</td>\n",
       "      <td>Ça alors !</td>\n",
       "    </tr>\n",
       "  </tbody>\n",
       "</table>\n",
       "</div>"
      ],
      "text/plain": [
       "  English words/sentences French words/sentences\n",
       "0                     Hi.                 Salut!\n",
       "1                    Run!                Cours !\n",
       "2                    Run!               Courez !\n",
       "3                    Who?                  Qui ?\n",
       "4                    Wow!             Ça alors !"
      ]
     },
     "execution_count": 3,
     "metadata": {},
     "output_type": "execute_result"
    }
   ],
   "source": [
    "df = load_dataset(r'/kaggle/input/language-translation-englishfrench/eng_-french.csv')\n",
    "df.head()"
   ]
  },
  {
   "cell_type": "markdown",
   "metadata": {},
   "source": [
    "# Method 1: Deep Learning"
   ]
  },
  {
   "cell_type": "markdown",
   "metadata": {},
   "source": [
    "**Data Pre-processing**"
   ]
  },
  {
   "cell_type": "code",
   "execution_count": 4,
   "metadata": {
    "execution": {
     "iopub.execute_input": "2024-09-25T15:16:42.822016Z",
     "iopub.status.busy": "2024-09-25T15:16:42.821735Z",
     "iopub.status.idle": "2024-09-25T15:16:42.829843Z",
     "shell.execute_reply": "2024-09-25T15:16:42.828913Z",
     "shell.execute_reply.started": "2024-09-25T15:16:42.821992Z"
    },
    "trusted": true
   },
   "outputs": [],
   "source": [
    "def preprocess_text(text):\n",
    "    # normalize unicode characters\n",
    "    text = normalize('NFD',text).encode(\"ascii\",\"ignore\")\n",
    "    text = text.decode(\"UTF-8\")\n",
    "    # convert to string\n",
    "    text = str(text)\n",
    "    # convert to lowercase\n",
    "    text = text.lower()\n",
    "    # remove punctuation\n",
    "    text = text.translate(str.maketrans('','',string.punctuation))\n",
    "    # remove non-printable chars from text\n",
    "    re_print = re.compile('[^%s]'% re.escape(string.printable))\n",
    "    text = re_print.sub('',text)\n",
    "    # remove numbers\n",
    "    text = re.sub(r'[\\d]+','',text)\n",
    "    # remove multiple spaces\n",
    "    text = ' '.join(text.split())\n",
    "    return text"
   ]
  },
  {
   "cell_type": "code",
   "execution_count": 5,
   "metadata": {
    "execution": {
     "iopub.execute_input": "2024-09-25T15:16:42.831269Z",
     "iopub.status.busy": "2024-09-25T15:16:42.830928Z",
     "iopub.status.idle": "2024-09-25T15:16:49.180041Z",
     "shell.execute_reply": "2024-09-25T15:16:49.179098Z",
     "shell.execute_reply.started": "2024-09-25T15:16:42.831245Z"
    },
    "trusted": true
   },
   "outputs": [
    {
     "data": {
      "text/html": [
       "<div>\n",
       "<style scoped>\n",
       "    .dataframe tbody tr th:only-of-type {\n",
       "        vertical-align: middle;\n",
       "    }\n",
       "\n",
       "    .dataframe tbody tr th {\n",
       "        vertical-align: top;\n",
       "    }\n",
       "\n",
       "    .dataframe thead th {\n",
       "        text-align: right;\n",
       "    }\n",
       "</style>\n",
       "<table border=\"1\" class=\"dataframe\">\n",
       "  <thead>\n",
       "    <tr style=\"text-align: right;\">\n",
       "      <th></th>\n",
       "      <th>English words/sentences</th>\n",
       "      <th>French words/sentences</th>\n",
       "    </tr>\n",
       "  </thead>\n",
       "  <tbody>\n",
       "    <tr>\n",
       "      <th>0</th>\n",
       "      <td>hi</td>\n",
       "      <td>salut</td>\n",
       "    </tr>\n",
       "    <tr>\n",
       "      <th>1</th>\n",
       "      <td>run</td>\n",
       "      <td>cours</td>\n",
       "    </tr>\n",
       "    <tr>\n",
       "      <th>2</th>\n",
       "      <td>run</td>\n",
       "      <td>courez</td>\n",
       "    </tr>\n",
       "    <tr>\n",
       "      <th>3</th>\n",
       "      <td>who</td>\n",
       "      <td>qui</td>\n",
       "    </tr>\n",
       "    <tr>\n",
       "      <th>4</th>\n",
       "      <td>wow</td>\n",
       "      <td>ca alors</td>\n",
       "    </tr>\n",
       "  </tbody>\n",
       "</table>\n",
       "</div>"
      ],
      "text/plain": [
       "  English words/sentences French words/sentences\n",
       "0                      hi                  salut\n",
       "1                     run                  cours\n",
       "2                     run                 courez\n",
       "3                     who                    qui\n",
       "4                     wow               ca alors"
      ]
     },
     "execution_count": 5,
     "metadata": {},
     "output_type": "execute_result"
    }
   ],
   "source": [
    "df_copy = df.copy()\n",
    "df_copy['English words/sentences'] = df_copy.loc[:,'English words/sentences'].apply(\n",
    "    lambda x:preprocess_text(x))\n",
    "df_copy['French words/sentences'] = df_copy.loc[:,'French words/sentences'].apply(\n",
    "    lambda x:preprocess_text(x))\n",
    "df_copy.head()"
   ]
  },
  {
   "cell_type": "markdown",
   "metadata": {},
   "source": [
    "**Tokenizing data**"
   ]
  },
  {
   "cell_type": "code",
   "execution_count": 6,
   "metadata": {
    "execution": {
     "iopub.execute_input": "2024-09-25T15:16:49.182116Z",
     "iopub.status.busy": "2024-09-25T15:16:49.181713Z",
     "iopub.status.idle": "2024-09-25T15:16:49.186796Z",
     "shell.execute_reply": "2024-09-25T15:16:49.185819Z",
     "shell.execute_reply.started": "2024-09-25T15:16:49.182082Z"
    },
    "trusted": true
   },
   "outputs": [],
   "source": [
    "def tokenize(text):\n",
    "    tokenizer = Tokenizer()\n",
    "    tokenizer.fit_on_texts(text)\n",
    "    return tokenizer"
   ]
  },
  {
   "cell_type": "code",
   "execution_count": 7,
   "metadata": {
    "execution": {
     "iopub.execute_input": "2024-09-25T15:16:49.188313Z",
     "iopub.status.busy": "2024-09-25T15:16:49.188038Z",
     "iopub.status.idle": "2024-09-25T15:16:59.901685Z",
     "shell.execute_reply": "2024-09-25T15:16:59.900673Z",
     "shell.execute_reply.started": "2024-09-25T15:16:49.188291Z"
    },
    "trusted": true
   },
   "outputs": [
    {
     "name": "stdout",
     "output_type": "stream",
     "text": [
      "English Vocab Size: 14407\n",
      "French Vocab Size: 28133\n",
      "Maximum length of sequences: 55\n"
     ]
    }
   ],
   "source": [
    "# English tokenizer\n",
    "\n",
    "eng_tokenizer = tokenize(df_copy['English words/sentences'])\n",
    "eng_vocab_size = len(eng_tokenizer.word_index) + 1\n",
    "\n",
    "# French tokenizer\n",
    "fr_tokenizer = tokenize(df_copy['French words/sentences'])\n",
    "fr_vocab_size = len(fr_tokenizer.word_index) + 1\n",
    "\n",
    "# Sequences\n",
    "seq_eng = eng_tokenizer.texts_to_sequences(df_copy['English words/sentences'])\n",
    "seq_fr = fr_tokenizer.texts_to_sequences(df_copy['French words/sentences'])\n",
    "\n",
    "# Padding\n",
    "max_length = max([len(seq) for seq in seq_eng + seq_fr])\n",
    "seq_eng_final = pad_sequences(seq_eng,maxlen=max_length,padding=\"post\")\n",
    "seq_fr_final = pad_sequences(seq_fr,maxlen=max_length,padding=\"post\")\n",
    "\n",
    "print(\"English Vocab Size:\",eng_vocab_size)\n",
    "print(\"French Vocab Size:\",fr_vocab_size)\n",
    "print(\"Maximum length of sequences:\",max_length)"
   ]
  },
  {
   "cell_type": "markdown",
   "metadata": {},
   "source": [
    "**Train/Test Split**"
   ]
  },
  {
   "cell_type": "code",
   "execution_count": 8,
   "metadata": {
    "execution": {
     "iopub.execute_input": "2024-09-25T15:16:59.903504Z",
     "iopub.status.busy": "2024-09-25T15:16:59.903142Z",
     "iopub.status.idle": "2024-09-25T15:16:59.964473Z",
     "shell.execute_reply": "2024-09-25T15:16:59.963668Z",
     "shell.execute_reply.started": "2024-09-25T15:16:59.903470Z"
    },
    "trusted": true
   },
   "outputs": [
    {
     "data": {
      "text/plain": [
       "((140496, 55), (35125, 55), (140496, 55), (35125, 55))"
      ]
     },
     "execution_count": 8,
     "metadata": {},
     "output_type": "execute_result"
    }
   ],
   "source": [
    "X_train,X_test,y_train,y_test = train_test_split(seq_eng_final,\n",
    "                                                 seq_fr_final,\n",
    "                                                 test_size=0.2,\n",
    "                                                 shuffle=True,\n",
    "                                                 random_state=42)\n",
    "X_train.shape,X_test.shape,y_train.shape,y_test.shape"
   ]
  },
  {
   "cell_type": "markdown",
   "metadata": {},
   "source": [
    "**Model Building - Functional**"
   ]
  },
  {
   "cell_type": "code",
   "execution_count": 9,
   "metadata": {
    "execution": {
     "iopub.execute_input": "2024-09-25T15:16:59.965607Z",
     "iopub.status.busy": "2024-09-25T15:16:59.965322Z",
     "iopub.status.idle": "2024-09-25T15:17:04.366413Z",
     "shell.execute_reply": "2024-09-25T15:17:04.365671Z",
     "shell.execute_reply.started": "2024-09-25T15:16:59.965581Z"
    },
    "trusted": true
   },
   "outputs": [],
   "source": [
    "vector_length = 100\n",
    "\n",
    "# Encoder\n",
    "enc_inputs = Input(shape=(max_length,))\n",
    "enc_embedding = Embedding(input_dim=eng_vocab_size,output_dim=vector_length)(enc_inputs)\n",
    "enc_LSTM = LSTM(256,return_state=True)\n",
    "enc_output,h,c = enc_LSTM(enc_embedding)\n",
    "enc_states = [h,c]\n",
    "\n",
    "# Decoder\n",
    "dec_inputs = Input(shape=(max_length,))\n",
    "dec_embedding = Embedding(input_dim=fr_vocab_size,output_dim=vector_length)(dec_inputs)\n",
    "dec_LSTM = LSTM(256,return_sequences=True,return_state=True)\n",
    "dec_output,_,_ = dec_LSTM(dec_embedding,initial_state=enc_states)\n",
    "\n",
    "\n",
    "dec_dense = Dense(fr_vocab_size,activation=\"softmax\")\n",
    "output = dec_dense(dec_output)\n",
    "\n",
    "# Model\n",
    "model = Model([enc_inputs,dec_inputs],output)\n",
    "\n",
    "# Compile Model\n",
    "model.compile(optimizer='adam',loss=\"sparse_categorical_crossentropy\",metrics=[\"accuracy\"])"
   ]
  },
  {
   "cell_type": "code",
   "execution_count": 10,
   "metadata": {
    "execution": {
     "iopub.execute_input": "2024-09-25T15:17:04.370037Z",
     "iopub.status.busy": "2024-09-25T15:17:04.369743Z",
     "iopub.status.idle": "2024-09-25T15:29:00.997560Z",
     "shell.execute_reply": "2024-09-25T15:29:00.996679Z",
     "shell.execute_reply.started": "2024-09-25T15:17:04.370011Z"
    },
    "trusted": true
   },
   "outputs": [
    {
     "name": "stdout",
     "output_type": "stream",
     "text": [
      "Epoch 1/2\n",
      "4391/4391 [==============================] - 368s 82ms/step - loss: 0.7468 - accuracy: 0.8985 - val_loss: 0.6082 - val_accuracy: 0.9073\n",
      "Epoch 2/2\n",
      "4391/4391 [==============================] - 349s 79ms/step - loss: 0.5428 - accuracy: 0.9117 - val_loss: 0.5179 - val_accuracy: 0.9142\n"
     ]
    },
    {
     "data": {
      "text/plain": [
       "<keras.callbacks.History at 0x79613853dcf0>"
      ]
     },
     "execution_count": 10,
     "metadata": {},
     "output_type": "execute_result"
    }
   ],
   "source": [
    "# Model training\n",
    "\n",
    "model.fit([X_train,X_train],y_train,epochs=2,validation_data=([X_test,X_test],y_test))"
   ]
  },
  {
   "cell_type": "markdown",
   "metadata": {},
   "source": [
    "**Model Building - Sequential**"
   ]
  },
  {
   "cell_type": "code",
   "execution_count": 11,
   "metadata": {
    "execution": {
     "iopub.execute_input": "2024-09-25T15:29:00.999086Z",
     "iopub.status.busy": "2024-09-25T15:29:00.998764Z",
     "iopub.status.idle": "2024-09-25T15:29:03.052495Z",
     "shell.execute_reply": "2024-09-25T15:29:03.051589Z",
     "shell.execute_reply.started": "2024-09-25T15:29:00.999059Z"
    },
    "trusted": true
   },
   "outputs": [
    {
     "name": "stdout",
     "output_type": "stream",
     "text": [
      "Model: \"sequential\"\n",
      "_________________________________________________________________\n",
      " Layer (type)                Output Shape              Param #   \n",
      "=================================================================\n",
      " embedding_2 (Embedding)     (None, 55, 100)           1440700   \n",
      "                                                                 \n",
      " bidirectional (Bidirectiona  (None, 512)              731136    \n",
      " l)                                                              \n",
      "                                                                 \n",
      " repeat_vector (RepeatVector  (None, 55, 512)          0         \n",
      " )                                                               \n",
      "                                                                 \n",
      " lstm_3 (LSTM)               (None, 55, 256)           787456    \n",
      "                                                                 \n",
      " time_distributed (TimeDistr  (None, 55, 28133)        7230181   \n",
      " ibuted)                                                         \n",
      "                                                                 \n",
      "=================================================================\n",
      "Total params: 10,189,473\n",
      "Trainable params: 10,189,473\n",
      "Non-trainable params: 0\n",
      "_________________________________________________________________\n",
      "None\n"
     ]
    }
   ],
   "source": [
    "vector_length = 100\n",
    "model = Sequential()\n",
    "model.add(Embedding(input_dim=eng_vocab_size,output_dim=vector_length,input_length=max_length,mask_zero=True))\n",
    "model.add(Bidirectional(LSTM(256)))\n",
    "model.add(RepeatVector(max_length))\n",
    "model.add(LSTM(256,return_sequences=True))\n",
    "model.add(TimeDistributed(Dense(fr_vocab_size,activation=\"softmax\")))\n",
    "print(model.summary())"
   ]
  },
  {
   "cell_type": "code",
   "execution_count": 12,
   "metadata": {
    "execution": {
     "iopub.execute_input": "2024-09-25T15:29:03.054553Z",
     "iopub.status.busy": "2024-09-25T15:29:03.053893Z",
     "iopub.status.idle": "2024-09-25T15:29:03.392573Z",
     "shell.execute_reply": "2024-09-25T15:29:03.391672Z",
     "shell.execute_reply.started": "2024-09-25T15:29:03.054516Z"
    },
    "trusted": true
   },
   "outputs": [
    {
     "data": {
      "image/png": "[encoded data removed]",
      "text/plain": [
       "<IPython.core.display.Image object>"
      ]
     },
     "execution_count": 12,
     "metadata": {},
     "output_type": "execute_result"
    }
   ],
   "source": [
    "plot_model(model,to_file=\"model.png\",show_shapes=True)"
   ]
  },
  {
   "cell_type": "code",
   "execution_count": 13,
   "metadata": {
    "execution": {
     "iopub.execute_input": "2024-09-25T15:29:03.394077Z",
     "iopub.status.busy": "2024-09-25T15:29:03.393789Z",
     "iopub.status.idle": "2024-09-25T16:09:33.453988Z",
     "shell.execute_reply": "2024-09-25T16:09:33.453009Z",
     "shell.execute_reply.started": "2024-09-25T15:29:03.394051Z"
    },
    "trusted": true
   },
   "outputs": [
    {
     "name": "stdout",
     "output_type": "stream",
     "text": [
      "Epoch 1/5\n",
      "4391/4391 [==============================] - 501s 112ms/step - loss: 0.8344 - accuracy: 0.8896 - val_loss: 0.7202 - val_accuracy: 0.8974\n",
      "Epoch 2/5\n",
      "4391/4391 [==============================] - 485s 110ms/step - loss: 0.6514 - accuracy: 0.9030 - val_loss: 0.6000 - val_accuracy: 0.9076\n",
      "Epoch 3/5\n",
      "4391/4391 [==============================] - 483s 110ms/step - loss: 0.5313 - accuracy: 0.9119 - val_loss: 0.5098 - val_accuracy: 0.9144\n",
      "Epoch 4/5\n",
      "4391/4391 [==============================] - 480s 109ms/step - loss: 0.4418 - accuracy: 0.9183 - val_loss: 0.4571 - val_accuracy: 0.9185\n",
      "Epoch 5/5\n",
      "4391/4391 [==============================] - 481s 109ms/step - loss: 0.3783 - accuracy: 0.9235 - val_loss: 0.4248 - val_accuracy: 0.9220\n"
     ]
    },
    {
     "data": {
      "text/plain": [
       "<keras.callbacks.History at 0x7960cc0e09a0>"
      ]
     },
     "execution_count": 13,
     "metadata": {},
     "output_type": "execute_result"
    }
   ],
   "source": [
    "model.compile(optimizer=\"adam\",loss=\"sparse_categorical_crossentropy\",metrics=['accuracy'])\n",
    "model.fit(X_train,y_train,epochs=5,validation_data=(X_test,y_test))"
   ]
  },
  {
   "cell_type": "markdown",
   "metadata": {},
   "source": [
    "**Predictions**"
   ]
  },
  {
   "cell_type": "code",
   "execution_count": 14,
   "metadata": {
    "execution": {
     "iopub.execute_input": "2024-09-25T16:09:33.455547Z",
     "iopub.status.busy": "2024-09-25T16:09:33.455243Z",
     "iopub.status.idle": "2024-09-25T16:09:36.299254Z",
     "shell.execute_reply": "2024-09-25T16:09:36.298181Z",
     "shell.execute_reply.started": "2024-09-25T16:09:33.455515Z"
    },
    "trusted": true
   },
   "outputs": [
    {
     "name": "stdout",
     "output_type": "stream",
     "text": [
      "1/1 [==============================] - 3s 3s/step\n",
      "Input: How are you?\n",
      "Translated: comment vous                                                                                                          \n"
     ]
    }
   ],
   "source": [
    "def translation(input_sentence):\n",
    "    input_sentence = preprocess_text(str(input_sentence))\n",
    "    input_seq = eng_tokenizer.texts_to_sequences([input_sentence])\n",
    "    input_seq_final = pad_sequences(input_seq,maxlen=max_length,padding=\"post\")\n",
    "    prediction = model.predict([input_seq_final])\n",
    "    output_translation = np.argmax(prediction,axis=-1)\n",
    "    \n",
    "    output_sentence = []\n",
    "    for i in output_translation[0]:\n",
    "        if i in fr_tokenizer.index_word:\n",
    "            output_sentence.append(fr_tokenizer.index_word[i])\n",
    "        else:\n",
    "            output_sentence.append(' ')\n",
    "    return ' '.join(output_sentence)\n",
    "\n",
    "input_sentence = \"How are you?\"\n",
    "translated = translation(input_sentence)\n",
    "print(f\"Input: {input_sentence}\")\n",
    "print(f\"Translated: {translated}\")"
   ]
  },
  {
   "cell_type": "code",
   "execution_count": 23,
   "metadata": {
    "execution": {
     "iopub.execute_input": "2024-09-25T16:10:20.711403Z",
     "iopub.status.busy": "2024-09-25T16:10:20.710510Z",
     "iopub.status.idle": "2024-09-25T16:10:23.425657Z",
     "shell.execute_reply": "2024-09-25T16:10:23.424564Z",
     "shell.execute_reply.started": "2024-09-25T16:10:20.711368Z"
    },
    "trusted": true
   },
   "outputs": [
    {
     "name": "stdout",
     "output_type": "stream",
     "text": [
      "1/1 [==============================] - 3s 3s/step\n",
      "Input: Where are you going?\n",
      "Translated: ou vastu                                                                                                          \n"
     ]
    }
   ],
   "source": [
    "input_sentence = \"Where are you going?\"\n",
    "translated = translation(input_sentence)\n",
    "print(f\"Input: {input_sentence}\")\n",
    "print(f\"Translated: {translated}\")"
   ]
  },
  {
   "cell_type": "code",
   "execution_count": 25,
   "metadata": {
    "execution": {
     "iopub.execute_input": "2024-09-25T16:10:55.213374Z",
     "iopub.status.busy": "2024-09-25T16:10:55.212999Z",
     "iopub.status.idle": "2024-09-25T16:10:56.369804Z",
     "shell.execute_reply": "2024-09-25T16:10:56.368673Z",
     "shell.execute_reply.started": "2024-09-25T16:10:55.213344Z"
    },
    "trusted": true
   },
   "outputs": [
    {
     "name": "stdout",
     "output_type": "stream",
     "text": [
      "Model and tokenizers saved successfully.\n"
     ]
    }
   ],
   "source": [
    "output_path=\"/kaggle/working\"\n",
    "import pickle\n",
    "\n",
    "# Save the trained model\n",
    "model.save(f'{output_path}/translation_model.keras')\n",
    "\n",
    "# Save the tokenizers\n",
    "with open(f'{output_path}/eng_tokenizer.pkl', 'wb') as f:\n",
    "    pickle.dump(eng_tokenizer, f)\n",
    "\n",
    "with open(f'{output_path}/fr_tokenizer.pkl', 'wb') as f:\n",
    "    pickle.dump(fr_tokenizer, f)\n",
    "\n",
    "# Save the processed dataset (if needed)\n",
    "df_copy.to_csv(f'processed_dataset.csv', index=False)\n",
    "\n",
    "print(\"Model and tokenizers saved successfully.\")\n"
   ]
  },
  {
   "cell_type": "code",
   "execution_count": 29,
   "metadata": {
    "execution": {
     "iopub.execute_input": "2024-09-25T16:20:26.757828Z",
     "iopub.status.busy": "2024-09-25T16:20:26.756990Z",
     "iopub.status.idle": "2024-09-25T16:20:33.589574Z",
     "shell.execute_reply": "2024-09-25T16:20:33.588528Z",
     "shell.execute_reply.started": "2024-09-25T16:20:26.757794Z"
    },
    "trusted": true
   },
   "outputs": [
    {
     "name": "stdout",
     "output_type": "stream",
     "text": [
      "1/1 [==============================] - 3s 3s/step\n",
      "1/1 [==============================] - 0s 22ms/step\n",
      "1/1 [==============================] - 0s 24ms/step\n",
      "1/1 [==============================] - 0s 23ms/step\n",
      "1/1 [==============================] - 0s 24ms/step\n",
      "1/1 [==============================] - 0s 23ms/step\n",
      "1/1 [==============================] - 0s 22ms/step\n",
      "1/1 [==============================] - 0s 21ms/step\n",
      "1/1 [==============================] - 0s 22ms/step\n",
      "1/1 [==============================] - 0s 29ms/step\n",
      "Translations saved to translations.xlsx\n"
     ]
    }
   ],
   "source": [
    "import numpy as np\n",
    "import pandas as pd\n",
    "from keras.models import load_model\n",
    "import pickle\n",
    "from tensorflow.keras.preprocessing.sequence import pad_sequences\n",
    "import re\n",
    "import keras\n",
    "import string\n",
    "from unicodedata import normalize\n",
    "max_length=55\n",
    "# Load the model\n",
    "model = load_model(f'{output_path}/translation_model.keras')\n",
    "\n",
    "# Load the tokenizers\n",
    "with open(f'{output_path}/eng_tokenizer.pkl', 'rb') as f:\n",
    "    eng_tokenizer = pickle.load(f)\n",
    "\n",
    "with open(f'{output_path}/fr_tokenizer.pkl', 'rb') as f:\n",
    "    fr_tokenizer = pickle.load(f)\n",
    "\n",
    "# Preprocessing function\n",
    "def preprocess_text(text):\n",
    "    text = normalize('NFD', text).encode(\"ascii\", \"ignore\")\n",
    "    text = text.decode(\"UTF-8\")\n",
    "    text = str(text).lower()\n",
    "    text = text.translate(str.maketrans('', '', string.punctuation))\n",
    "    re_print = re.compile('[^%s]' % re.escape(string.printable))\n",
    "    text = re_print.sub('', text)\n",
    "    text = re.sub(r'[\\d]+', '', text)\n",
    "    text = ' '.join(text.split())\n",
    "    return text\n",
    "\n",
    "# Translation function\n",
    "def translation(input_sentence):\n",
    "    input_sentence = preprocess_text(str(input_sentence))\n",
    "    input_seq = eng_tokenizer.texts_to_sequences([input_sentence])\n",
    "    input_seq_final = pad_sequences(input_seq, maxlen=max_length, padding=\"post\")\n",
    "    prediction = model.predict([input_seq_final])\n",
    "    output_translation = np.argmax(prediction, axis=-1)\n",
    "\n",
    "    output_sentence = []\n",
    "    for i in output_translation[0]:\n",
    "        if i in fr_tokenizer.index_word:\n",
    "            output_sentence.append(fr_tokenizer.index_word[i])\n",
    "        else:\n",
    "            output_sentence.append(' ')\n",
    "    return ' '.join(output_sentence)\n",
    "\n",
    "# Create a DataFrame with English sentences\n",
    "english_sentences = [\n",
    "    \"How are you?\",\n",
    "    \"What is your name?\",\n",
    "    \"Where are you going?\",\n",
    "    \"I love programming.\",\n",
    "    \"Deep learning is fascinating.\",\n",
    "    \"Can you help me?\",\n",
    "    \"What time is it?\",\n",
    "    \"I am learning Python.\",\n",
    "    \"This is a beautiful day.\",\n",
    "    \"I enjoy reading books.\"\n",
    "]\n",
    "\n",
    "# Translate the sentences\n",
    "translations = [translation(sentence) for sentence in english_sentences]\n",
    "\n",
    "# Create a DataFrame\n",
    "df_translations = pd.DataFrame({\n",
    "    'English Sentences': english_sentences,\n",
    "    'French Translations': translations\n",
    "})\n",
    "\n",
    "# Save to Excel\n",
    "df_translations.to_excel(f'{output_path}/translations.xlsx', index=False)\n",
    "\n",
    "print(\"Translations saved to translations.xlsx\")\n"
   ]
  },
  {
   "cell_type": "markdown",
   "metadata": {},
   "source": [
    "# Method 2: Transformers (Pre-trained Pipeline)"
   ]
  },
  {
   "cell_type": "code",
   "execution_count": 30,
   "metadata": {
    "execution": {
     "iopub.execute_input": "2024-09-25T16:25:27.711203Z",
     "iopub.status.busy": "2024-09-25T16:25:27.710813Z",
     "iopub.status.idle": "2024-09-25T16:25:27.716166Z",
     "shell.execute_reply": "2024-09-25T16:25:27.715194Z",
     "shell.execute_reply.started": "2024-09-25T16:25:27.711171Z"
    },
    "trusted": true
   },
   "outputs": [],
   "source": [
    "from transformers import pipeline\n",
    "from nltk.translate.bleu_score import sentence_bleu, SmoothingFunction\n",
    "from nltk.tokenize import RegexpTokenizer"
   ]
  },
  {
   "cell_type": "code",
   "execution_count": 31,
   "metadata": {
    "execution": {
     "iopub.execute_input": "2024-09-25T16:25:28.350183Z",
     "iopub.status.busy": "2024-09-25T16:25:28.349801Z",
     "iopub.status.idle": "2024-09-25T16:25:28.628386Z",
     "shell.execute_reply": "2024-09-25T16:25:28.627574Z",
     "shell.execute_reply.started": "2024-09-25T16:25:28.350155Z"
    },
    "trusted": true
   },
   "outputs": [],
   "source": [
    "# Create a dictionary of eng-french tokens showing multiple french words for unique english word\n",
    "\n",
    "eng2fr = {}\n",
    "for eng,fr in df_copy.itertuples(index=False):\n",
    "    if eng not in eng2fr:\n",
    "        eng2fr[eng] = []\n",
    "    eng2fr[eng].append(fr)"
   ]
  },
  {
   "cell_type": "code",
   "execution_count": 32,
   "metadata": {
    "execution": {
     "iopub.execute_input": "2024-09-25T16:25:28.777746Z",
     "iopub.status.busy": "2024-09-25T16:25:28.777394Z",
     "iopub.status.idle": "2024-09-25T16:25:28.809850Z",
     "shell.execute_reply": "2024-09-25T16:25:28.808802Z",
     "shell.execute_reply.started": "2024-09-25T16:25:28.777718Z"
    },
    "trusted": true
   },
   "outputs": [
    {
     "data": {
      "text/plain": [
       "{'hi': ['salut'],\n",
       " 'run': ['cours', 'courez'],\n",
       " 'who': ['qui'],\n",
       " 'wow': ['ca alors'],\n",
       " 'fire': ['au feu'],\n",
       " 'help': ['a laide'],\n",
       " 'jump': ['saute'],\n",
       " 'stop': ['ca suffit', 'stop', 'arretetoi'],\n",
       " 'wait': ['attends', 'attendez'],\n",
       " 'go on': ['poursuis', 'continuez', 'poursuivez']}"
      ]
     },
     "execution_count": 32,
     "metadata": {},
     "output_type": "execute_result"
    }
   ],
   "source": [
    "dict(list(eng2fr.items())[0:10]) # view first 10 items"
   ]
  },
  {
   "cell_type": "code",
   "execution_count": 33,
   "metadata": {
    "execution": {
     "iopub.execute_input": "2024-09-25T16:25:30.575978Z",
     "iopub.status.busy": "2024-09-25T16:25:30.575573Z",
     "iopub.status.idle": "2024-09-25T16:25:32.036217Z",
     "shell.execute_reply": "2024-09-25T16:25:32.035201Z",
     "shell.execute_reply.started": "2024-09-25T16:25:30.575946Z"
    },
    "trusted": true
   },
   "outputs": [],
   "source": [
    "# The documents have to be a list of lists where each french token is a list in itself\n",
    "# This is essential for B Score calculation\n",
    "\n",
    "eng2fr_tokens = {}\n",
    "tokenizer = RegexpTokenizer(r'\\w+')\n",
    "for eng,fr_list in eng2fr.items():\n",
    "    fr_tokens = []\n",
    "    for text in fr_list:\n",
    "        tokens = tokenizer.tokenize(text.lower())\n",
    "        fr_tokens.append([text])\n",
    "    eng2fr_tokens[eng] = fr_tokens"
   ]
  },
  {
   "cell_type": "code",
   "execution_count": 34,
   "metadata": {
    "execution": {
     "iopub.execute_input": "2024-09-25T16:25:33.701007Z",
     "iopub.status.busy": "2024-09-25T16:25:33.700622Z",
     "iopub.status.idle": "2024-09-25T16:25:33.738539Z",
     "shell.execute_reply": "2024-09-25T16:25:33.737663Z",
     "shell.execute_reply.started": "2024-09-25T16:25:33.700976Z"
    },
    "trusted": true
   },
   "outputs": [
    {
     "data": {
      "text/plain": [
       "{'hi': [['salut']],\n",
       " 'run': [['cours'], ['courez']],\n",
       " 'who': [['qui']],\n",
       " 'wow': [['ca alors']],\n",
       " 'fire': [['au feu']],\n",
       " 'help': [['a laide']],\n",
       " 'jump': [['saute']],\n",
       " 'stop': [['ca suffit'], ['stop'], ['arretetoi']],\n",
       " 'wait': [['attends'], ['attendez']],\n",
       " 'go on': [['poursuis'], ['continuez'], ['poursuivez']]}"
      ]
     },
     "execution_count": 34,
     "metadata": {},
     "output_type": "execute_result"
    }
   ],
   "source": [
    "dict(list(eng2fr_tokens.items())[0:10]) # view first 10 items"
   ]
  },
  {
   "cell_type": "code",
   "execution_count": 35,
   "metadata": {
    "execution": {
     "iopub.execute_input": "2024-09-25T16:25:34.703161Z",
     "iopub.status.busy": "2024-09-25T16:25:34.702435Z",
     "iopub.status.idle": "2024-09-25T16:25:46.114284Z",
     "shell.execute_reply": "2024-09-25T16:25:46.113060Z",
     "shell.execute_reply.started": "2024-09-25T16:25:34.703130Z"
    },
    "trusted": true
   },
   "outputs": [
    {
     "name": "stdout",
     "output_type": "stream",
     "text": [
      "Requirement already satisfied: sacremoses in /opt/conda/lib/python3.10/site-packages (0.1.1)\n",
      "Requirement already satisfied: regex in /opt/conda/lib/python3.10/site-packages (from sacremoses) (2023.6.3)\n",
      "Requirement already satisfied: click in /opt/conda/lib/python3.10/site-packages (from sacremoses) (8.1.3)\n",
      "Requirement already satisfied: joblib in /opt/conda/lib/python3.10/site-packages (from sacremoses) (1.2.0)\n",
      "Requirement already satisfied: tqdm in /opt/conda/lib/python3.10/site-packages (from sacremoses) (4.65.0)\n"
     ]
    }
   ],
   "source": [
    "!pip install sacremoses"
   ]
  },
  {
   "cell_type": "code",
   "execution_count": 36,
   "metadata": {
    "execution": {
     "iopub.execute_input": "2024-09-25T16:25:46.117945Z",
     "iopub.status.busy": "2024-09-25T16:25:46.117058Z",
     "iopub.status.idle": "2024-09-25T16:26:08.357347Z",
     "shell.execute_reply": "2024-09-25T16:26:08.356345Z",
     "shell.execute_reply.started": "2024-09-25T16:25:46.117904Z"
    },
    "trusted": true
   },
   "outputs": [
    {
     "data": {
      "application/vnd.jupyter.widget-view+json": {
       "model_id": "749e257d74b6438e88371c0925394ae1",
       "version_major": 2,
       "version_minor": 0
      },
      "text/plain": [
       "Downloading pytorch_model.bin:   0%|          | 0.00/301M [00:00<?, ?B/s]"
      ]
     },
     "metadata": {},
     "output_type": "display_data"
    },
    {
     "data": {
      "application/vnd.jupyter.widget-view+json": {
       "model_id": "450d5db01ee449abb91e198198218ab2",
       "version_major": 2,
       "version_minor": 0
      },
      "text/plain": [
       "Downloading generation_config.json:   0%|          | 0.00/293 [00:00<?, ?B/s]"
      ]
     },
     "metadata": {},
     "output_type": "display_data"
    },
    {
     "data": {
      "application/vnd.jupyter.widget-view+json": {
       "model_id": "20f70c170b904ed1b58ccd2da5f130d2",
       "version_major": 2,
       "version_minor": 0
      },
      "text/plain": [
       "Downloading tokenizer_config.json:   0%|          | 0.00/42.0 [00:00<?, ?B/s]"
      ]
     },
     "metadata": {},
     "output_type": "display_data"
    },
    {
     "data": {
      "application/vnd.jupyter.widget-view+json": {
       "model_id": "c9a06f1b12ff461386b6ecc3098deeac",
       "version_major": 2,
       "version_minor": 0
      },
      "text/plain": [
       "Downloading source.spm:   0%|          | 0.00/778k [00:00<?, ?B/s]"
      ]
     },
     "metadata": {},
     "output_type": "display_data"
    },
    {
     "data": {
      "application/vnd.jupyter.widget-view+json": {
       "model_id": "d2ea9dd245e340b8ac731dbf1f26717a",
       "version_major": 2,
       "version_minor": 0
      },
      "text/plain": [
       "Downloading target.spm:   0%|          | 0.00/802k [00:00<?, ?B/s]"
      ]
     },
     "metadata": {},
     "output_type": "display_data"
    },
    {
     "data": {
      "application/vnd.jupyter.widget-view+json": {
       "model_id": "9fe6f9a1980644c39af88608b1828f69",
       "version_major": 2,
       "version_minor": 0
      },
      "text/plain": [
       "Downloading vocab.json:   0%|          | 0.00/1.34M [00:00<?, ?B/s]"
      ]
     },
     "metadata": {},
     "output_type": "display_data"
    }
   ],
   "source": [
    "translator = pipeline('translation',model='Helsinki-NLP/opus-mt-en-fr',device=0)"
   ]
  },
  {
   "cell_type": "code",
   "execution_count": 37,
   "metadata": {
    "execution": {
     "iopub.execute_input": "2024-09-25T16:26:08.358842Z",
     "iopub.status.busy": "2024-09-25T16:26:08.358543Z",
     "iopub.status.idle": "2024-09-25T16:26:08.599577Z",
     "shell.execute_reply": "2024-09-25T16:26:08.598692Z",
     "shell.execute_reply.started": "2024-09-25T16:26:08.358816Z"
    },
    "trusted": true
   },
   "outputs": [
    {
     "data": {
      "text/plain": [
       "[{'translation_text': \"J'aime les œufs et le chocolat\"}]"
      ]
     },
     "execution_count": 37,
     "metadata": {},
     "output_type": "execute_result"
    }
   ],
   "source": [
    "translator('I like eggs and chocolate')"
   ]
  },
  {
   "cell_type": "code",
   "execution_count": 38,
   "metadata": {
    "execution": {
     "iopub.execute_input": "2024-09-25T16:26:08.601693Z",
     "iopub.status.busy": "2024-09-25T16:26:08.601379Z",
     "iopub.status.idle": "2024-09-25T16:26:08.615496Z",
     "shell.execute_reply": "2024-09-25T16:26:08.614554Z",
     "shell.execute_reply.started": "2024-09-25T16:26:08.601667Z"
    },
    "trusted": true
   },
   "outputs": [
    {
     "data": {
      "text/plain": [
       "122942"
      ]
     },
     "execution_count": 38,
     "metadata": {},
     "output_type": "execute_result"
    }
   ],
   "source": [
    "eng_phrases = list(eng2fr.keys())\n",
    "len(eng_phrases)"
   ]
  },
  {
   "cell_type": "code",
   "execution_count": 39,
   "metadata": {
    "execution": {
     "iopub.execute_input": "2024-09-25T16:26:08.616947Z",
     "iopub.status.busy": "2024-09-25T16:26:08.616666Z",
     "iopub.status.idle": "2024-09-25T16:27:45.151284Z",
     "shell.execute_reply": "2024-09-25T16:27:45.150348Z",
     "shell.execute_reply.started": "2024-09-25T16:26:08.616923Z"
    },
    "trusted": true
   },
   "outputs": [],
   "source": [
    "eng_phrases_subset = eng_phrases[20000:21000]\n",
    "translations = translator(eng_phrases_subset)"
   ]
  },
  {
   "cell_type": "code",
   "execution_count": 40,
   "metadata": {
    "execution": {
     "iopub.execute_input": "2024-09-25T16:27:45.153025Z",
     "iopub.status.busy": "2024-09-25T16:27:45.152685Z",
     "iopub.status.idle": "2024-09-25T16:27:45.166675Z",
     "shell.execute_reply": "2024-09-25T16:27:45.165500Z",
     "shell.execute_reply.started": "2024-09-25T16:27:45.152994Z"
    },
    "trusted": true
   },
   "outputs": [
    {
     "name": "stdout",
     "output_type": "stream",
     "text": [
      "Original english sentence:  tom eats like a pig\n",
      "Original french sentence:  ['tom mange comme un cochon', 'thomas mange comme un cochon']\n",
      "Translated sentence:  Tom mange comme un porc\n"
     ]
    }
   ],
   "source": [
    "print(\"Original english sentence: \",eng_phrases_subset[0])\n",
    "print(\"Original french sentence: \",list(eng2fr.values())[20000:21000][0])\n",
    "print(\"Translated sentence: \",translations[0]['translation_text'])"
   ]
  },
  {
   "cell_type": "code",
   "execution_count": 41,
   "metadata": {
    "execution": {
     "iopub.execute_input": "2024-09-25T16:27:45.168385Z",
     "iopub.status.busy": "2024-09-25T16:27:45.168051Z",
     "iopub.status.idle": "2024-09-25T16:27:45.183827Z",
     "shell.execute_reply": "2024-09-25T16:27:45.182891Z",
     "shell.execute_reply.started": "2024-09-25T16:27:45.168352Z"
    },
    "trusted": true
   },
   "outputs": [
    {
     "name": "stdout",
     "output_type": "stream",
     "text": [
      "Original english sentence:  tom forced me to go\n",
      "Original french sentence:  [['tom ma force a y aller']]\n",
      "Translated sentence:  Tom m'a forcé à partir.\n"
     ]
    }
   ],
   "source": [
    "print(\"Original english sentence: \",eng_phrases_subset[4])\n",
    "print(\"Original french sentence: \",eng2fr_tokens[eng_phrases_subset[4]])\n",
    "print(\"Translated sentence: \",translations[4]['translation_text'])"
   ]
  },
  {
   "cell_type": "code",
   "execution_count": 42,
   "metadata": {
    "execution": {
     "iopub.execute_input": "2024-09-25T16:27:45.185275Z",
     "iopub.status.busy": "2024-09-25T16:27:45.184972Z",
     "iopub.status.idle": "2024-09-25T16:27:45.666211Z",
     "shell.execute_reply": "2024-09-25T16:27:45.665028Z",
     "shell.execute_reply.started": "2024-09-25T16:27:45.185246Z"
    },
    "trusted": true
   },
   "outputs": [
    {
     "data": {
      "image/png": "[encoded data removed]",
      "text/plain": [
       "<Figure size 640x480 with 1 Axes>"
      ]
     },
     "metadata": {},
     "output_type": "display_data"
    }
   ],
   "source": [
    "# Evaluation\n",
    "\n",
    "smoother = SmoothingFunction()\n",
    "\n",
    "scores = []\n",
    "for eng,pred in zip(eng_phrases_subset,translations):\n",
    "    matches = eng2fr_tokens[eng]\n",
    "    fr_pred = []\n",
    "    \n",
    "    # process translations\n",
    "    trans_pred = preprocess_text(pred['translation_text'])\n",
    "    fr_pred.append(trans_pred)\n",
    "    score = sentence_bleu(matches,fr_pred,smoothing_function=smoother.method3)\n",
    "    scores.append(score)\n",
    "    \n",
    "plt.hist(scores,bins=50)\n",
    "plt.show()"
   ]
  },
  {
   "cell_type": "code",
   "execution_count": 43,
   "metadata": {
    "execution": {
     "iopub.execute_input": "2024-09-25T16:27:45.669761Z",
     "iopub.status.busy": "2024-09-25T16:27:45.669337Z",
     "iopub.status.idle": "2024-09-25T16:27:45.677705Z",
     "shell.execute_reply": "2024-09-25T16:27:45.676670Z",
     "shell.execute_reply.started": "2024-09-25T16:27:45.669725Z"
    },
    "trusted": true
   },
   "outputs": [
    {
     "data": {
      "text/plain": [
       "0.13576450198781714"
      ]
     },
     "execution_count": 43,
     "metadata": {},
     "output_type": "execute_result"
    }
   ],
   "source": [
    "np.mean(scores)"
   ]
  },
  {
   "cell_type": "code",
   "execution_count": 44,
   "metadata": {
    "execution": {
     "iopub.execute_input": "2024-09-25T16:27:45.679433Z",
     "iopub.status.busy": "2024-09-25T16:27:45.679087Z",
     "iopub.status.idle": "2024-09-25T16:27:45.688554Z",
     "shell.execute_reply": "2024-09-25T16:27:45.687667Z",
     "shell.execute_reply.started": "2024-09-25T16:27:45.679394Z"
    },
    "trusted": true
   },
   "outputs": [],
   "source": [
    "np.random.seed(1)\n",
    "\n",
    "def print_random_translation():\n",
    "    i = np.random.choice(len(eng_phrases_subset))\n",
    "    eng = eng_phrases_subset[i]\n",
    "    print('EN:',eng)\n",
    "\n",
    "    translation = translations[i]['translation_text']\n",
    "    print('FR Translation:',translation)\n",
    "\n",
    "    matches = eng2fr[eng]\n",
    "    print('Matches:',matches)"
   ]
  },
  {
   "cell_type": "code",
   "execution_count": 45,
   "metadata": {
    "execution": {
     "iopub.execute_input": "2024-09-25T16:27:45.690033Z",
     "iopub.status.busy": "2024-09-25T16:27:45.689706Z",
     "iopub.status.idle": "2024-09-25T16:27:45.700055Z",
     "shell.execute_reply": "2024-09-25T16:27:45.699036Z",
     "shell.execute_reply.started": "2024-09-25T16:27:45.690002Z"
    },
    "trusted": true
   },
   "outputs": [
    {
     "name": "stdout",
     "output_type": "stream",
     "text": [
      "EN: tom is a daydreamer\n",
      "FR Translation: Tom est un rêveur\n",
      "Matches: ['tom est un reveur']\n"
     ]
    }
   ],
   "source": [
    "print_random_translation()"
   ]
  },
  {
   "cell_type": "code",
   "execution_count": 46,
   "metadata": {
    "execution": {
     "iopub.execute_input": "2024-09-25T16:27:45.701545Z",
     "iopub.status.busy": "2024-09-25T16:27:45.701211Z",
     "iopub.status.idle": "2024-09-25T16:27:45.710443Z",
     "shell.execute_reply": "2024-09-25T16:27:45.709370Z",
     "shell.execute_reply.started": "2024-09-25T16:27:45.701512Z"
    },
    "trusted": true
   },
   "outputs": [
    {
     "name": "stdout",
     "output_type": "stream",
     "text": [
      "EN: was it all worth it\n",
      "FR Translation: était-ce que ça en valait la peine ?\n",
      "Matches: ['estce que ca en valait la peine']\n"
     ]
    }
   ],
   "source": [
    "print_random_translation()"
   ]
  },
  {
   "cell_type": "markdown",
   "metadata": {},
   "source": [
    "# Method 3: Transformers (Fine Tuning)"
   ]
  },
  {
   "cell_type": "code",
   "execution_count": 47,
   "metadata": {
    "execution": {
     "iopub.execute_input": "2024-09-25T16:28:34.351485Z",
     "iopub.status.busy": "2024-09-25T16:28:34.351095Z",
     "iopub.status.idle": "2024-09-25T16:28:47.040334Z",
     "shell.execute_reply": "2024-09-25T16:28:47.039313Z",
     "shell.execute_reply.started": "2024-09-25T16:28:34.351453Z"
    },
    "trusted": true
   },
   "outputs": [
    {
     "name": "stdout",
     "output_type": "stream",
     "text": [
      "Collecting evaluate\n",
      "  Downloading evaluate-0.4.3-py3-none-any.whl (84 kB)\n",
      "\u001b[2K     \u001b[90m━━━━━━━━━━━━━━━━━━━━━━━━━━━━━━━━━━━━━━━\u001b[0m \u001b[32m84.0/84.0 kB\u001b[0m \u001b[31m870.1 kB/s\u001b[0m eta \u001b[36m0:00:00\u001b[0ma \u001b[36m0:00:01\u001b[0m\n",
      "\u001b[?25hCollecting sacrebleu\n",
      "  Downloading sacrebleu-2.4.3-py3-none-any.whl (103 kB)\n",
      "\u001b[2K     \u001b[90m━━━━━━━━━━━━━━━━━━━━━━━━━━━━━━━━━━━━━━━\u001b[0m \u001b[32m104.0/104.0 kB\u001b[0m \u001b[31m2.1 MB/s\u001b[0m eta \u001b[36m0:00:00\u001b[0ma \u001b[36m0:00:01\u001b[0m\n",
      "\u001b[?25hRequirement already satisfied: datasets>=2.0.0 in /opt/conda/lib/python3.10/site-packages (from evaluate) (2.1.0)\n",
      "Requirement already satisfied: numpy>=1.17 in /opt/conda/lib/python3.10/site-packages (from evaluate) (1.23.5)\n",
      "Requirement already satisfied: dill in /opt/conda/lib/python3.10/site-packages (from evaluate) (0.3.6)\n",
      "Requirement already satisfied: pandas in /opt/conda/lib/python3.10/site-packages (from evaluate) (1.5.3)\n",
      "Requirement already satisfied: requests>=2.19.0 in /opt/conda/lib/python3.10/site-packages (from evaluate) (2.31.0)\n",
      "Requirement already satisfied: tqdm>=4.62.1 in /opt/conda/lib/python3.10/site-packages (from evaluate) (4.65.0)\n",
      "Requirement already satisfied: xxhash in /opt/conda/lib/python3.10/site-packages (from evaluate) (3.2.0)\n",
      "Requirement already satisfied: multiprocess in /opt/conda/lib/python3.10/site-packages (from evaluate) (0.70.14)\n",
      "Requirement already satisfied: fsspec[http]>=2021.05.0 in /opt/conda/lib/python3.10/site-packages (from evaluate) (2023.6.0)\n",
      "Requirement already satisfied: huggingface-hub>=0.7.0 in /opt/conda/lib/python3.10/site-packages (from evaluate) (0.16.4)\n",
      "Requirement already satisfied: packaging in /opt/conda/lib/python3.10/site-packages (from evaluate) (21.3)\n",
      "Collecting portalocker (from sacrebleu)\n",
      "  Downloading portalocker-2.10.1-py3-none-any.whl (18 kB)\n",
      "Requirement already satisfied: regex in /opt/conda/lib/python3.10/site-packages (from sacrebleu) (2023.6.3)\n",
      "Requirement already satisfied: tabulate>=0.8.9 in /opt/conda/lib/python3.10/site-packages (from sacrebleu) (0.9.0)\n",
      "Requirement already satisfied: colorama in /opt/conda/lib/python3.10/site-packages (from sacrebleu) (0.4.6)\n",
      "Requirement already satisfied: lxml in /opt/conda/lib/python3.10/site-packages (from sacrebleu) (4.9.3)\n",
      "Requirement already satisfied: pyarrow>=5.0.0 in /opt/conda/lib/python3.10/site-packages (from datasets>=2.0.0->evaluate) (11.0.0)\n",
      "Requirement already satisfied: aiohttp in /opt/conda/lib/python3.10/site-packages (from datasets>=2.0.0->evaluate) (3.8.4)\n",
      "Requirement already satisfied: responses<0.19 in /opt/conda/lib/python3.10/site-packages (from datasets>=2.0.0->evaluate) (0.18.0)\n",
      "Requirement already satisfied: filelock in /opt/conda/lib/python3.10/site-packages (from huggingface-hub>=0.7.0->evaluate) (3.12.2)\n",
      "Requirement already satisfied: pyyaml>=5.1 in /opt/conda/lib/python3.10/site-packages (from huggingface-hub>=0.7.0->evaluate) (6.0)\n",
      "Requirement already satisfied: typing-extensions>=3.7.4.3 in /opt/conda/lib/python3.10/site-packages (from huggingface-hub>=0.7.0->evaluate) (4.6.3)\n",
      "Requirement already satisfied: pyparsing!=3.0.5,>=2.0.2 in /opt/conda/lib/python3.10/site-packages (from packaging->evaluate) (3.0.9)\n",
      "Requirement already satisfied: charset-normalizer<4,>=2 in /opt/conda/lib/python3.10/site-packages (from requests>=2.19.0->evaluate) (3.1.0)\n",
      "Requirement already satisfied: idna<4,>=2.5 in /opt/conda/lib/python3.10/site-packages (from requests>=2.19.0->evaluate) (3.4)\n",
      "Requirement already satisfied: urllib3<3,>=1.21.1 in /opt/conda/lib/python3.10/site-packages (from requests>=2.19.0->evaluate) (1.26.15)\n",
      "Requirement already satisfied: certifi>=2017.4.17 in /opt/conda/lib/python3.10/site-packages (from requests>=2.19.0->evaluate) (2023.5.7)\n",
      "Requirement already satisfied: python-dateutil>=2.8.1 in /opt/conda/lib/python3.10/site-packages (from pandas->evaluate) (2.8.2)\n",
      "Requirement already satisfied: pytz>=2020.1 in /opt/conda/lib/python3.10/site-packages (from pandas->evaluate) (2023.3)\n",
      "Requirement already satisfied: attrs>=17.3.0 in /opt/conda/lib/python3.10/site-packages (from aiohttp->datasets>=2.0.0->evaluate) (23.1.0)\n",
      "Requirement already satisfied: multidict<7.0,>=4.5 in /opt/conda/lib/python3.10/site-packages (from aiohttp->datasets>=2.0.0->evaluate) (6.0.4)\n",
      "Requirement already satisfied: async-timeout<5.0,>=4.0.0a3 in /opt/conda/lib/python3.10/site-packages (from aiohttp->datasets>=2.0.0->evaluate) (4.0.2)\n",
      "Requirement already satisfied: yarl<2.0,>=1.0 in /opt/conda/lib/python3.10/site-packages (from aiohttp->datasets>=2.0.0->evaluate) (1.9.2)\n",
      "Requirement already satisfied: frozenlist>=1.1.1 in /opt/conda/lib/python3.10/site-packages (from aiohttp->datasets>=2.0.0->evaluate) (1.3.3)\n",
      "Requirement already satisfied: aiosignal>=1.1.2 in /opt/conda/lib/python3.10/site-packages (from aiohttp->datasets>=2.0.0->evaluate) (1.3.1)\n",
      "Requirement already satisfied: six>=1.5 in /opt/conda/lib/python3.10/site-packages (from python-dateutil>=2.8.1->pandas->evaluate) (1.16.0)\n",
      "Installing collected packages: portalocker, sacrebleu, evaluate\n",
      "Successfully installed evaluate-0.4.3 portalocker-2.10.1 sacrebleu-2.4.3\n"
     ]
    }
   ],
   "source": [
    "!pip install evaluate sacrebleu"
   ]
  },
  {
   "cell_type": "code",
   "execution_count": 48,
   "metadata": {
    "execution": {
     "iopub.execute_input": "2024-09-25T16:28:47.042574Z",
     "iopub.status.busy": "2024-09-25T16:28:47.042246Z",
     "iopub.status.idle": "2024-09-25T16:28:47.081083Z",
     "shell.execute_reply": "2024-09-25T16:28:47.080180Z",
     "shell.execute_reply.started": "2024-09-25T16:28:47.042545Z"
    },
    "trusted": true
   },
   "outputs": [
    {
     "data": {
      "application/vnd.jupyter.widget-view+json": {
       "model_id": "f3e42ec06564401b9159d12ca3bc251f",
       "version_major": 2,
       "version_minor": 0
      },
      "text/plain": [
       "VBox(children=(HTML(value='<center> <img\\nsrc=https://huggingface.co/front/assets/huggingface_logo-noborder.sv…"
      ]
     },
     "metadata": {},
     "output_type": "display_data"
    }
   ],
   "source": [
    "from huggingface_hub import notebook_login\n",
    "notebook_login()"
   ]
  },
  {
   "cell_type": "code",
   "execution_count": 49,
   "metadata": {
    "execution": {
     "iopub.execute_input": "2024-09-25T16:28:58.595064Z",
     "iopub.status.busy": "2024-09-25T16:28:58.594703Z",
     "iopub.status.idle": "2024-09-25T16:29:00.532813Z",
     "shell.execute_reply": "2024-09-25T16:29:00.532074Z",
     "shell.execute_reply.started": "2024-09-25T16:28:58.595036Z"
    },
    "trusted": true
   },
   "outputs": [
    {
     "data": {
      "application/vnd.jupyter.widget-view+json": {
       "model_id": "2549b8cd9a1f4300aa1097cc39935341",
       "version_major": 2,
       "version_minor": 0
      },
      "text/plain": [
       "Downloading data files:   0%|          | 0/1 [00:00<?, ?it/s]"
      ]
     },
     "metadata": {},
     "output_type": "display_data"
    },
    {
     "data": {
      "application/vnd.jupyter.widget-view+json": {
       "model_id": "36bba8a4faf4417b8065dfb4e29405b0",
       "version_major": 2,
       "version_minor": 0
      },
      "text/plain": [
       "Extracting data files:   0%|          | 0/1 [00:00<?, ?it/s]"
      ]
     },
     "metadata": {},
     "output_type": "display_data"
    },
    {
     "name": "stderr",
     "output_type": "stream",
     "text": [
      "/opt/conda/lib/python3.10/site-packages/datasets/packaged_modules/csv/csv.py:154: FutureWarning: the 'mangle_dupe_cols' keyword is deprecated and will be removed in a future version. Please take steps to stop the use of 'mangle_dupe_cols'\n",
      "  csv_file_reader = pd.read_csv(file, iterator=True, dtype=dtype, **self.config.read_csv_kwargs)\n"
     ]
    },
    {
     "data": {
      "application/vnd.jupyter.widget-view+json": {
       "model_id": "ed434509d61444f8acb3829637fb7acf",
       "version_major": 2,
       "version_minor": 0
      },
      "text/plain": [
       "  0%|          | 0/1 [00:00<?, ?it/s]"
      ]
     },
     "metadata": {},
     "output_type": "display_data"
    },
    {
     "data": {
      "text/plain": [
       "DatasetDict({\n",
       "    train: Dataset({\n",
       "        features: ['English words/sentences', 'French words/sentences'],\n",
       "        num_rows: 175621\n",
       "    })\n",
       "})"
      ]
     },
     "execution_count": 49,
     "metadata": {},
     "output_type": "execute_result"
    }
   ],
   "source": [
    "# Convert dataframe to datasets format\n",
    "\n",
    "from datasets import load_dataset\n",
    "df_copy.to_csv(\"df.csv\",index=None) # save dataframe\n",
    "\n",
    "raw_datasets = load_dataset(\"csv\",data_files=\"df.csv\")\n",
    "raw_datasets"
   ]
  },
  {
   "cell_type": "code",
   "execution_count": 50,
   "metadata": {
    "execution": {
     "iopub.execute_input": "2024-09-25T16:29:00.534796Z",
     "iopub.status.busy": "2024-09-25T16:29:00.534479Z",
     "iopub.status.idle": "2024-09-25T16:29:00.617697Z",
     "shell.execute_reply": "2024-09-25T16:29:00.617020Z",
     "shell.execute_reply.started": "2024-09-25T16:29:00.534770Z"
    },
    "trusted": true
   },
   "outputs": [
    {
     "data": {
      "text/plain": [
       "DatasetDict({\n",
       "    train: Dataset({\n",
       "        features: ['English words/sentences', 'French words/sentences'],\n",
       "        num_rows: 140496\n",
       "    })\n",
       "    test: Dataset({\n",
       "        features: ['English words/sentences', 'French words/sentences'],\n",
       "        num_rows: 35125\n",
       "    })\n",
       "})"
      ]
     },
     "execution_count": 50,
     "metadata": {},
     "output_type": "execute_result"
    }
   ],
   "source": [
    "# Split raw dataset into train and test\n",
    "\n",
    "split = raw_datasets['train'].train_test_split(train_size=0.8,seed=42)\n",
    "split"
   ]
  },
  {
   "cell_type": "code",
   "execution_count": 51,
   "metadata": {
    "execution": {
     "iopub.execute_input": "2024-09-25T16:29:03.970706Z",
     "iopub.status.busy": "2024-09-25T16:29:03.970248Z",
     "iopub.status.idle": "2024-09-25T16:29:06.493321Z",
     "shell.execute_reply": "2024-09-25T16:29:06.492571Z",
     "shell.execute_reply.started": "2024-09-25T16:29:03.970671Z"
    },
    "trusted": true
   },
   "outputs": [
    {
     "data": {
      "application/vnd.jupyter.widget-view+json": {
       "model_id": "48c198f9c78947759c383dae7945d65a",
       "version_major": 2,
       "version_minor": 0
      },
      "text/plain": [
       "Downloading tokenizer_config.json:   0%|          | 0.00/2.32k [00:00<?, ?B/s]"
      ]
     },
     "metadata": {},
     "output_type": "display_data"
    },
    {
     "data": {
      "application/vnd.jupyter.widget-view+json": {
       "model_id": "0478edb8bae44e4291985b071f0249d3",
       "version_major": 2,
       "version_minor": 0
      },
      "text/plain": [
       "Downloading spiece.model:   0%|          | 0.00/792k [00:00<?, ?B/s]"
      ]
     },
     "metadata": {},
     "output_type": "display_data"
    },
    {
     "data": {
      "application/vnd.jupyter.widget-view+json": {
       "model_id": "f19031f6ed4c4db98af8d441f0a4d845",
       "version_major": 2,
       "version_minor": 0
      },
      "text/plain": [
       "Downloading tokenizer.json:   0%|          | 0.00/1.39M [00:00<?, ?B/s]"
      ]
     },
     "metadata": {},
     "output_type": "display_data"
    }
   ],
   "source": [
    "# Define tokenizer\n",
    "\n",
    "from transformers import AutoTokenizer\n",
    "\n",
    "checkpoint = \"t5-small\"\n",
    "tokenizer = AutoTokenizer.from_pretrained(checkpoint)"
   ]
  },
  {
   "cell_type": "code",
   "execution_count": 52,
   "metadata": {
    "execution": {
     "iopub.execute_input": "2024-09-25T16:29:06.495698Z",
     "iopub.status.busy": "2024-09-25T16:29:06.495293Z",
     "iopub.status.idle": "2024-09-25T16:29:06.501262Z",
     "shell.execute_reply": "2024-09-25T16:29:06.500428Z",
     "shell.execute_reply.started": "2024-09-25T16:29:06.495663Z"
    },
    "trusted": true
   },
   "outputs": [],
   "source": [
    "# Tokenizing function\n",
    "\n",
    "prefix = \"translate English to French: \"\n",
    "\n",
    "def preprocess_function(batch):\n",
    "    inputs = [prefix + doc for doc in batch[\"English words/sentences\"]]\n",
    "    targets = [doc for doc in batch[\"French words/sentences\"]]\n",
    "    model_inputs = tokenizer(inputs, text_target=targets, max_length=128, truncation=True)\n",
    "    return model_inputs"
   ]
  },
  {
   "cell_type": "code",
   "execution_count": 53,
   "metadata": {
    "execution": {
     "iopub.execute_input": "2024-09-25T16:29:06.898352Z",
     "iopub.status.busy": "2024-09-25T16:29:06.897992Z",
     "iopub.status.idle": "2024-09-25T16:29:30.894765Z",
     "shell.execute_reply": "2024-09-25T16:29:30.893963Z",
     "shell.execute_reply.started": "2024-09-25T16:29:06.898321Z"
    },
    "trusted": true
   },
   "outputs": [
    {
     "data": {
      "application/vnd.jupyter.widget-view+json": {
       "model_id": "7fb1f013651c435f8b54d97a81f544b8",
       "version_major": 2,
       "version_minor": 0
      },
      "text/plain": [
       "  0%|          | 0/141 [00:00<?, ?ba/s]"
      ]
     },
     "metadata": {},
     "output_type": "display_data"
    },
    {
     "data": {
      "application/vnd.jupyter.widget-view+json": {
       "model_id": "294a4c02491e4927a076b16cdff0f5c1",
       "version_major": 2,
       "version_minor": 0
      },
      "text/plain": [
       "  0%|          | 0/36 [00:00<?, ?ba/s]"
      ]
     },
     "metadata": {},
     "output_type": "display_data"
    },
    {
     "data": {
      "text/plain": [
       "DatasetDict({\n",
       "    train: Dataset({\n",
       "        features: ['English words/sentences', 'French words/sentences', 'input_ids', 'attention_mask', 'labels'],\n",
       "        num_rows: 140496\n",
       "    })\n",
       "    test: Dataset({\n",
       "        features: ['English words/sentences', 'French words/sentences', 'input_ids', 'attention_mask', 'labels'],\n",
       "        num_rows: 35125\n",
       "    })\n",
       "})"
      ]
     },
     "execution_count": 53,
     "metadata": {},
     "output_type": "execute_result"
    }
   ],
   "source": [
    "tokenized_dataset = split.map(preprocess_function, batched=True)\n",
    "tokenized_dataset"
   ]
  },
  {
   "cell_type": "code",
   "execution_count": 54,
   "metadata": {
    "execution": {
     "iopub.execute_input": "2024-09-25T16:29:30.896785Z",
     "iopub.status.busy": "2024-09-25T16:29:30.896485Z",
     "iopub.status.idle": "2024-09-25T16:29:30.900977Z",
     "shell.execute_reply": "2024-09-25T16:29:30.900282Z",
     "shell.execute_reply.started": "2024-09-25T16:29:30.896760Z"
    },
    "trusted": true
   },
   "outputs": [],
   "source": [
    "# Dynamic Padding\n",
    "\n",
    "from transformers import DataCollatorForSeq2Seq\n",
    "\n",
    "data_collator = DataCollatorForSeq2Seq(tokenizer=tokenizer, model=checkpoint)"
   ]
  },
  {
   "cell_type": "code",
   "execution_count": 55,
   "metadata": {
    "execution": {
     "iopub.execute_input": "2024-09-25T16:29:30.902899Z",
     "iopub.status.busy": "2024-09-25T16:29:30.902599Z",
     "iopub.status.idle": "2024-09-25T16:29:31.927163Z",
     "shell.execute_reply": "2024-09-25T16:29:31.925793Z",
     "shell.execute_reply.started": "2024-09-25T16:29:30.902876Z"
    },
    "trusted": true
   },
   "outputs": [
    {
     "data": {
      "text/html": [
       "<pre style=\"white-space:pre;overflow-x:auto;line-height:normal;font-family:Menlo,'DejaVu Sans Mono',consolas,'Courier New',monospace\"><span style=\"color: #800000; text-decoration-color: #800000\">╭─────────────────────────────── </span><span style=\"color: #800000; text-decoration-color: #800000; font-weight: bold\">Traceback </span><span style=\"color: #bf7f7f; text-decoration-color: #bf7f7f; font-weight: bold\">(most recent call last)</span><span style=\"color: #800000; text-decoration-color: #800000\"> ────────────────────────────────╮</span>\n",
       "<span style=\"color: #800000; text-decoration-color: #800000\">│</span> in <span style=\"color: #00ff00; text-decoration-color: #00ff00\">&lt;module&gt;</span>:<span style=\"color: #0000ff; text-decoration-color: #0000ff\">4</span>                                                                                    <span style=\"color: #800000; text-decoration-color: #800000\">│</span>\n",
       "<span style=\"color: #800000; text-decoration-color: #800000\">│</span>                                                                                                  <span style=\"color: #800000; text-decoration-color: #800000\">│</span>\n",
       "<span style=\"color: #800000; text-decoration-color: #800000\">│</span>   <span style=\"color: #7f7f7f; text-decoration-color: #7f7f7f\"> 1 # Evaluate</span>                                                                                  <span style=\"color: #800000; text-decoration-color: #800000\">│</span>\n",
       "<span style=\"color: #800000; text-decoration-color: #800000\">│</span>   <span style=\"color: #7f7f7f; text-decoration-color: #7f7f7f\"> 2 </span>                                                                                            <span style=\"color: #800000; text-decoration-color: #800000\">│</span>\n",
       "<span style=\"color: #800000; text-decoration-color: #800000\">│</span>   <span style=\"color: #7f7f7f; text-decoration-color: #7f7f7f\"> 3 </span><span style=\"color: #0000ff; text-decoration-color: #0000ff\">import</span> <span style=\"color: #00ffff; text-decoration-color: #00ffff; text-decoration: underline\">evaluate</span>                                                                             <span style=\"color: #800000; text-decoration-color: #800000\">│</span>\n",
       "<span style=\"color: #800000; text-decoration-color: #800000\">│</span> <span style=\"color: #800000; text-decoration-color: #800000\">❱ </span> 4 metric = evaluate.load(<span style=\"color: #808000; text-decoration-color: #808000\">\"sacrebleu\"</span>)                                                         <span style=\"color: #800000; text-decoration-color: #800000\">│</span>\n",
       "<span style=\"color: #800000; text-decoration-color: #800000\">│</span>   <span style=\"color: #7f7f7f; text-decoration-color: #7f7f7f\"> 5 </span>                                                                                            <span style=\"color: #800000; text-decoration-color: #800000\">│</span>\n",
       "<span style=\"color: #800000; text-decoration-color: #800000\">│</span>   <span style=\"color: #7f7f7f; text-decoration-color: #7f7f7f\"> 6 </span>                                                                                            <span style=\"color: #800000; text-decoration-color: #800000\">│</span>\n",
       "<span style=\"color: #800000; text-decoration-color: #800000\">│</span>   <span style=\"color: #7f7f7f; text-decoration-color: #7f7f7f\"> 7 </span><span style=\"color: #0000ff; text-decoration-color: #0000ff\">def</span> <span style=\"color: #00ff00; text-decoration-color: #00ff00\">postprocess_text</span>(preds, labels):                                                        <span style=\"color: #800000; text-decoration-color: #800000\">│</span>\n",
       "<span style=\"color: #800000; text-decoration-color: #800000\">│</span>                                                                                                  <span style=\"color: #800000; text-decoration-color: #800000\">│</span>\n",
       "<span style=\"color: #800000; text-decoration-color: #800000\">│</span> <span style=\"color: #bfbf7f; text-decoration-color: #bfbf7f\">/opt/conda/lib/python3.10/site-packages/evaluate/</span><span style=\"color: #808000; text-decoration-color: #808000; font-weight: bold\">loading.py</span>:<span style=\"color: #0000ff; text-decoration-color: #0000ff\">748</span> in <span style=\"color: #00ff00; text-decoration-color: #00ff00\">load</span>                          <span style=\"color: #800000; text-decoration-color: #800000\">│</span>\n",
       "<span style=\"color: #800000; text-decoration-color: #800000\">│</span>                                                                                                  <span style=\"color: #800000; text-decoration-color: #800000\">│</span>\n",
       "<span style=\"color: #800000; text-decoration-color: #800000\">│</span>   <span style=\"color: #7f7f7f; text-decoration-color: #7f7f7f\">745 </span><span style=\"color: #bfbf7f; text-decoration-color: #bfbf7f\">│   │   </span><span style=\"color: #808000; text-decoration-color: #808000\">```</span>                                                                                <span style=\"color: #800000; text-decoration-color: #800000\">│</span>\n",
       "<span style=\"color: #800000; text-decoration-color: #800000\">│</span>   <span style=\"color: #7f7f7f; text-decoration-color: #7f7f7f\">746 </span><span style=\"color: #bfbf7f; text-decoration-color: #bfbf7f\">│   </span><span style=\"color: #808000; text-decoration-color: #808000\">\"\"\"</span>                                                                                    <span style=\"color: #800000; text-decoration-color: #800000\">│</span>\n",
       "<span style=\"color: #800000; text-decoration-color: #800000\">│</span>   <span style=\"color: #7f7f7f; text-decoration-color: #7f7f7f\">747 </span><span style=\"color: #7f7f7f; text-decoration-color: #7f7f7f\">│   </span>download_mode = DownloadMode(download_mode <span style=\"color: #ff00ff; text-decoration-color: #ff00ff\">or</span> DownloadMode.REUSE_DATASET_IF_EXISTS)    <span style=\"color: #800000; text-decoration-color: #800000\">│</span>\n",
       "<span style=\"color: #800000; text-decoration-color: #800000\">│</span> <span style=\"color: #800000; text-decoration-color: #800000\">❱ </span>748 <span style=\"color: #7f7f7f; text-decoration-color: #7f7f7f\">│   </span>evaluation_module = evaluation_module_factory(                                         <span style=\"color: #800000; text-decoration-color: #800000\">│</span>\n",
       "<span style=\"color: #800000; text-decoration-color: #800000\">│</span>   <span style=\"color: #7f7f7f; text-decoration-color: #7f7f7f\">749 </span><span style=\"color: #7f7f7f; text-decoration-color: #7f7f7f\">│   │   </span>path, module_type=module_type, revision=revision, download_config=download_confi   <span style=\"color: #800000; text-decoration-color: #800000\">│</span>\n",
       "<span style=\"color: #800000; text-decoration-color: #800000\">│</span>   <span style=\"color: #7f7f7f; text-decoration-color: #7f7f7f\">750 </span><span style=\"color: #7f7f7f; text-decoration-color: #7f7f7f\">│   </span>)                                                                                      <span style=\"color: #800000; text-decoration-color: #800000\">│</span>\n",
       "<span style=\"color: #800000; text-decoration-color: #800000\">│</span>   <span style=\"color: #7f7f7f; text-decoration-color: #7f7f7f\">751 </span><span style=\"color: #7f7f7f; text-decoration-color: #7f7f7f\">│   </span>evaluation_cls = import_main_class(evaluation_module.module_path)                      <span style=\"color: #800000; text-decoration-color: #800000\">│</span>\n",
       "<span style=\"color: #800000; text-decoration-color: #800000\">│</span>                                                                                                  <span style=\"color: #800000; text-decoration-color: #800000\">│</span>\n",
       "<span style=\"color: #800000; text-decoration-color: #800000\">│</span> <span style=\"color: #bfbf7f; text-decoration-color: #bfbf7f\">/opt/conda/lib/python3.10/site-packages/evaluate/</span><span style=\"color: #808000; text-decoration-color: #808000; font-weight: bold\">loading.py</span>:<span style=\"color: #0000ff; text-decoration-color: #0000ff\">680</span> in <span style=\"color: #00ff00; text-decoration-color: #00ff00\">evaluation_module_factory</span>     <span style=\"color: #800000; text-decoration-color: #800000\">│</span>\n",
       "<span style=\"color: #800000; text-decoration-color: #800000\">│</span>                                                                                                  <span style=\"color: #800000; text-decoration-color: #800000\">│</span>\n",
       "<span style=\"color: #800000; text-decoration-color: #800000\">│</span>   <span style=\"color: #7f7f7f; text-decoration-color: #7f7f7f\">677 </span><span style=\"color: #7f7f7f; text-decoration-color: #7f7f7f\">│   │   │   │   </span><span style=\"color: #0000ff; text-decoration-color: #0000ff\">except</span> <span style=\"color: #00ffff; text-decoration-color: #00ffff\">Exception</span> <span style=\"color: #0000ff; text-decoration-color: #0000ff\">as</span> e2:  <span style=\"color: #7f7f7f; text-decoration-color: #7f7f7f\"># noqa: if it's not in the cache, then it doesn</span>   <span style=\"color: #800000; text-decoration-color: #800000\">│</span>\n",
       "<span style=\"color: #800000; text-decoration-color: #800000\">│</span>   <span style=\"color: #7f7f7f; text-decoration-color: #7f7f7f\">678 </span><span style=\"color: #7f7f7f; text-decoration-color: #7f7f7f\">│   │   │   │   │   </span><span style=\"color: #0000ff; text-decoration-color: #0000ff\">pass</span>                                                                   <span style=\"color: #800000; text-decoration-color: #800000\">│</span>\n",
       "<span style=\"color: #800000; text-decoration-color: #800000\">│</span>   <span style=\"color: #7f7f7f; text-decoration-color: #7f7f7f\">679 </span><span style=\"color: #7f7f7f; text-decoration-color: #7f7f7f\">│   │   │   </span><span style=\"color: #0000ff; text-decoration-color: #0000ff\">if</span> <span style=\"color: #ff00ff; text-decoration-color: #ff00ff\">not</span> <span style=\"color: #00ffff; text-decoration-color: #00ffff\">isinstance</span>(e1, (<span style=\"color: #00ffff; text-decoration-color: #00ffff\">ConnectionError</span>, <span style=\"color: #00ffff; text-decoration-color: #00ffff\">FileNotFoundError</span>)):                   <span style=\"color: #800000; text-decoration-color: #800000\">│</span>\n",
       "<span style=\"color: #800000; text-decoration-color: #800000\">│</span> <span style=\"color: #800000; text-decoration-color: #800000\">❱ </span>680 <span style=\"color: #7f7f7f; text-decoration-color: #7f7f7f\">│   │   │   │   </span><span style=\"color: #0000ff; text-decoration-color: #0000ff\">raise</span> e1 <span style=\"color: #0000ff; text-decoration-color: #0000ff\">from</span> <span style=\"color: #0000ff; text-decoration-color: #0000ff\">None</span>                                                         <span style=\"color: #800000; text-decoration-color: #800000\">│</span>\n",
       "<span style=\"color: #800000; text-decoration-color: #800000\">│</span>   <span style=\"color: #7f7f7f; text-decoration-color: #7f7f7f\">681 </span><span style=\"color: #7f7f7f; text-decoration-color: #7f7f7f\">│   │   │   </span><span style=\"color: #0000ff; text-decoration-color: #0000ff\">raise</span> <span style=\"color: #00ffff; text-decoration-color: #00ffff\">FileNotFoundError</span>(                                                       <span style=\"color: #800000; text-decoration-color: #800000\">│</span>\n",
       "<span style=\"color: #800000; text-decoration-color: #800000\">│</span>   <span style=\"color: #7f7f7f; text-decoration-color: #7f7f7f\">682 </span><span style=\"color: #7f7f7f; text-decoration-color: #7f7f7f\">│   │   │   │   </span><span style=\"color: #808000; text-decoration-color: #808000\">f\"Couldn't find a module script at {</span>relative_to_absolute_path(combined_p   <span style=\"color: #800000; text-decoration-color: #800000\">│</span>\n",
       "<span style=\"color: #800000; text-decoration-color: #800000\">│</span>   <span style=\"color: #7f7f7f; text-decoration-color: #7f7f7f\">683 </span><span style=\"color: #7f7f7f; text-decoration-color: #7f7f7f\">│   │   │   │   </span><span style=\"color: #808000; text-decoration-color: #808000\">f\"Module '{</span>path<span style=\"color: #808000; text-decoration-color: #808000\">}' doesn't exist on the Hugging Face Hub either.\"</span>           <span style=\"color: #800000; text-decoration-color: #800000\">│</span>\n",
       "<span style=\"color: #800000; text-decoration-color: #800000\">│</span>                                                                                                  <span style=\"color: #800000; text-decoration-color: #800000\">│</span>\n",
       "<span style=\"color: #800000; text-decoration-color: #800000\">│</span> <span style=\"color: #bfbf7f; text-decoration-color: #bfbf7f\">/opt/conda/lib/python3.10/site-packages/evaluate/</span><span style=\"color: #808000; text-decoration-color: #808000; font-weight: bold\">loading.py</span>:<span style=\"color: #0000ff; text-decoration-color: #0000ff\">639</span> in <span style=\"color: #00ff00; text-decoration-color: #00ff00\">evaluation_module_factory</span>     <span style=\"color: #800000; text-decoration-color: #800000\">│</span>\n",
       "<span style=\"color: #800000; text-decoration-color: #800000\">│</span>                                                                                                  <span style=\"color: #800000; text-decoration-color: #800000\">│</span>\n",
       "<span style=\"color: #800000; text-decoration-color: #800000\">│</span>   <span style=\"color: #7f7f7f; text-decoration-color: #7f7f7f\">636 </span><span style=\"color: #7f7f7f; text-decoration-color: #7f7f7f\">│   │   │   │   │   │   │   │   </span>download_config=download_config,                           <span style=\"color: #800000; text-decoration-color: #800000\">│</span>\n",
       "<span style=\"color: #800000; text-decoration-color: #800000\">│</span>   <span style=\"color: #7f7f7f; text-decoration-color: #7f7f7f\">637 </span><span style=\"color: #7f7f7f; text-decoration-color: #7f7f7f\">│   │   │   │   │   │   │   │   </span>download_mode=download_mode,                               <span style=\"color: #800000; text-decoration-color: #800000\">│</span>\n",
       "<span style=\"color: #800000; text-decoration-color: #800000\">│</span>   <span style=\"color: #7f7f7f; text-decoration-color: #7f7f7f\">638 </span><span style=\"color: #7f7f7f; text-decoration-color: #7f7f7f\">│   │   │   │   │   │   │   │   </span>dynamic_modules_path=dynamic_modules_path,                 <span style=\"color: #800000; text-decoration-color: #800000\">│</span>\n",
       "<span style=\"color: #800000; text-decoration-color: #800000\">│</span> <span style=\"color: #800000; text-decoration-color: #800000\">❱ </span>639 <span style=\"color: #7f7f7f; text-decoration-color: #7f7f7f\">│   │   │   │   │   │   │   </span>).get_module()                                                 <span style=\"color: #800000; text-decoration-color: #800000\">│</span>\n",
       "<span style=\"color: #800000; text-decoration-color: #800000\">│</span>   <span style=\"color: #7f7f7f; text-decoration-color: #7f7f7f\">640 </span><span style=\"color: #7f7f7f; text-decoration-color: #7f7f7f\">│   │   │   │   │   │   </span><span style=\"color: #0000ff; text-decoration-color: #0000ff\">except</span> <span style=\"color: #00ffff; text-decoration-color: #00ffff\">ConnectionError</span>:                                            <span style=\"color: #800000; text-decoration-color: #800000\">│</span>\n",
       "<span style=\"color: #800000; text-decoration-color: #800000\">│</span>   <span style=\"color: #7f7f7f; text-decoration-color: #7f7f7f\">641 </span><span style=\"color: #7f7f7f; text-decoration-color: #7f7f7f\">│   │   │   │   │   │   │   </span><span style=\"color: #0000ff; text-decoration-color: #0000ff\">pass</span>                                                           <span style=\"color: #800000; text-decoration-color: #800000\">│</span>\n",
       "<span style=\"color: #800000; text-decoration-color: #800000\">│</span>   <span style=\"color: #7f7f7f; text-decoration-color: #7f7f7f\">642 </span><span style=\"color: #7f7f7f; text-decoration-color: #7f7f7f\">│   │   │   │   │   </span><span style=\"color: #0000ff; text-decoration-color: #0000ff\">raise</span> <span style=\"color: #00ffff; text-decoration-color: #00ffff\">FileNotFoundError</span>                                                <span style=\"color: #800000; text-decoration-color: #800000\">│</span>\n",
       "<span style=\"color: #800000; text-decoration-color: #800000\">│</span>                                                                                                  <span style=\"color: #800000; text-decoration-color: #800000\">│</span>\n",
       "<span style=\"color: #800000; text-decoration-color: #800000\">│</span> <span style=\"color: #bfbf7f; text-decoration-color: #bfbf7f\">/opt/conda/lib/python3.10/site-packages/evaluate/</span><span style=\"color: #808000; text-decoration-color: #808000; font-weight: bold\">loading.py</span>:<span style=\"color: #0000ff; text-decoration-color: #0000ff\">479</span> in <span style=\"color: #00ff00; text-decoration-color: #00ff00\">get_module</span>                    <span style=\"color: #800000; text-decoration-color: #800000\">│</span>\n",
       "<span style=\"color: #800000; text-decoration-color: #800000\">│</span>                                                                                                  <span style=\"color: #800000; text-decoration-color: #800000\">│</span>\n",
       "<span style=\"color: #800000; text-decoration-color: #800000\">│</span>   <span style=\"color: #7f7f7f; text-decoration-color: #7f7f7f\">476 </span><span style=\"color: #7f7f7f; text-decoration-color: #7f7f7f\">│   │   </span>                                                                                   <span style=\"color: #800000; text-decoration-color: #800000\">│</span>\n",
       "<span style=\"color: #800000; text-decoration-color: #800000\">│</span>   <span style=\"color: #7f7f7f; text-decoration-color: #7f7f7f\">477 </span><span style=\"color: #7f7f7f; text-decoration-color: #7f7f7f\">│   │   </span><span style=\"color: #7f7f7f; text-decoration-color: #7f7f7f\"># get script and other files</span>                                                       <span style=\"color: #800000; text-decoration-color: #800000\">│</span>\n",
       "<span style=\"color: #800000; text-decoration-color: #800000\">│</span>   <span style=\"color: #7f7f7f; text-decoration-color: #7f7f7f\">478 </span><span style=\"color: #7f7f7f; text-decoration-color: #7f7f7f\">│   │   </span><span style=\"color: #0000ff; text-decoration-color: #0000ff\">try</span>:                                                                               <span style=\"color: #800000; text-decoration-color: #800000\">│</span>\n",
       "<span style=\"color: #800000; text-decoration-color: #800000\">│</span> <span style=\"color: #800000; text-decoration-color: #800000\">❱ </span>479 <span style=\"color: #7f7f7f; text-decoration-color: #7f7f7f\">│   │   │   </span>local_path = <span style=\"color: #00ffff; text-decoration-color: #00ffff\">self</span>.download_loading_script(revision)                            <span style=\"color: #800000; text-decoration-color: #800000\">│</span>\n",
       "<span style=\"color: #800000; text-decoration-color: #800000\">│</span>   <span style=\"color: #7f7f7f; text-decoration-color: #7f7f7f\">480 </span><span style=\"color: #7f7f7f; text-decoration-color: #7f7f7f\">│   │   </span><span style=\"color: #0000ff; text-decoration-color: #0000ff\">except</span> <span style=\"color: #00ffff; text-decoration-color: #00ffff\">FileNotFoundError</span> <span style=\"color: #0000ff; text-decoration-color: #0000ff\">as</span> err:                                                   <span style=\"color: #800000; text-decoration-color: #800000\">│</span>\n",
       "<span style=\"color: #800000; text-decoration-color: #800000\">│</span>   <span style=\"color: #7f7f7f; text-decoration-color: #7f7f7f\">481 </span><span style=\"color: #7f7f7f; text-decoration-color: #7f7f7f\">│   │   │   </span><span style=\"color: #7f7f7f; text-decoration-color: #7f7f7f\"># if there is no file found with current revision tag try to load main</span>         <span style=\"color: #800000; text-decoration-color: #800000\">│</span>\n",
       "<span style=\"color: #800000; text-decoration-color: #800000\">│</span>   <span style=\"color: #7f7f7f; text-decoration-color: #7f7f7f\">482 </span><span style=\"color: #7f7f7f; text-decoration-color: #7f7f7f\">│   │   │   </span><span style=\"color: #0000ff; text-decoration-color: #0000ff\">if</span> <span style=\"color: #00ffff; text-decoration-color: #00ffff\">self</span>.revision <span style=\"color: #ff00ff; text-decoration-color: #ff00ff\">is</span> <span style=\"color: #0000ff; text-decoration-color: #0000ff\">None</span> <span style=\"color: #ff00ff; text-decoration-color: #ff00ff\">and</span> os.getenv(<span style=\"color: #808000; text-decoration-color: #808000\">\"HF_SCRIPTS_VERSION\"</span>, SCRIPTS_VERSION   <span style=\"color: #800000; text-decoration-color: #800000\">│</span>\n",
       "<span style=\"color: #800000; text-decoration-color: #800000\">│</span>                                                                                                  <span style=\"color: #800000; text-decoration-color: #800000\">│</span>\n",
       "<span style=\"color: #800000; text-decoration-color: #800000\">│</span> <span style=\"color: #bfbf7f; text-decoration-color: #bfbf7f\">/opt/conda/lib/python3.10/site-packages/evaluate/</span><span style=\"color: #808000; text-decoration-color: #808000; font-weight: bold\">loading.py</span>:<span style=\"color: #0000ff; text-decoration-color: #0000ff\">469</span> in <span style=\"color: #00ff00; text-decoration-color: #00ff00\">download_loading_script</span>       <span style=\"color: #800000; text-decoration-color: #800000\">│</span>\n",
       "<span style=\"color: #800000; text-decoration-color: #800000\">│</span>                                                                                                  <span style=\"color: #800000; text-decoration-color: #800000\">│</span>\n",
       "<span style=\"color: #800000; text-decoration-color: #800000\">│</span>   <span style=\"color: #7f7f7f; text-decoration-color: #7f7f7f\">466 </span><span style=\"color: #7f7f7f; text-decoration-color: #7f7f7f\">│   │   </span>download_config = <span style=\"color: #00ffff; text-decoration-color: #00ffff\">self</span>.download_config.copy()                                      <span style=\"color: #800000; text-decoration-color: #800000\">│</span>\n",
       "<span style=\"color: #800000; text-decoration-color: #800000\">│</span>   <span style=\"color: #7f7f7f; text-decoration-color: #7f7f7f\">467 </span><span style=\"color: #7f7f7f; text-decoration-color: #7f7f7f\">│   │   </span><span style=\"color: #0000ff; text-decoration-color: #0000ff\">if</span> download_config.download_desc <span style=\"color: #ff00ff; text-decoration-color: #ff00ff\">is</span> <span style=\"color: #0000ff; text-decoration-color: #0000ff\">None</span>:                                          <span style=\"color: #800000; text-decoration-color: #800000\">│</span>\n",
       "<span style=\"color: #800000; text-decoration-color: #800000\">│</span>   <span style=\"color: #7f7f7f; text-decoration-color: #7f7f7f\">468 </span><span style=\"color: #7f7f7f; text-decoration-color: #7f7f7f\">│   │   │   </span>download_config.download_desc = <span style=\"color: #808000; text-decoration-color: #808000\">\"Downloading builder script\"</span>                   <span style=\"color: #800000; text-decoration-color: #800000\">│</span>\n",
       "<span style=\"color: #800000; text-decoration-color: #800000\">│</span> <span style=\"color: #800000; text-decoration-color: #800000\">❱ </span>469 <span style=\"color: #7f7f7f; text-decoration-color: #7f7f7f\">│   │   </span><span style=\"color: #0000ff; text-decoration-color: #0000ff\">return</span> cached_path(file_path, download_config=download_config)                     <span style=\"color: #800000; text-decoration-color: #800000\">│</span>\n",
       "<span style=\"color: #800000; text-decoration-color: #800000\">│</span>   <span style=\"color: #7f7f7f; text-decoration-color: #7f7f7f\">470 </span><span style=\"color: #7f7f7f; text-decoration-color: #7f7f7f\">│   </span>                                                                                       <span style=\"color: #800000; text-decoration-color: #800000\">│</span>\n",
       "<span style=\"color: #800000; text-decoration-color: #800000\">│</span>   <span style=\"color: #7f7f7f; text-decoration-color: #7f7f7f\">471 </span><span style=\"color: #7f7f7f; text-decoration-color: #7f7f7f\">│   </span><span style=\"color: #0000ff; text-decoration-color: #0000ff\">def</span> <span style=\"color: #00ff00; text-decoration-color: #00ff00\">get_module</span>(<span style=\"color: #00ffff; text-decoration-color: #00ffff\">self</span>) -&gt; ImportableModule:                                              <span style=\"color: #800000; text-decoration-color: #800000\">│</span>\n",
       "<span style=\"color: #800000; text-decoration-color: #800000\">│</span>   <span style=\"color: #7f7f7f; text-decoration-color: #7f7f7f\">472 </span><span style=\"color: #7f7f7f; text-decoration-color: #7f7f7f\">│   │   </span>revision = <span style=\"color: #00ffff; text-decoration-color: #00ffff\">self</span>.revision <span style=\"color: #ff00ff; text-decoration-color: #ff00ff\">or</span> os.getenv(<span style=\"color: #808000; text-decoration-color: #808000\">\"HF_SCRIPTS_VERSION\"</span>, SCRIPTS_VERSION)       <span style=\"color: #800000; text-decoration-color: #800000\">│</span>\n",
       "<span style=\"color: #800000; text-decoration-color: #800000\">│</span>                                                                                                  <span style=\"color: #800000; text-decoration-color: #800000\">│</span>\n",
       "<span style=\"color: #800000; text-decoration-color: #800000\">│</span> <span style=\"color: #bfbf7f; text-decoration-color: #bfbf7f\">/opt/conda/lib/python3.10/site-packages/evaluate/utils/</span><span style=\"color: #808000; text-decoration-color: #808000; font-weight: bold\">file_utils.py</span>:<span style=\"color: #0000ff; text-decoration-color: #0000ff\">185</span> in <span style=\"color: #00ff00; text-decoration-color: #00ff00\">cached_path</span>          <span style=\"color: #800000; text-decoration-color: #800000\">│</span>\n",
       "<span style=\"color: #800000; text-decoration-color: #800000\">│</span>                                                                                                  <span style=\"color: #800000; text-decoration-color: #800000\">│</span>\n",
       "<span style=\"color: #800000; text-decoration-color: #800000\">│</span>   <span style=\"color: #7f7f7f; text-decoration-color: #7f7f7f\">182 </span><span style=\"color: #7f7f7f; text-decoration-color: #7f7f7f\">│   │   │   </span>local_files_only=download_config.local_files_only,                             <span style=\"color: #800000; text-decoration-color: #800000\">│</span>\n",
       "<span style=\"color: #800000; text-decoration-color: #800000\">│</span>   <span style=\"color: #7f7f7f; text-decoration-color: #7f7f7f\">183 </span><span style=\"color: #7f7f7f; text-decoration-color: #7f7f7f\">│   │   │   </span>use_etag=download_config.use_etag,                                             <span style=\"color: #800000; text-decoration-color: #800000\">│</span>\n",
       "<span style=\"color: #800000; text-decoration-color: #800000\">│</span>   <span style=\"color: #7f7f7f; text-decoration-color: #7f7f7f\">184 </span><span style=\"color: #7f7f7f; text-decoration-color: #7f7f7f\">│   │   │   </span>max_retries=download_config.max_retries,                                       <span style=\"color: #800000; text-decoration-color: #800000\">│</span>\n",
       "<span style=\"color: #800000; text-decoration-color: #800000\">│</span> <span style=\"color: #800000; text-decoration-color: #800000\">❱ </span>185 <span style=\"color: #7f7f7f; text-decoration-color: #7f7f7f\">│   │   │   </span>token=download_config.token,                                                   <span style=\"color: #800000; text-decoration-color: #800000\">│</span>\n",
       "<span style=\"color: #800000; text-decoration-color: #800000\">│</span>   <span style=\"color: #7f7f7f; text-decoration-color: #7f7f7f\">186 </span><span style=\"color: #7f7f7f; text-decoration-color: #7f7f7f\">│   │   │   </span>download_desc=download_config.download_desc,                                   <span style=\"color: #800000; text-decoration-color: #800000\">│</span>\n",
       "<span style=\"color: #800000; text-decoration-color: #800000\">│</span>   <span style=\"color: #7f7f7f; text-decoration-color: #7f7f7f\">187 </span><span style=\"color: #7f7f7f; text-decoration-color: #7f7f7f\">│   │   </span>)                                                                                  <span style=\"color: #800000; text-decoration-color: #800000\">│</span>\n",
       "<span style=\"color: #800000; text-decoration-color: #800000\">│</span>   <span style=\"color: #7f7f7f; text-decoration-color: #7f7f7f\">188 </span><span style=\"color: #7f7f7f; text-decoration-color: #7f7f7f\">│   </span><span style=\"color: #0000ff; text-decoration-color: #0000ff\">elif</span> os.path.exists(url_or_filename):                                                  <span style=\"color: #800000; text-decoration-color: #800000\">│</span>\n",
       "<span style=\"color: #800000; text-decoration-color: #800000\">╰──────────────────────────────────────────────────────────────────────────────────────────────────╯</span>\n",
       "<span style=\"color: #ff0000; text-decoration-color: #ff0000; font-weight: bold\">AttributeError: </span><span style=\"color: #008000; text-decoration-color: #008000\">'DownloadConfig'</span> object has no attribute <span style=\"color: #008000; text-decoration-color: #008000\">'token'</span>\n",
       "</pre>\n"
      ],
      "text/plain": [
       "\u001b[31m╭─\u001b[0m\u001b[31m──────────────────────────────\u001b[0m\u001b[31m \u001b[0m\u001b[1;31mTraceback \u001b[0m\u001b[1;2;31m(most recent call last)\u001b[0m\u001b[31m \u001b[0m\u001b[31m───────────────────────────────\u001b[0m\u001b[31m─╮\u001b[0m\n",
       "\u001b[31m│\u001b[0m in \u001b[92m<module>\u001b[0m:\u001b[94m4\u001b[0m                                                                                    \u001b[31m│\u001b[0m\n",
       "\u001b[31m│\u001b[0m                                                                                                  \u001b[31m│\u001b[0m\n",
       "\u001b[31m│\u001b[0m   \u001b[2m 1 \u001b[0m\u001b[2m# Evaluate\u001b[0m                                                                                  \u001b[31m│\u001b[0m\n",
       "\u001b[31m│\u001b[0m   \u001b[2m 2 \u001b[0m                                                                                            \u001b[31m│\u001b[0m\n",
       "\u001b[31m│\u001b[0m   \u001b[2m 3 \u001b[0m\u001b[94mimport\u001b[0m \u001b[4;96mevaluate\u001b[0m                                                                             \u001b[31m│\u001b[0m\n",
       "\u001b[31m│\u001b[0m \u001b[31m❱ \u001b[0m 4 metric = evaluate.load(\u001b[33m\"\u001b[0m\u001b[33msacrebleu\u001b[0m\u001b[33m\"\u001b[0m)                                                         \u001b[31m│\u001b[0m\n",
       "\u001b[31m│\u001b[0m   \u001b[2m 5 \u001b[0m                                                                                            \u001b[31m│\u001b[0m\n",
       "\u001b[31m│\u001b[0m   \u001b[2m 6 \u001b[0m                                                                                            \u001b[31m│\u001b[0m\n",
       "\u001b[31m│\u001b[0m   \u001b[2m 7 \u001b[0m\u001b[94mdef\u001b[0m \u001b[92mpostprocess_text\u001b[0m(preds, labels):                                                        \u001b[31m│\u001b[0m\n",
       "\u001b[31m│\u001b[0m                                                                                                  \u001b[31m│\u001b[0m\n",
       "\u001b[31m│\u001b[0m \u001b[2;33m/opt/conda/lib/python3.10/site-packages/evaluate/\u001b[0m\u001b[1;33mloading.py\u001b[0m:\u001b[94m748\u001b[0m in \u001b[92mload\u001b[0m                          \u001b[31m│\u001b[0m\n",
       "\u001b[31m│\u001b[0m                                                                                                  \u001b[31m│\u001b[0m\n",
       "\u001b[31m│\u001b[0m   \u001b[2m745 \u001b[0m\u001b[2;33m│   │   \u001b[0m\u001b[33m```\u001b[0m                                                                                \u001b[31m│\u001b[0m\n",
       "\u001b[31m│\u001b[0m   \u001b[2m746 \u001b[0m\u001b[2;33m│   \u001b[0m\u001b[33m\"\"\"\u001b[0m                                                                                    \u001b[31m│\u001b[0m\n",
       "\u001b[31m│\u001b[0m   \u001b[2m747 \u001b[0m\u001b[2m│   \u001b[0mdownload_mode = DownloadMode(download_mode \u001b[95mor\u001b[0m DownloadMode.REUSE_DATASET_IF_EXISTS)    \u001b[31m│\u001b[0m\n",
       "\u001b[31m│\u001b[0m \u001b[31m❱ \u001b[0m748 \u001b[2m│   \u001b[0mevaluation_module = evaluation_module_factory(                                         \u001b[31m│\u001b[0m\n",
       "\u001b[31m│\u001b[0m   \u001b[2m749 \u001b[0m\u001b[2m│   │   \u001b[0mpath, module_type=module_type, revision=revision, download_config=download_confi   \u001b[31m│\u001b[0m\n",
       "\u001b[31m│\u001b[0m   \u001b[2m750 \u001b[0m\u001b[2m│   \u001b[0m)                                                                                      \u001b[31m│\u001b[0m\n",
       "\u001b[31m│\u001b[0m   \u001b[2m751 \u001b[0m\u001b[2m│   \u001b[0mevaluation_cls = import_main_class(evaluation_module.module_path)                      \u001b[31m│\u001b[0m\n",
       "\u001b[31m│\u001b[0m                                                                                                  \u001b[31m│\u001b[0m\n",
       "\u001b[31m│\u001b[0m \u001b[2;33m/opt/conda/lib/python3.10/site-packages/evaluate/\u001b[0m\u001b[1;33mloading.py\u001b[0m:\u001b[94m680\u001b[0m in \u001b[92mevaluation_module_factory\u001b[0m     \u001b[31m│\u001b[0m\n",
       "\u001b[31m│\u001b[0m                                                                                                  \u001b[31m│\u001b[0m\n",
       "\u001b[31m│\u001b[0m   \u001b[2m677 \u001b[0m\u001b[2m│   │   │   │   \u001b[0m\u001b[94mexcept\u001b[0m \u001b[96mException\u001b[0m \u001b[94mas\u001b[0m e2:  \u001b[2m# noqa: if it's not in the cache, then it doesn\u001b[0m   \u001b[31m│\u001b[0m\n",
       "\u001b[31m│\u001b[0m   \u001b[2m678 \u001b[0m\u001b[2m│   │   │   │   │   \u001b[0m\u001b[94mpass\u001b[0m                                                                   \u001b[31m│\u001b[0m\n",
       "\u001b[31m│\u001b[0m   \u001b[2m679 \u001b[0m\u001b[2m│   │   │   \u001b[0m\u001b[94mif\u001b[0m \u001b[95mnot\u001b[0m \u001b[96misinstance\u001b[0m(e1, (\u001b[96mConnectionError\u001b[0m, \u001b[96mFileNotFoundError\u001b[0m)):                   \u001b[31m│\u001b[0m\n",
       "\u001b[31m│\u001b[0m \u001b[31m❱ \u001b[0m680 \u001b[2m│   │   │   │   \u001b[0m\u001b[94mraise\u001b[0m e1 \u001b[94mfrom\u001b[0m \u001b[94mNone\u001b[0m                                                         \u001b[31m│\u001b[0m\n",
       "\u001b[31m│\u001b[0m   \u001b[2m681 \u001b[0m\u001b[2m│   │   │   \u001b[0m\u001b[94mraise\u001b[0m \u001b[96mFileNotFoundError\u001b[0m(                                                       \u001b[31m│\u001b[0m\n",
       "\u001b[31m│\u001b[0m   \u001b[2m682 \u001b[0m\u001b[2m│   │   │   │   \u001b[0m\u001b[33mf\u001b[0m\u001b[33m\"\u001b[0m\u001b[33mCouldn\u001b[0m\u001b[33m'\u001b[0m\u001b[33mt find a module script at \u001b[0m\u001b[33m{\u001b[0mrelative_to_absolute_path(combined_p   \u001b[31m│\u001b[0m\n",
       "\u001b[31m│\u001b[0m   \u001b[2m683 \u001b[0m\u001b[2m│   │   │   │   \u001b[0m\u001b[33mf\u001b[0m\u001b[33m\"\u001b[0m\u001b[33mModule \u001b[0m\u001b[33m'\u001b[0m\u001b[33m{\u001b[0mpath\u001b[33m}\u001b[0m\u001b[33m'\u001b[0m\u001b[33m doesn\u001b[0m\u001b[33m'\u001b[0m\u001b[33mt exist on the Hugging Face Hub either.\u001b[0m\u001b[33m\"\u001b[0m           \u001b[31m│\u001b[0m\n",
       "\u001b[31m│\u001b[0m                                                                                                  \u001b[31m│\u001b[0m\n",
       "\u001b[31m│\u001b[0m \u001b[2;33m/opt/conda/lib/python3.10/site-packages/evaluate/\u001b[0m\u001b[1;33mloading.py\u001b[0m:\u001b[94m639\u001b[0m in \u001b[92mevaluation_module_factory\u001b[0m     \u001b[31m│\u001b[0m\n",
       "\u001b[31m│\u001b[0m                                                                                                  \u001b[31m│\u001b[0m\n",
       "\u001b[31m│\u001b[0m   \u001b[2m636 \u001b[0m\u001b[2m│   │   │   │   │   │   │   │   \u001b[0mdownload_config=download_config,                           \u001b[31m│\u001b[0m\n",
       "\u001b[31m│\u001b[0m   \u001b[2m637 \u001b[0m\u001b[2m│   │   │   │   │   │   │   │   \u001b[0mdownload_mode=download_mode,                               \u001b[31m│\u001b[0m\n",
       "\u001b[31m│\u001b[0m   \u001b[2m638 \u001b[0m\u001b[2m│   │   │   │   │   │   │   │   \u001b[0mdynamic_modules_path=dynamic_modules_path,                 \u001b[31m│\u001b[0m\n",
       "\u001b[31m│\u001b[0m \u001b[31m❱ \u001b[0m639 \u001b[2m│   │   │   │   │   │   │   \u001b[0m).get_module()                                                 \u001b[31m│\u001b[0m\n",
       "\u001b[31m│\u001b[0m   \u001b[2m640 \u001b[0m\u001b[2m│   │   │   │   │   │   \u001b[0m\u001b[94mexcept\u001b[0m \u001b[96mConnectionError\u001b[0m:                                            \u001b[31m│\u001b[0m\n",
       "\u001b[31m│\u001b[0m   \u001b[2m641 \u001b[0m\u001b[2m│   │   │   │   │   │   │   \u001b[0m\u001b[94mpass\u001b[0m                                                           \u001b[31m│\u001b[0m\n",
       "\u001b[31m│\u001b[0m   \u001b[2m642 \u001b[0m\u001b[2m│   │   │   │   │   \u001b[0m\u001b[94mraise\u001b[0m \u001b[96mFileNotFoundError\u001b[0m                                                \u001b[31m│\u001b[0m\n",
       "\u001b[31m│\u001b[0m                                                                                                  \u001b[31m│\u001b[0m\n",
       "\u001b[31m│\u001b[0m \u001b[2;33m/opt/conda/lib/python3.10/site-packages/evaluate/\u001b[0m\u001b[1;33mloading.py\u001b[0m:\u001b[94m479\u001b[0m in \u001b[92mget_module\u001b[0m                    \u001b[31m│\u001b[0m\n",
       "\u001b[31m│\u001b[0m                                                                                                  \u001b[31m│\u001b[0m\n",
       "\u001b[31m│\u001b[0m   \u001b[2m476 \u001b[0m\u001b[2m│   │   \u001b[0m                                                                                   \u001b[31m│\u001b[0m\n",
       "\u001b[31m│\u001b[0m   \u001b[2m477 \u001b[0m\u001b[2m│   │   \u001b[0m\u001b[2m# get script and other files\u001b[0m                                                       \u001b[31m│\u001b[0m\n",
       "\u001b[31m│\u001b[0m   \u001b[2m478 \u001b[0m\u001b[2m│   │   \u001b[0m\u001b[94mtry\u001b[0m:                                                                               \u001b[31m│\u001b[0m\n",
       "\u001b[31m│\u001b[0m \u001b[31m❱ \u001b[0m479 \u001b[2m│   │   │   \u001b[0mlocal_path = \u001b[96mself\u001b[0m.download_loading_script(revision)                            \u001b[31m│\u001b[0m\n",
       "\u001b[31m│\u001b[0m   \u001b[2m480 \u001b[0m\u001b[2m│   │   \u001b[0m\u001b[94mexcept\u001b[0m \u001b[96mFileNotFoundError\u001b[0m \u001b[94mas\u001b[0m err:                                                   \u001b[31m│\u001b[0m\n",
       "\u001b[31m│\u001b[0m   \u001b[2m481 \u001b[0m\u001b[2m│   │   │   \u001b[0m\u001b[2m# if there is no file found with current revision tag try to load main\u001b[0m         \u001b[31m│\u001b[0m\n",
       "\u001b[31m│\u001b[0m   \u001b[2m482 \u001b[0m\u001b[2m│   │   │   \u001b[0m\u001b[94mif\u001b[0m \u001b[96mself\u001b[0m.revision \u001b[95mis\u001b[0m \u001b[94mNone\u001b[0m \u001b[95mand\u001b[0m os.getenv(\u001b[33m\"\u001b[0m\u001b[33mHF_SCRIPTS_VERSION\u001b[0m\u001b[33m\"\u001b[0m, SCRIPTS_VERSION   \u001b[31m│\u001b[0m\n",
       "\u001b[31m│\u001b[0m                                                                                                  \u001b[31m│\u001b[0m\n",
       "\u001b[31m│\u001b[0m \u001b[2;33m/opt/conda/lib/python3.10/site-packages/evaluate/\u001b[0m\u001b[1;33mloading.py\u001b[0m:\u001b[94m469\u001b[0m in \u001b[92mdownload_loading_script\u001b[0m       \u001b[31m│\u001b[0m\n",
       "\u001b[31m│\u001b[0m                                                                                                  \u001b[31m│\u001b[0m\n",
       "\u001b[31m│\u001b[0m   \u001b[2m466 \u001b[0m\u001b[2m│   │   \u001b[0mdownload_config = \u001b[96mself\u001b[0m.download_config.copy()                                      \u001b[31m│\u001b[0m\n",
       "\u001b[31m│\u001b[0m   \u001b[2m467 \u001b[0m\u001b[2m│   │   \u001b[0m\u001b[94mif\u001b[0m download_config.download_desc \u001b[95mis\u001b[0m \u001b[94mNone\u001b[0m:                                          \u001b[31m│\u001b[0m\n",
       "\u001b[31m│\u001b[0m   \u001b[2m468 \u001b[0m\u001b[2m│   │   │   \u001b[0mdownload_config.download_desc = \u001b[33m\"\u001b[0m\u001b[33mDownloading builder script\u001b[0m\u001b[33m\"\u001b[0m                   \u001b[31m│\u001b[0m\n",
       "\u001b[31m│\u001b[0m \u001b[31m❱ \u001b[0m469 \u001b[2m│   │   \u001b[0m\u001b[94mreturn\u001b[0m cached_path(file_path, download_config=download_config)                     \u001b[31m│\u001b[0m\n",
       "\u001b[31m│\u001b[0m   \u001b[2m470 \u001b[0m\u001b[2m│   \u001b[0m                                                                                       \u001b[31m│\u001b[0m\n",
       "\u001b[31m│\u001b[0m   \u001b[2m471 \u001b[0m\u001b[2m│   \u001b[0m\u001b[94mdef\u001b[0m \u001b[92mget_module\u001b[0m(\u001b[96mself\u001b[0m) -> ImportableModule:                                              \u001b[31m│\u001b[0m\n",
       "\u001b[31m│\u001b[0m   \u001b[2m472 \u001b[0m\u001b[2m│   │   \u001b[0mrevision = \u001b[96mself\u001b[0m.revision \u001b[95mor\u001b[0m os.getenv(\u001b[33m\"\u001b[0m\u001b[33mHF_SCRIPTS_VERSION\u001b[0m\u001b[33m\"\u001b[0m, SCRIPTS_VERSION)       \u001b[31m│\u001b[0m\n",
       "\u001b[31m│\u001b[0m                                                                                                  \u001b[31m│\u001b[0m\n",
       "\u001b[31m│\u001b[0m \u001b[2;33m/opt/conda/lib/python3.10/site-packages/evaluate/utils/\u001b[0m\u001b[1;33mfile_utils.py\u001b[0m:\u001b[94m185\u001b[0m in \u001b[92mcached_path\u001b[0m          \u001b[31m│\u001b[0m\n",
       "\u001b[31m│\u001b[0m                                                                                                  \u001b[31m│\u001b[0m\n",
       "\u001b[31m│\u001b[0m   \u001b[2m182 \u001b[0m\u001b[2m│   │   │   \u001b[0mlocal_files_only=download_config.local_files_only,                             \u001b[31m│\u001b[0m\n",
       "\u001b[31m│\u001b[0m   \u001b[2m183 \u001b[0m\u001b[2m│   │   │   \u001b[0muse_etag=download_config.use_etag,                                             \u001b[31m│\u001b[0m\n",
       "\u001b[31m│\u001b[0m   \u001b[2m184 \u001b[0m\u001b[2m│   │   │   \u001b[0mmax_retries=download_config.max_retries,                                       \u001b[31m│\u001b[0m\n",
       "\u001b[31m│\u001b[0m \u001b[31m❱ \u001b[0m185 \u001b[2m│   │   │   \u001b[0mtoken=download_config.token,                                                   \u001b[31m│\u001b[0m\n",
       "\u001b[31m│\u001b[0m   \u001b[2m186 \u001b[0m\u001b[2m│   │   │   \u001b[0mdownload_desc=download_config.download_desc,                                   \u001b[31m│\u001b[0m\n",
       "\u001b[31m│\u001b[0m   \u001b[2m187 \u001b[0m\u001b[2m│   │   \u001b[0m)                                                                                  \u001b[31m│\u001b[0m\n",
       "\u001b[31m│\u001b[0m   \u001b[2m188 \u001b[0m\u001b[2m│   \u001b[0m\u001b[94melif\u001b[0m os.path.exists(url_or_filename):                                                  \u001b[31m│\u001b[0m\n",
       "\u001b[31m╰──────────────────────────────────────────────────────────────────────────────────────────────────╯\u001b[0m\n",
       "\u001b[1;91mAttributeError: \u001b[0m\u001b[32m'DownloadConfig'\u001b[0m object has no attribute \u001b[32m'token'\u001b[0m\n"
      ]
     },
     "metadata": {},
     "output_type": "display_data"
    }
   ],
   "source": [
    "# Evaluate\n",
    "\n",
    "import evaluate\n",
    "metric = evaluate.load(\"sacrebleu\")\n",
    "\n",
    "\n",
    "def postprocess_text(preds, labels):\n",
    "    preds = [pred.strip() for pred in preds]\n",
    "    labels = [[label.strip()] for label in labels]\n",
    "\n",
    "    return preds, labels\n",
    "\n",
    "\n",
    "def compute_metrics(eval_preds):\n",
    "    preds, labels = eval_preds\n",
    "    if isinstance(preds, tuple):\n",
    "        preds = preds[0]\n",
    "    decoded_preds = tokenizer.batch_decode(preds, skip_special_tokens=True)\n",
    "    labels = np.where(labels != -100, labels, tokenizer.pad_token_id)\n",
    "    decoded_labels = tokenizer.batch_decode(labels, skip_special_tokens=True)\n",
    "    decoded_preds, decoded_labels = postprocess_text(decoded_preds, decoded_labels)\n",
    "\n",
    "    result = metric.compute(predictions=decoded_preds, references=decoded_labels)\n",
    "    result = {\"bleu\": result[\"score\"]}\n",
    "\n",
    "    prediction_lens = [np.count_nonzero(pred != tokenizer.pad_token_id) for pred in preds]\n",
    "    result[\"gen_len\"] = np.mean(prediction_lens)\n",
    "    result = {k: round(v, 4) for k, v in result.items()}\n",
    "    return result"
   ]
  },
  {
   "cell_type": "code",
   "execution_count": null,
   "metadata": {
    "execution": {
     "iopub.status.busy": "2024-09-25T16:29:31.928096Z",
     "iopub.status.idle": "2024-09-25T16:29:31.928575Z",
     "shell.execute_reply": "2024-09-25T16:29:31.928345Z",
     "shell.execute_reply.started": "2024-09-25T16:29:31.928325Z"
    },
    "trusted": true
   },
   "outputs": [],
   "source": [
    "# Train\n",
    "\n",
    "from transformers import AutoModelForSeq2SeqLM, Seq2SeqTrainingArguments, Seq2SeqTrainer\n",
    "\n",
    "model = AutoModelForSeq2SeqLM.from_pretrained(checkpoint)"
   ]
  },
  {
   "cell_type": "code",
   "execution_count": null,
   "metadata": {
    "execution": {
     "iopub.status.busy": "2024-09-25T16:29:31.930053Z",
     "iopub.status.idle": "2024-09-25T16:29:31.930585Z",
     "shell.execute_reply": "2024-09-25T16:29:31.930314Z",
     "shell.execute_reply.started": "2024-09-25T16:29:31.930275Z"
    },
    "trusted": true
   },
   "outputs": [],
   "source": [
    "training_args = Seq2SeqTrainingArguments(\n",
    "    output_dir=\"en_fr_translation\",\n",
    "    evaluation_strategy=\"epoch\",\n",
    "    learning_rate=2e-5,\n",
    "    per_device_train_batch_size=16,\n",
    "    per_device_eval_batch_size=5,\n",
    "    weight_decay=0.01,\n",
    "    save_total_limit=3,\n",
    "    num_train_epochs=2,\n",
    "    predict_with_generate=True,\n",
    "    fp16=True,\n",
    "    push_to_hub=False,\n",
    ")\n",
    "\n",
    "trainer = Seq2SeqTrainer(\n",
    "    model=model,\n",
    "    args=training_args,\n",
    "    train_dataset=tokenized_dataset[\"train\"],\n",
    "    eval_dataset=tokenized_dataset[\"test\"],\n",
    "    tokenizer=tokenizer,\n",
    "    data_collator=data_collator,\n",
    "    compute_metrics=compute_metrics,\n",
    ")\n",
    "\n",
    "trainer.train()"
   ]
  },
  {
   "cell_type": "code",
   "execution_count": null,
   "metadata": {
    "execution": {
     "iopub.status.busy": "2024-09-25T16:10:10.891563Z",
     "iopub.status.idle": "2024-09-25T16:10:10.892020Z",
     "shell.execute_reply": "2024-09-25T16:10:10.891843Z",
     "shell.execute_reply.started": "2024-09-25T16:10:10.891805Z"
    },
    "trusted": true
   },
   "outputs": [],
   "source": [
    "# Predictions\n",
    "\n",
    "from transformers import pipeline\n",
    "\n",
    "savedmodel = pipeline(\"translation_en_to_fr\",model=\"/kaggle/working/en_fr_translation/checkpoint-8500\",device=0)"
   ]
  },
  {
   "cell_type": "code",
   "execution_count": null,
   "metadata": {
    "execution": {
     "iopub.status.busy": "2024-09-25T16:10:10.893807Z",
     "iopub.status.idle": "2024-09-25T16:10:10.894153Z",
     "shell.execute_reply": "2024-09-25T16:10:10.894001Z",
     "shell.execute_reply.started": "2024-09-25T16:10:10.893984Z"
    },
    "trusted": true
   },
   "outputs": [],
   "source": [
    "split['test']"
   ]
  },
  {
   "cell_type": "code",
   "execution_count": null,
   "metadata": {
    "execution": {
     "iopub.status.busy": "2024-09-25T16:10:10.895658Z",
     "iopub.status.idle": "2024-09-25T16:10:10.896012Z",
     "shell.execute_reply": "2024-09-25T16:10:10.895848Z",
     "shell.execute_reply.started": "2024-09-25T16:10:10.895832Z"
    },
    "trusted": true
   },
   "outputs": [],
   "source": [
    "test_prediction = savedmodel(split['test']['English words/sentences'][:10])"
   ]
  },
  {
   "cell_type": "code",
   "execution_count": null,
   "metadata": {
    "execution": {
     "iopub.status.busy": "2024-09-25T16:10:10.897535Z",
     "iopub.status.idle": "2024-09-25T16:10:10.897888Z",
     "shell.execute_reply": "2024-09-25T16:10:10.897740Z",
     "shell.execute_reply.started": "2024-09-25T16:10:10.897723Z"
    },
    "trusted": true
   },
   "outputs": [],
   "source": [
    "for i in range(10):\n",
    "    print(\"Original English text: \",split['test']['English words/sentences'][i])\n",
    "    print(\"Target French text: \",split['test']['French words/sentences'][i])\n",
    "    print(\"Translated en --> fr text: \",test_prediction[i]['translation_text'])\n",
    "    print('\\n')"
   ]
  },
  {
   "cell_type": "markdown",
   "metadata": {},
   "source": [
    "BLEU Score obtained is just 0.34. Spelling errors in data can greatly affect the bleu score. For example: Words \"**diront**\" and \"**direront**\" might be pronounced similarly in french but different spellings will give a bleu score of 0 since it compares the n-grams of translated text to original."
   ]
  }
 ],
 "metadata": {
  "kaggle": {
   "accelerator": "nvidiaTeslaT4",
   "dataSources": [
    {
     "datasetId": 592212,
     "sourceId": 1067156,
     "sourceType": "datasetVersion"
    }
   ],
   "dockerImageVersionId": 30528,
   "isGpuEnabled": true,
   "isInternetEnabled": true,
   "language": "python",
   "sourceType": "notebook"
  },
  "kernelspec": {
   "display_name": "venv",
   "language": "python",
   "name": "python3"
  },
  "language_info": {
   "codemirror_mode": {
    "name": "ipython",
    "version": 3
   },
   "file_extension": ".py",
   "mimetype": "text/x-python",
   "name": "python",
   "nbconvert_exporter": "python",
   "pygments_lexer": "ipython3",
   "version": "3.11.5"
  }
 },
 "nbformat": 4,
 "nbformat_minor": 4
}
